{
 "cells": [
  {
   "cell_type": "code",
   "execution_count": null,
   "metadata": {},
   "outputs": [],
   "source": []
  }
 ],
 "metadata": {
  "kernelspec": {
   "display_name": "Python 3",
   "language": "python",
   "name": "python3"
  },
  "language_info": {
   "name": "python",
   "version": "3.10.6"
  },
  "vscode": {
   "interpreter": {
    "hash": "881670f81ca901abbd7ebbedda0256a348e27f7fdf8f721595c61f2a6a1ea03e"
   }
  }
 },
 "nbformat": 4,
 "nbformat_minor": 5
}
