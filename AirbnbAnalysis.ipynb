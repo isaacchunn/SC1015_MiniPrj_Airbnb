{
  "nbformat": 4,
  "nbformat_minor": 0,
  "metadata": {
    "colab": {
      "provenance": [],
      "authorship_tag": "ABX9TyNgW/KxaWS636sxJxYQKnC6",
      "include_colab_link": true
    },
    "kernelspec": {
      "name": "python3",
      "display_name": "Python 3"
    },
    "language_info": {
      "name": "python"
    }
  },
  "cells": [
    {
      "cell_type": "markdown",
      "metadata": {
        "id": "view-in-github",
        "colab_type": "text"
      },
      "source": [
        "<a href=\"https://colab.research.google.com/github/isaacchunn/SC1015_MiniPrj_Airbnb/blob/main/AirbnbAnalysis.ipynb\" target=\"_parent\"><img src=\"https://colab.research.google.com/assets/colab-badge.svg\" alt=\"Open In Colab\"/></a>"
      ]
    },
    {
      "cell_type": "markdown",
      "source": [
        "### Airbnb Prediction in Python (change this later to some title)\n",
        "\n",
        "Dataset from Airbnb : **\"Singapore, 29 December 2022\"**  \n",
        "Source: http://insideairbnb.com/get-the-data/\n",
        "\n",
        "---\n",
        "\n",
        "### Essential Libraries\n",
        "\n",
        "Import essential libraries such as numpy, pandas, matplotlib and seaborn.\n",
        "\n",
        "> NumPy : Library for Numeric Computations in Python  \n",
        "> Pandas : Library for Data Acquisition and Preparation  \n",
        "> Matplotlib : Low-level library for Data Visualization  \n",
        "> Seaborn : Higher-level library for Data Visualization  "
      ],
      "metadata": {
        "id": "GZ1eg0w8LJ42"
      }
    },
    {
      "cell_type": "code",
      "execution_count": 7,
      "metadata": {
        "id": "hL7LJWhgJrsN"
      },
      "outputs": [],
      "source": [
        "#Basic libraries\n",
        "import numpy as np\n",
        "import pandas as pd\n",
        "import seaborn as sb\n",
        "import matplotlib.pyplot as plt #We only need pyplot\n",
        "sb.set() #Set the default Seaborn style for graphics"
      ]
    },
    {
      "cell_type": "markdown",
      "source": [
        "### Additional Libraries"
      ],
      "metadata": {
        "id": "5pDbWEh6L6sA"
      }
    },
    {
      "cell_type": "code",
      "source": [
        "from IPython import display"
      ],
      "metadata": {
        "id": "AxD0fh_dL-nM"
      },
      "execution_count": 3,
      "outputs": []
    },
    {
      "cell_type": "markdown",
      "source": [
        "#What is Airbnb?\n",
        "\n",
        "Airbnb, Inc. is an American San Francisco-based company operating an online marketplace for short-term homestays and experiences. The company acts as a broker and charges a commission from each booking. The company was founded in 2008 by Brian Chesky, Nathan Blecharczyk, and Joe Gebbia.\n",
        "\n",
        "\n"
      ],
      "metadata": {
        "id": "r4um65_2KDf0"
      }
    },
    {
      "cell_type": "code",
      "source": [
        "display.Image(\"https://mma.prnewswire.com/media/1121685/Airbnb_Logo.jpg\")"
      ],
      "metadata": {
        "colab": {
          "base_uri": "https://localhost:8080/",
          "height": 248
        },
        "id": "Z1Up4VkIMFip",
        "outputId": "a1dabd6f-f02c-4dd8-a09f-965eaa968d09"
      },
      "execution_count": 13,
      "outputs": [
        {
          "output_type": "execute_result",
          "data": {
            "image/jpeg": "[encoded data removed]",
            "text/plain": [
              "<IPython.core.display.Image object>"
            ]
          },
          "metadata": {},
          "execution_count": 13
        }
      ]
    },
    {
      "cell_type": "code",
      "source": [],
      "metadata": {
        "id": "EwwO_zejK9Uj"
      },
      "execution_count": null,
      "outputs": []
    }
  ]
}