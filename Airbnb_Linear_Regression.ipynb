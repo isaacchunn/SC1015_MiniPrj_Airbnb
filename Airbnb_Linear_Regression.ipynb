{
  "cells": [
    {
      "cell_type": "markdown",
      "metadata": {
        "id": "view-in-github",
        "colab_type": "text"
      },
      "source": [
        "<a href=\"https://colab.research.google.com/github/isaacchunn/SC1015_MiniPrj_Airbnb/blob/main/Airbnb_Linear_Regression.ipynb\" target=\"_parent\"><img src=\"https://colab.research.google.com/assets/colab-badge.svg\" alt=\"Open In Colab\"/></a>"
      ]
    },
    {
      "cell_type": "markdown",
      "metadata": {
        "id": "GZ1eg0w8LJ42"
      },
      "source": [
        "## Dataset : Airbnb Singapore Dataset from InsideAirbnb\n",
        "#### Question : If we were an AirBnb host, how can we maximise our profit?\n",
        "\n",
        "\n",
        "Dataset from Airbnb : **\"Singapore, 29 December 2022\"**  \n",
        "Source: http://insideairbnb.com/get-the-data/\n"
      ]
    },
    {
      "cell_type": "markdown",
      "metadata": {
        "id": "RnOQoO_E_iRe"
      },
      "source": [
        "# Contents\n",
        "  1. Linear Regression\n",
        "  2. Regression 2\n",
        "  3. Regression 3"
      ]
    },
    {
      "cell_type": "markdown",
      "metadata": {
        "id": "Acgis14J_hvI"
      },
      "source": [
        "---\n",
        "\n",
        "### Essential Libraries\n",
        "\n",
        "Import essential libraries such as numpy, pandas, matplotlib and seaborn.\n",
        "\n",
        "> NumPy : Library for Numeric Computations in Python  \n",
        "> Pandas : Library for Data Acquisition and Preparation  \n",
        "> Matplotlib : Low-level library for Data Visualization  \n",
        "> Seaborn : Higher-level library for Data Visualization  "
      ]
    },
    {
      "cell_type": "code",
      "execution_count": null,
      "metadata": {
        "id": "-ACmnMeTUca-"
      },
      "outputs": [],
      "source": [
        "# Isaac Chun Jun Heng U2221389B\n",
        "# J'sen Ong Jia Xuan  U2220457J\n",
        "# Tang Teck Meng U2221809C"
      ]
    },
    {
      "cell_type": "code",
      "execution_count": null,
      "metadata": {
        "id": "hL7LJWhgJrsN"
      },
      "outputs": [],
      "source": [
        "#Basic libraries\n",
        "import numpy as np\n",
        "import pandas as pd\n",
        "import seaborn as sb\n",
        "import matplotlib.pyplot as plt #We only need pyplot\n",
        "sb.set() #Set the default Seaborn style for graphics"
      ]
    },
    {
      "cell_type": "markdown",
      "metadata": {
        "id": "5pDbWEh6L6sA"
      },
      "source": [
        "### Additional Libraries\n",
        "\n",
        "Import additional libraries\n",
        "\n",
        "> sklearn : Conduct linear regression analysis"
      ]
    },
    {
      "cell_type": "code",
      "execution_count": null,
      "metadata": {
        "id": "AxD0fh_dL-nM"
      },
      "outputs": [],
      "source": [
        "from sklearn.model_selection import train_test_split\n",
        "from sklearn.linear_model import LinearRegression\n",
        "from sklearn.metrics import mean_squared_error"
      ]
    },
    {
      "cell_type": "markdown",
      "metadata": {
        "id": "TP5VqEnbUnrw"
      },
      "source": [
        "### General Utility Functions"
      ]
    },
    {
      "cell_type": "code",
      "execution_count": null,
      "metadata": {
        "id": "IXRLpW85UnSW"
      },
      "outputs": [],
      "source": [
        "def countOutliers (df):\n",
        "    #Get the q1 and q3 datas to find out the 25% and 75% range, then calculate inter quartile range and then find out whiskers.\n",
        "    #Then count how many points lie outside of this range.\n",
        "    q1 = df.quantile(0.25)\n",
        "    q3 = df.quantile(0.75)\n",
        "    #Interquartile\n",
        "    iqr = q3 - q1\n",
        "    #Calculate whiskers\n",
        "    leftWhisker = q1 - (1.5 * iqr)\n",
        "    rightWhisker = q3 + (1.5 * iqr)\n",
        "    outliers = 0;\n",
        "    #Loop through data now\n",
        "    for data in df:\n",
        "        if(data < leftWhisker or data > rightWhisker):\n",
        "            outliers+=1\n",
        "\n",
        "    return outliers"
      ]
    },
    {
      "cell_type": "code",
      "execution_count": null,
      "metadata": {
        "id": "Q9_1xCppVW2a"
      },
      "outputs": [],
      "source": [
        "def removeOutliers(df, colName):\n",
        "  q1 = df[colName].quantile(0.25)\n",
        "  q3 = df[colName].quantile(0.75)\n",
        "  iqr = q3-q1\n",
        "  low = q1 - 1.5 * iqr\n",
        "  high = q3 + 1.5 * iqr\n",
        "  result = df.loc[(df[colName] >= low) & (df[colName] <= high)]\n",
        "  return result"
      ]
    },
    {
      "cell_type": "code",
      "execution_count": null,
      "metadata": {
        "id": "x3BFohdujXiY"
      },
      "outputs": [],
      "source": [
        "def remove_outliers(df, columns, factor=1.5):\n",
        "    # loop through each column and remove outliers based on the IQR method\n",
        "    for col in columns:\n",
        "        q1 = df[col].quantile(0.25)\n",
        "        q3 = df[col].quantile(0.75)\n",
        "        iqr = q3 - q1\n",
        "        upper_bound = q3 + factor * iqr\n",
        "        lower_bound = q1 - factor * iqr\n",
        "        df = df[(df[col] >= lower_bound) & (df[col] <= upper_bound)]\n",
        "    \n",
        "    return df"
      ]
    },
    {
      "cell_type": "code",
      "source": [
        "#Define a regression func to easily calculate regression among two variables\n",
        "def calcLinRegression(predictor, response, testSize = 0.2, solidLine = False, f_size = (20,10), xTitle = None, yTitle = None):\n",
        "\n",
        "    #Get the appropriate data from train and put them in DF!\n",
        "    #Check if the inputs are valid\n",
        "    if (predictor is None or response is None):\n",
        "        print(\"Invalid input into regression function\")\n",
        "        return\n",
        "     \n",
        "    #Split the Dataset into Train and Test\n",
        "    X_train, X_test, y_train, y_test = train_test_split(predictor,response, test_size = testSize)\n",
        "\n",
        "    #Then calculate the linear regression using train data\n",
        "    linreg = LinearRegression();\n",
        "    linreg.fit(X_train, y_train);\n",
        "\n",
        "    #Print Coefficients of the Linear Regression line\n",
        "    print(\"Regression intercept \\t\\t: b = \", linreg.intercept_)\n",
        "    print(\"Regression coefficients \\t: a = \",linreg.coef_)\n",
        "\n",
        "    #Predict the values corresponding to the predictor\n",
        "    y_train_pred = linreg.predict(X_train)\n",
        "    y_test_pred = linreg.predict(X_test)\n",
        "\n",
        "    #Print the mean squared and root mean squared error on the train data set\n",
        "    #Also print goodness of fit.\n",
        "    print(\"-------------------------------\")\n",
        "    print(\"Goodness of Fit (Train)\")\n",
        "    # Explained Variance (R^2)\n",
        "    print(\"Explained Variance (R^2) \\t:\", linreg.score(X_train, y_train))\n",
        "    mseTrain =  mean_squared_error(X_train, y_train_pred)\n",
        "    print(\"Mean Squared Error (MSE)\\t:\", mseTrain)\n",
        "    print(\"Root Mean Squared Error (RMSE) \\t:\", np.sqrt(mseTrain))\n",
        "\n",
        "    #Print the mean squared and root mean squared error on the test data set\n",
        "    #Also print goodness of fit.\n",
        "    print(\"-------------------------------\")\n",
        "    print(\"Goodness of Fit (Test)\")\n",
        "    # Explained Variance (R^2)\n",
        "    print(\"Explained Variance (R^2) \\t:\", linreg.score(X_test, y_test))\n",
        "    mseTrain =  mean_squared_error(X_test, y_test_pred)\n",
        "    print(\"Mean Squared Error (MSE)\\t:\", mseTrain)\n",
        "    print(\"Root Mean Squared Error (RMSE) \\t:\", np.sqrt(mseTrain))\n",
        "\n",
        "    #Plot the regression line\n",
        "    f = plt.figure(figsize = f_size)\n",
        "    plt.scatter(X_train, y_train)\n",
        "    if xTitle:\n",
        "      plt.xlabel(xTitle)\n",
        "    if yTitle:\n",
        "      plt.ylabel(yTitle)\n",
        "    if solidLine:\n",
        "        plt.plot(X_train,y_train_pred,'r-', linewidth = 2)\n",
        "    else:\n",
        "        plt.scatter(X_train, y_train_pred, color = \"r\")\n",
        "    print()\n",
        "\n",
        "    #Then return a tuple of the predictions\n",
        "    return (y_test, y_train_pred, y_test_pred, explainedVariance)"
      ],
      "metadata": {
        "id": "lS8uqA_fmE8Q"
      },
      "execution_count": null,
      "outputs": []
    },
    {
      "cell_type": "markdown",
      "metadata": {
        "id": "Tcoll3Qzk1jo"
      },
      "source": [
        "### Mount Google Drive (unused, uncomment if need add anything from google drive.)"
      ]
    },
    {
      "cell_type": "code",
      "execution_count": null,
      "metadata": {
        "id": "qDtEInVNk1DE"
      },
      "outputs": [],
      "source": [
        "# from google.colab import drive \n",
        "# drive.mount('/content/gdrive')"
      ]
    },
    {
      "cell_type": "markdown",
      "metadata": {
        "id": "UJz4sgNK-9Rg"
      },
      "source": [
        "---\n",
        "\n",
        ">## Hypothesis  \n",
        "\n",
        "1. The number of amenities a listing provides will affect its price, the more the amenities, the higher the listing price\n",
        "2. Variables related to a listing's review will have positive correlation to listing's price"
      ]
    },
    {
      "cell_type": "markdown",
      "metadata": {
        "id": "DhcgD6G8qKqW"
      },
      "source": [
        "---\n",
        "\n",
        ">## Import the Dataset  \n",
        "\n",
        "We have imported the cleaned dataset based on our EDA done in the other files."
      ]
    },
    {
      "cell_type": "code",
      "execution_count": null,
      "metadata": {
        "colab": {
          "base_uri": "https://localhost:8080/"
        },
        "id": "tUY3F6v5qM96",
        "outputId": "5e9f258c-8b8a-4249-c2ba-8082d5b0ad7c"
      },
      "outputs": [
        {
          "output_type": "execute_result",
          "data": {
            "text/plain": [
              "                                        name  \\\n",
              "0        Ensuite Room (Room 1 & 2) near EXPO   \n",
              "1            B&B  Room 1 near Airport & EXPO   \n",
              "2                 Room 2-near Airport & EXPO   \n",
              "3  Amazing Room with window 10min to Redhill   \n",
              "4          15 mins to Outram MRT Single Room   \n",
              "\n",
              "                           listing_url  \\\n",
              "0   https://www.airbnb.com/rooms/71609   \n",
              "1   https://www.airbnb.com/rooms/71896   \n",
              "2   https://www.airbnb.com/rooms/71903   \n",
              "3  https://www.airbnb.com/rooms/275343   \n",
              "4  https://www.airbnb.com/rooms/275344   \n",
              "\n",
              "                                         description  \\\n",
              "0  For 3 rooms.Book room 1&2 and room 4<br /><br ...   \n",
              "1  <b>The space</b><br />Vocational Stay Deluxe B...   \n",
              "2  Like your own home, 24hrs access.<br /><br /><...   \n",
              "3  Awesome location and host <br />Room near INSE...   \n",
              "4  Lovely home for the special guest !<br /><br /...   \n",
              "\n",
              "                               neighborhood_overview  host_response_time  \\\n",
              "0                                                NaN  within a few hours   \n",
              "1                                                NaN  within a few hours   \n",
              "2  Quiet and view of the playground with exercise...  within a few hours   \n",
              "3                                                NaN      within an hour   \n",
              "4       Bus stop <br />Food center <br />Supermarket      within an hour   \n",
              "\n",
              "  host_response_rate host_acceptance_rate neighbourhood_cleansed  \\\n",
              "0                90%                 100%               Tampines   \n",
              "1                90%                 100%               Tampines   \n",
              "2                90%                 100%               Tampines   \n",
              "3               100%                  85%            Bukit Merah   \n",
              "4               100%                  85%            Bukit Merah   \n",
              "\n",
              "  neighbourhood_group_cleansed  latitude  ...  number_of_reviews  \\\n",
              "0                  East Region   1.34537  ...               20.0   \n",
              "1                  East Region   1.34754  ...               24.0   \n",
              "2                  East Region   1.34531  ...               47.0   \n",
              "3               Central Region   1.29015  ...               22.0   \n",
              "4               Central Region   1.28836  ...               14.0   \n",
              "\n",
              "  review_scores_rating  review_scores_accuracy review_scores_cleanliness  \\\n",
              "0                 4.44                    4.37                      4.00   \n",
              "1                 4.16                    4.22                      4.09   \n",
              "2                 4.41                    4.39                      4.52   \n",
              "3                 4.40                    4.16                      4.26   \n",
              "4                 4.50                    4.69                      4.23   \n",
              "\n",
              "  review_scores_checkin  review_scores_communication  review_scores_location  \\\n",
              "0                  4.63                         4.78                    4.26   \n",
              "1                  4.43                         4.43                    4.17   \n",
              "2                  4.63                         4.64                    4.50   \n",
              "3                  4.47                         4.42                    4.53   \n",
              "4                  4.62                         4.54                    4.62   \n",
              "\n",
              "   review_scores_value  license  instant_bookable  \n",
              "0                 4.32      NaN                 f  \n",
              "1                 4.04      NaN                 t  \n",
              "2                 4.36      NaN                 f  \n",
              "3                 4.63    S0399                 f  \n",
              "4                 4.46    S0399                 f  \n",
              "\n",
              "[5 rows x 27 columns]"
            ],
            "text/html": [
              "\n",
              "  <div id=\"df-5d53f4ed-abe9-4a85-a474-aa42b5cb10be\">\n",
              "    <div class=\"colab-df-container\">\n",
              "      <div>\n",
              "<style scoped>\n",
              "    .dataframe tbody tr th:only-of-type {\n",
              "        vertical-align: middle;\n",
              "    }\n",
              "\n",
              "    .dataframe tbody tr th {\n",
              "        vertical-align: top;\n",
              "    }\n",
              "\n",
              "    .dataframe thead th {\n",
              "        text-align: right;\n",
              "    }\n",
              "</style>\n",
              "<table border=\"1\" class=\"dataframe\">\n",
              "  <thead>\n",
              "    <tr style=\"text-align: right;\">\n",
              "      <th></th>\n",
              "      <th>name</th>\n",
              "      <th>listing_url</th>\n",
              "      <th>description</th>\n",
              "      <th>neighborhood_overview</th>\n",
              "      <th>host_response_time</th>\n",
              "      <th>host_response_rate</th>\n",
              "      <th>host_acceptance_rate</th>\n",
              "      <th>neighbourhood_cleansed</th>\n",
              "      <th>neighbourhood_group_cleansed</th>\n",
              "      <th>latitude</th>\n",
              "      <th>...</th>\n",
              "      <th>number_of_reviews</th>\n",
              "      <th>review_scores_rating</th>\n",
              "      <th>review_scores_accuracy</th>\n",
              "      <th>review_scores_cleanliness</th>\n",
              "      <th>review_scores_checkin</th>\n",
              "      <th>review_scores_communication</th>\n",
              "      <th>review_scores_location</th>\n",
              "      <th>review_scores_value</th>\n",
              "      <th>license</th>\n",
              "      <th>instant_bookable</th>\n",
              "    </tr>\n",
              "  </thead>\n",
              "  <tbody>\n",
              "    <tr>\n",
              "      <th>0</th>\n",
              "      <td>Ensuite Room (Room 1 &amp; 2) near EXPO</td>\n",
              "      <td>https://www.airbnb.com/rooms/71609</td>\n",
              "      <td>For 3 rooms.Book room 1&amp;2 and room 4&lt;br /&gt;&lt;br ...</td>\n",
              "      <td>NaN</td>\n",
              "      <td>within a few hours</td>\n",
              "      <td>90%</td>\n",
              "      <td>100%</td>\n",
              "      <td>Tampines</td>\n",
              "      <td>East Region</td>\n",
              "      <td>1.34537</td>\n",
              "      <td>...</td>\n",
              "      <td>20.0</td>\n",
              "      <td>4.44</td>\n",
              "      <td>4.37</td>\n",
              "      <td>4.00</td>\n",
              "      <td>4.63</td>\n",
              "      <td>4.78</td>\n",
              "      <td>4.26</td>\n",
              "      <td>4.32</td>\n",
              "      <td>NaN</td>\n",
              "      <td>f</td>\n",
              "    </tr>\n",
              "    <tr>\n",
              "      <th>1</th>\n",
              "      <td>B&amp;B  Room 1 near Airport &amp; EXPO</td>\n",
              "      <td>https://www.airbnb.com/rooms/71896</td>\n",
              "      <td>&lt;b&gt;The space&lt;/b&gt;&lt;br /&gt;Vocational Stay Deluxe B...</td>\n",
              "      <td>NaN</td>\n",
              "      <td>within a few hours</td>\n",
              "      <td>90%</td>\n",
              "      <td>100%</td>\n",
              "      <td>Tampines</td>\n",
              "      <td>East Region</td>\n",
              "      <td>1.34754</td>\n",
              "      <td>...</td>\n",
              "      <td>24.0</td>\n",
              "      <td>4.16</td>\n",
              "      <td>4.22</td>\n",
              "      <td>4.09</td>\n",
              "      <td>4.43</td>\n",
              "      <td>4.43</td>\n",
              "      <td>4.17</td>\n",
              "      <td>4.04</td>\n",
              "      <td>NaN</td>\n",
              "      <td>t</td>\n",
              "    </tr>\n",
              "    <tr>\n",
              "      <th>2</th>\n",
              "      <td>Room 2-near Airport &amp; EXPO</td>\n",
              "      <td>https://www.airbnb.com/rooms/71903</td>\n",
              "      <td>Like your own home, 24hrs access.&lt;br /&gt;&lt;br /&gt;&lt;...</td>\n",
              "      <td>Quiet and view of the playground with exercise...</td>\n",
              "      <td>within a few hours</td>\n",
              "      <td>90%</td>\n",
              "      <td>100%</td>\n",
              "      <td>Tampines</td>\n",
              "      <td>East Region</td>\n",
              "      <td>1.34531</td>\n",
              "      <td>...</td>\n",
              "      <td>47.0</td>\n",
              "      <td>4.41</td>\n",
              "      <td>4.39</td>\n",
              "      <td>4.52</td>\n",
              "      <td>4.63</td>\n",
              "      <td>4.64</td>\n",
              "      <td>4.50</td>\n",
              "      <td>4.36</td>\n",
              "      <td>NaN</td>\n",
              "      <td>f</td>\n",
              "    </tr>\n",
              "    <tr>\n",
              "      <th>3</th>\n",
              "      <td>Amazing Room with window 10min to Redhill</td>\n",
              "      <td>https://www.airbnb.com/rooms/275343</td>\n",
              "      <td>Awesome location and host &lt;br /&gt;Room near INSE...</td>\n",
              "      <td>NaN</td>\n",
              "      <td>within an hour</td>\n",
              "      <td>100%</td>\n",
              "      <td>85%</td>\n",
              "      <td>Bukit Merah</td>\n",
              "      <td>Central Region</td>\n",
              "      <td>1.29015</td>\n",
              "      <td>...</td>\n",
              "      <td>22.0</td>\n",
              "      <td>4.40</td>\n",
              "      <td>4.16</td>\n",
              "      <td>4.26</td>\n",
              "      <td>4.47</td>\n",
              "      <td>4.42</td>\n",
              "      <td>4.53</td>\n",
              "      <td>4.63</td>\n",
              "      <td>S0399</td>\n",
              "      <td>f</td>\n",
              "    </tr>\n",
              "    <tr>\n",
              "      <th>4</th>\n",
              "      <td>15 mins to Outram MRT Single Room</td>\n",
              "      <td>https://www.airbnb.com/rooms/275344</td>\n",
              "      <td>Lovely home for the special guest !&lt;br /&gt;&lt;br /...</td>\n",
              "      <td>Bus stop &lt;br /&gt;Food center &lt;br /&gt;Supermarket</td>\n",
              "      <td>within an hour</td>\n",
              "      <td>100%</td>\n",
              "      <td>85%</td>\n",
              "      <td>Bukit Merah</td>\n",
              "      <td>Central Region</td>\n",
              "      <td>1.28836</td>\n",
              "      <td>...</td>\n",
              "      <td>14.0</td>\n",
              "      <td>4.50</td>\n",
              "      <td>4.69</td>\n",
              "      <td>4.23</td>\n",
              "      <td>4.62</td>\n",
              "      <td>4.54</td>\n",
              "      <td>4.62</td>\n",
              "      <td>4.46</td>\n",
              "      <td>S0399</td>\n",
              "      <td>f</td>\n",
              "    </tr>\n",
              "  </tbody>\n",
              "</table>\n",
              "<p>5 rows × 27 columns</p>\n",
              "</div>\n",
              "      <button class=\"colab-df-convert\" onclick=\"convertToInteractive('df-5d53f4ed-abe9-4a85-a474-aa42b5cb10be')\"\n",
              "              title=\"Convert this dataframe to an interactive table.\"\n",
              "              style=\"display:none;\">\n",
              "        \n",
              "  <svg xmlns=\"http://www.w3.org/2000/svg\" height=\"24px\"viewBox=\"0 0 24 24\"\n",
              "       width=\"24px\">\n",
              "    <path d=\"M0 0h24v24H0V0z\" fill=\"none\"/>\n",
              "    <path d=\"M18.56 5.44l.94 2.06.94-2.06 2.06-.94-2.06-.94-.94-2.06-.94 2.06-2.06.94zm-11 1L8.5 8.5l.94-2.06 2.06-.94-2.06-.94L8.5 2.5l-.94 2.06-2.06.94zm10 10l.94 2.06.94-2.06 2.06-.94-2.06-.94-.94-2.06-.94 2.06-2.06.94z\"/><path d=\"M17.41 7.96l-1.37-1.37c-.4-.4-.92-.59-1.43-.59-.52 0-1.04.2-1.43.59L10.3 9.45l-7.72 7.72c-.78.78-.78 2.05 0 2.83L4 21.41c.39.39.9.59 1.41.59.51 0 1.02-.2 1.41-.59l7.78-7.78 2.81-2.81c.8-.78.8-2.07 0-2.86zM5.41 20L4 18.59l7.72-7.72 1.47 1.35L5.41 20z\"/>\n",
              "  </svg>\n",
              "      </button>\n",
              "      \n",
              "  <style>\n",
              "    .colab-df-container {\n",
              "      display:flex;\n",
              "      flex-wrap:wrap;\n",
              "      gap: 12px;\n",
              "    }\n",
              "\n",
              "    .colab-df-convert {\n",
              "      background-color: #E8F0FE;\n",
              "      border: none;\n",
              "      border-radius: 50%;\n",
              "      cursor: pointer;\n",
              "      display: none;\n",
              "      fill: #1967D2;\n",
              "      height: 32px;\n",
              "      padding: 0 0 0 0;\n",
              "      width: 32px;\n",
              "    }\n",
              "\n",
              "    .colab-df-convert:hover {\n",
              "      background-color: #E2EBFA;\n",
              "      box-shadow: 0px 1px 2px rgba(60, 64, 67, 0.3), 0px 1px 3px 1px rgba(60, 64, 67, 0.15);\n",
              "      fill: #174EA6;\n",
              "    }\n",
              "\n",
              "    [theme=dark] .colab-df-convert {\n",
              "      background-color: #3B4455;\n",
              "      fill: #D2E3FC;\n",
              "    }\n",
              "\n",
              "    [theme=dark] .colab-df-convert:hover {\n",
              "      background-color: #434B5C;\n",
              "      box-shadow: 0px 1px 3px 1px rgba(0, 0, 0, 0.15);\n",
              "      filter: drop-shadow(0px 1px 2px rgba(0, 0, 0, 0.3));\n",
              "      fill: #FFFFFF;\n",
              "    }\n",
              "  </style>\n",
              "\n",
              "      <script>\n",
              "        const buttonEl =\n",
              "          document.querySelector('#df-5d53f4ed-abe9-4a85-a474-aa42b5cb10be button.colab-df-convert');\n",
              "        buttonEl.style.display =\n",
              "          google.colab.kernel.accessAllowed ? 'block' : 'none';\n",
              "\n",
              "        async function convertToInteractive(key) {\n",
              "          const element = document.querySelector('#df-5d53f4ed-abe9-4a85-a474-aa42b5cb10be');\n",
              "          const dataTable =\n",
              "            await google.colab.kernel.invokeFunction('convertToInteractive',\n",
              "                                                     [key], {});\n",
              "          if (!dataTable) return;\n",
              "\n",
              "          const docLinkHtml = 'Like what you see? Visit the ' +\n",
              "            '<a target=\"_blank\" href=https://colab.research.google.com/notebooks/data_table.ipynb>data table notebook</a>'\n",
              "            + ' to learn more about interactive tables.';\n",
              "          element.innerHTML = '';\n",
              "          dataTable['output_type'] = 'display_data';\n",
              "          await google.colab.output.renderOutput(dataTable, element);\n",
              "          const docLink = document.createElement('div');\n",
              "          docLink.innerHTML = docLinkHtml;\n",
              "          element.appendChild(docLink);\n",
              "        }\n",
              "      </script>\n",
              "    </div>\n",
              "  </div>\n",
              "  "
            ]
          },
          "metadata": {},
          "execution_count": 197
        }
      ],
      "source": [
        "url = \"https://raw.githubusercontent.com/isaacchunn/SC1015_MiniPrj_Airbnb/main/listings_cleaned.csv\"\n",
        "airDF = pd.read_csv(url)\n",
        "airDF.head()"
      ]
    },
    {
      "cell_type": "code",
      "execution_count": null,
      "metadata": {
        "colab": {
          "base_uri": "https://localhost:8080/"
        },
        "id": "YHp8igcBqL82",
        "outputId": "e315047d-e90a-4695-cf77-ddb76078d4c1"
      },
      "outputs": [
        {
          "output_type": "stream",
          "name": "stdout",
          "text": [
            "<class 'pandas.core.frame.DataFrame'>\n",
            "RangeIndex: 3035 entries, 0 to 3034\n",
            "Data columns (total 27 columns):\n",
            " #   Column                        Non-Null Count  Dtype  \n",
            "---  ------                        --------------  -----  \n",
            " 0   name                          3035 non-null   object \n",
            " 1   listing_url                   3035 non-null   object \n",
            " 2   description                   2968 non-null   object \n",
            " 3   neighborhood_overview         1968 non-null   object \n",
            " 4   host_response_time            2405 non-null   object \n",
            " 5   host_response_rate            2405 non-null   object \n",
            " 6   host_acceptance_rate          2284 non-null   object \n",
            " 7   neighbourhood_cleansed        3018 non-null   object \n",
            " 8   neighbourhood_group_cleansed  3018 non-null   object \n",
            " 9   latitude                      3018 non-null   float64\n",
            " 10  longitude                     3018 non-null   float64\n",
            " 11  property_type                 3018 non-null   object \n",
            " 12  accommodates                  3018 non-null   float64\n",
            " 13  amenities                     3018 non-null   object \n",
            " 14  price                         3018 non-null   object \n",
            " 15  minimum_nights                3018 non-null   float64\n",
            " 16  maximum_nights                3018 non-null   float64\n",
            " 17  number_of_reviews             3018 non-null   float64\n",
            " 18  review_scores_rating          1737 non-null   float64\n",
            " 19  review_scores_accuracy        1704 non-null   float64\n",
            " 20  review_scores_cleanliness     1705 non-null   float64\n",
            " 21  review_scores_checkin         1705 non-null   float64\n",
            " 22  review_scores_communication   1706 non-null   float64\n",
            " 23  review_scores_location        1704 non-null   float64\n",
            " 24  review_scores_value           1704 non-null   float64\n",
            " 25  license                       959 non-null    object \n",
            " 26  instant_bookable              3018 non-null   object \n",
            "dtypes: float64(13), object(14)\n",
            "memory usage: 640.3+ KB\n"
          ]
        }
      ],
      "source": [
        "airDF.info()"
      ]
    },
    {
      "cell_type": "code",
      "execution_count": null,
      "metadata": {
        "colab": {
          "base_uri": "https://localhost:8080/"
        },
        "id": "D5MX-5B2qU8a",
        "outputId": "c385257c-86cd-44ca-cc3f-a02a600499a7"
      },
      "outputs": [
        {
          "output_type": "stream",
          "name": "stdout",
          "text": [
            "name                             object\n",
            "listing_url                      object\n",
            "description                      object\n",
            "neighborhood_overview            object\n",
            "host_response_time               object\n",
            "host_response_rate               object\n",
            "host_acceptance_rate             object\n",
            "neighbourhood_cleansed           object\n",
            "neighbourhood_group_cleansed     object\n",
            "latitude                        float64\n",
            "longitude                       float64\n",
            "property_type                    object\n",
            "accommodates                    float64\n",
            "amenities                        object\n",
            "price                            object\n",
            "minimum_nights                  float64\n",
            "maximum_nights                  float64\n",
            "number_of_reviews               float64\n",
            "review_scores_rating            float64\n",
            "review_scores_accuracy          float64\n",
            "review_scores_cleanliness       float64\n",
            "review_scores_checkin           float64\n",
            "review_scores_communication     float64\n",
            "review_scores_location          float64\n",
            "review_scores_value             float64\n",
            "license                          object\n",
            "instant_bookable                 object\n",
            "dtype: object\n"
          ]
        }
      ],
      "source": [
        "print(airDF.dtypes)"
      ]
    },
    {
      "cell_type": "markdown",
      "metadata": {
        "id": "xvcjlDhH9xYv"
      },
      "source": [
        "---\n",
        "\n",
        ">## Cleaning our DataFrame/Dataset\n",
        "\n",
        "### 1. Drop properties with N/A or 0% acceptance rate as these properties do not get stayed at by visitors."
      ]
    },
    {
      "cell_type": "code",
      "execution_count": null,
      "metadata": {
        "colab": {
          "base_uri": "https://localhost:8080/"
        },
        "id": "h2pSGidJBTEJ",
        "outputId": "d9f463da-994e-46b0-ca41-d436c1e8c89a"
      },
      "outputs": [
        {
          "output_type": "execute_result",
          "data": {
            "text/plain": [
              "                                        name  \\\n",
              "0        Ensuite Room (Room 1 & 2) near EXPO   \n",
              "1            B&B  Room 1 near Airport & EXPO   \n",
              "2                 Room 2-near Airport & EXPO   \n",
              "3  Amazing Room with window 10min to Redhill   \n",
              "4          15 mins to Outram MRT Single Room   \n",
              "\n",
              "                           listing_url  \\\n",
              "0   https://www.airbnb.com/rooms/71609   \n",
              "1   https://www.airbnb.com/rooms/71896   \n",
              "2   https://www.airbnb.com/rooms/71903   \n",
              "3  https://www.airbnb.com/rooms/275343   \n",
              "4  https://www.airbnb.com/rooms/275344   \n",
              "\n",
              "                                         description  \\\n",
              "0  For 3 rooms.Book room 1&2 and room 4<br /><br ...   \n",
              "1  <b>The space</b><br />Vocational Stay Deluxe B...   \n",
              "2  Like your own home, 24hrs access.<br /><br /><...   \n",
              "3  Awesome location and host <br />Room near INSE...   \n",
              "4  Lovely home for the special guest !<br /><br /...   \n",
              "\n",
              "                               neighborhood_overview  host_response_time  \\\n",
              "0                                                NaN  within a few hours   \n",
              "1                                                NaN  within a few hours   \n",
              "2  Quiet and view of the playground with exercise...  within a few hours   \n",
              "3                                                NaN      within an hour   \n",
              "4       Bus stop <br />Food center <br />Supermarket      within an hour   \n",
              "\n",
              "  host_response_rate host_acceptance_rate neighbourhood_cleansed  \\\n",
              "0                90%                 100%               Tampines   \n",
              "1                90%                 100%               Tampines   \n",
              "2                90%                 100%               Tampines   \n",
              "3               100%                  85%            Bukit Merah   \n",
              "4               100%                  85%            Bukit Merah   \n",
              "\n",
              "  neighbourhood_group_cleansed  latitude  ...  number_of_reviews  \\\n",
              "0                  East Region   1.34537  ...               20.0   \n",
              "1                  East Region   1.34754  ...               24.0   \n",
              "2                  East Region   1.34531  ...               47.0   \n",
              "3               Central Region   1.29015  ...               22.0   \n",
              "4               Central Region   1.28836  ...               14.0   \n",
              "\n",
              "  review_scores_rating  review_scores_accuracy review_scores_cleanliness  \\\n",
              "0                 4.44                    4.37                      4.00   \n",
              "1                 4.16                    4.22                      4.09   \n",
              "2                 4.41                    4.39                      4.52   \n",
              "3                 4.40                    4.16                      4.26   \n",
              "4                 4.50                    4.69                      4.23   \n",
              "\n",
              "  review_scores_checkin  review_scores_communication  review_scores_location  \\\n",
              "0                  4.63                         4.78                    4.26   \n",
              "1                  4.43                         4.43                    4.17   \n",
              "2                  4.63                         4.64                    4.50   \n",
              "3                  4.47                         4.42                    4.53   \n",
              "4                  4.62                         4.54                    4.62   \n",
              "\n",
              "   review_scores_value  license  instant_bookable  \n",
              "0                 4.32      NaN                 f  \n",
              "1                 4.04      NaN                 t  \n",
              "2                 4.36      NaN                 f  \n",
              "3                 4.63    S0399                 f  \n",
              "4                 4.46    S0399                 f  \n",
              "\n",
              "[5 rows x 27 columns]"
            ],
            "text/html": [
              "\n",
              "  <div id=\"df-19a9f235-d10f-4c99-a298-02b2a66f488d\">\n",
              "    <div class=\"colab-df-container\">\n",
              "      <div>\n",
              "<style scoped>\n",
              "    .dataframe tbody tr th:only-of-type {\n",
              "        vertical-align: middle;\n",
              "    }\n",
              "\n",
              "    .dataframe tbody tr th {\n",
              "        vertical-align: top;\n",
              "    }\n",
              "\n",
              "    .dataframe thead th {\n",
              "        text-align: right;\n",
              "    }\n",
              "</style>\n",
              "<table border=\"1\" class=\"dataframe\">\n",
              "  <thead>\n",
              "    <tr style=\"text-align: right;\">\n",
              "      <th></th>\n",
              "      <th>name</th>\n",
              "      <th>listing_url</th>\n",
              "      <th>description</th>\n",
              "      <th>neighborhood_overview</th>\n",
              "      <th>host_response_time</th>\n",
              "      <th>host_response_rate</th>\n",
              "      <th>host_acceptance_rate</th>\n",
              "      <th>neighbourhood_cleansed</th>\n",
              "      <th>neighbourhood_group_cleansed</th>\n",
              "      <th>latitude</th>\n",
              "      <th>...</th>\n",
              "      <th>number_of_reviews</th>\n",
              "      <th>review_scores_rating</th>\n",
              "      <th>review_scores_accuracy</th>\n",
              "      <th>review_scores_cleanliness</th>\n",
              "      <th>review_scores_checkin</th>\n",
              "      <th>review_scores_communication</th>\n",
              "      <th>review_scores_location</th>\n",
              "      <th>review_scores_value</th>\n",
              "      <th>license</th>\n",
              "      <th>instant_bookable</th>\n",
              "    </tr>\n",
              "  </thead>\n",
              "  <tbody>\n",
              "    <tr>\n",
              "      <th>0</th>\n",
              "      <td>Ensuite Room (Room 1 &amp; 2) near EXPO</td>\n",
              "      <td>https://www.airbnb.com/rooms/71609</td>\n",
              "      <td>For 3 rooms.Book room 1&amp;2 and room 4&lt;br /&gt;&lt;br ...</td>\n",
              "      <td>NaN</td>\n",
              "      <td>within a few hours</td>\n",
              "      <td>90%</td>\n",
              "      <td>100%</td>\n",
              "      <td>Tampines</td>\n",
              "      <td>East Region</td>\n",
              "      <td>1.34537</td>\n",
              "      <td>...</td>\n",
              "      <td>20.0</td>\n",
              "      <td>4.44</td>\n",
              "      <td>4.37</td>\n",
              "      <td>4.00</td>\n",
              "      <td>4.63</td>\n",
              "      <td>4.78</td>\n",
              "      <td>4.26</td>\n",
              "      <td>4.32</td>\n",
              "      <td>NaN</td>\n",
              "      <td>f</td>\n",
              "    </tr>\n",
              "    <tr>\n",
              "      <th>1</th>\n",
              "      <td>B&amp;B  Room 1 near Airport &amp; EXPO</td>\n",
              "      <td>https://www.airbnb.com/rooms/71896</td>\n",
              "      <td>&lt;b&gt;The space&lt;/b&gt;&lt;br /&gt;Vocational Stay Deluxe B...</td>\n",
              "      <td>NaN</td>\n",
              "      <td>within a few hours</td>\n",
              "      <td>90%</td>\n",
              "      <td>100%</td>\n",
              "      <td>Tampines</td>\n",
              "      <td>East Region</td>\n",
              "      <td>1.34754</td>\n",
              "      <td>...</td>\n",
              "      <td>24.0</td>\n",
              "      <td>4.16</td>\n",
              "      <td>4.22</td>\n",
              "      <td>4.09</td>\n",
              "      <td>4.43</td>\n",
              "      <td>4.43</td>\n",
              "      <td>4.17</td>\n",
              "      <td>4.04</td>\n",
              "      <td>NaN</td>\n",
              "      <td>t</td>\n",
              "    </tr>\n",
              "    <tr>\n",
              "      <th>2</th>\n",
              "      <td>Room 2-near Airport &amp; EXPO</td>\n",
              "      <td>https://www.airbnb.com/rooms/71903</td>\n",
              "      <td>Like your own home, 24hrs access.&lt;br /&gt;&lt;br /&gt;&lt;...</td>\n",
              "      <td>Quiet and view of the playground with exercise...</td>\n",
              "      <td>within a few hours</td>\n",
              "      <td>90%</td>\n",
              "      <td>100%</td>\n",
              "      <td>Tampines</td>\n",
              "      <td>East Region</td>\n",
              "      <td>1.34531</td>\n",
              "      <td>...</td>\n",
              "      <td>47.0</td>\n",
              "      <td>4.41</td>\n",
              "      <td>4.39</td>\n",
              "      <td>4.52</td>\n",
              "      <td>4.63</td>\n",
              "      <td>4.64</td>\n",
              "      <td>4.50</td>\n",
              "      <td>4.36</td>\n",
              "      <td>NaN</td>\n",
              "      <td>f</td>\n",
              "    </tr>\n",
              "    <tr>\n",
              "      <th>3</th>\n",
              "      <td>Amazing Room with window 10min to Redhill</td>\n",
              "      <td>https://www.airbnb.com/rooms/275343</td>\n",
              "      <td>Awesome location and host &lt;br /&gt;Room near INSE...</td>\n",
              "      <td>NaN</td>\n",
              "      <td>within an hour</td>\n",
              "      <td>100%</td>\n",
              "      <td>85%</td>\n",
              "      <td>Bukit Merah</td>\n",
              "      <td>Central Region</td>\n",
              "      <td>1.29015</td>\n",
              "      <td>...</td>\n",
              "      <td>22.0</td>\n",
              "      <td>4.40</td>\n",
              "      <td>4.16</td>\n",
              "      <td>4.26</td>\n",
              "      <td>4.47</td>\n",
              "      <td>4.42</td>\n",
              "      <td>4.53</td>\n",
              "      <td>4.63</td>\n",
              "      <td>S0399</td>\n",
              "      <td>f</td>\n",
              "    </tr>\n",
              "    <tr>\n",
              "      <th>4</th>\n",
              "      <td>15 mins to Outram MRT Single Room</td>\n",
              "      <td>https://www.airbnb.com/rooms/275344</td>\n",
              "      <td>Lovely home for the special guest !&lt;br /&gt;&lt;br /...</td>\n",
              "      <td>Bus stop &lt;br /&gt;Food center &lt;br /&gt;Supermarket</td>\n",
              "      <td>within an hour</td>\n",
              "      <td>100%</td>\n",
              "      <td>85%</td>\n",
              "      <td>Bukit Merah</td>\n",
              "      <td>Central Region</td>\n",
              "      <td>1.28836</td>\n",
              "      <td>...</td>\n",
              "      <td>14.0</td>\n",
              "      <td>4.50</td>\n",
              "      <td>4.69</td>\n",
              "      <td>4.23</td>\n",
              "      <td>4.62</td>\n",
              "      <td>4.54</td>\n",
              "      <td>4.62</td>\n",
              "      <td>4.46</td>\n",
              "      <td>S0399</td>\n",
              "      <td>f</td>\n",
              "    </tr>\n",
              "  </tbody>\n",
              "</table>\n",
              "<p>5 rows × 27 columns</p>\n",
              "</div>\n",
              "      <button class=\"colab-df-convert\" onclick=\"convertToInteractive('df-19a9f235-d10f-4c99-a298-02b2a66f488d')\"\n",
              "              title=\"Convert this dataframe to an interactive table.\"\n",
              "              style=\"display:none;\">\n",
              "        \n",
              "  <svg xmlns=\"http://www.w3.org/2000/svg\" height=\"24px\"viewBox=\"0 0 24 24\"\n",
              "       width=\"24px\">\n",
              "    <path d=\"M0 0h24v24H0V0z\" fill=\"none\"/>\n",
              "    <path d=\"M18.56 5.44l.94 2.06.94-2.06 2.06-.94-2.06-.94-.94-2.06-.94 2.06-2.06.94zm-11 1L8.5 8.5l.94-2.06 2.06-.94-2.06-.94L8.5 2.5l-.94 2.06-2.06.94zm10 10l.94 2.06.94-2.06 2.06-.94-2.06-.94-.94-2.06-.94 2.06-2.06.94z\"/><path d=\"M17.41 7.96l-1.37-1.37c-.4-.4-.92-.59-1.43-.59-.52 0-1.04.2-1.43.59L10.3 9.45l-7.72 7.72c-.78.78-.78 2.05 0 2.83L4 21.41c.39.39.9.59 1.41.59.51 0 1.02-.2 1.41-.59l7.78-7.78 2.81-2.81c.8-.78.8-2.07 0-2.86zM5.41 20L4 18.59l7.72-7.72 1.47 1.35L5.41 20z\"/>\n",
              "  </svg>\n",
              "      </button>\n",
              "      \n",
              "  <style>\n",
              "    .colab-df-container {\n",
              "      display:flex;\n",
              "      flex-wrap:wrap;\n",
              "      gap: 12px;\n",
              "    }\n",
              "\n",
              "    .colab-df-convert {\n",
              "      background-color: #E8F0FE;\n",
              "      border: none;\n",
              "      border-radius: 50%;\n",
              "      cursor: pointer;\n",
              "      display: none;\n",
              "      fill: #1967D2;\n",
              "      height: 32px;\n",
              "      padding: 0 0 0 0;\n",
              "      width: 32px;\n",
              "    }\n",
              "\n",
              "    .colab-df-convert:hover {\n",
              "      background-color: #E2EBFA;\n",
              "      box-shadow: 0px 1px 2px rgba(60, 64, 67, 0.3), 0px 1px 3px 1px rgba(60, 64, 67, 0.15);\n",
              "      fill: #174EA6;\n",
              "    }\n",
              "\n",
              "    [theme=dark] .colab-df-convert {\n",
              "      background-color: #3B4455;\n",
              "      fill: #D2E3FC;\n",
              "    }\n",
              "\n",
              "    [theme=dark] .colab-df-convert:hover {\n",
              "      background-color: #434B5C;\n",
              "      box-shadow: 0px 1px 3px 1px rgba(0, 0, 0, 0.15);\n",
              "      filter: drop-shadow(0px 1px 2px rgba(0, 0, 0, 0.3));\n",
              "      fill: #FFFFFF;\n",
              "    }\n",
              "  </style>\n",
              "\n",
              "      <script>\n",
              "        const buttonEl =\n",
              "          document.querySelector('#df-19a9f235-d10f-4c99-a298-02b2a66f488d button.colab-df-convert');\n",
              "        buttonEl.style.display =\n",
              "          google.colab.kernel.accessAllowed ? 'block' : 'none';\n",
              "\n",
              "        async function convertToInteractive(key) {\n",
              "          const element = document.querySelector('#df-19a9f235-d10f-4c99-a298-02b2a66f488d');\n",
              "          const dataTable =\n",
              "            await google.colab.kernel.invokeFunction('convertToInteractive',\n",
              "                                                     [key], {});\n",
              "          if (!dataTable) return;\n",
              "\n",
              "          const docLinkHtml = 'Like what you see? Visit the ' +\n",
              "            '<a target=\"_blank\" href=https://colab.research.google.com/notebooks/data_table.ipynb>data table notebook</a>'\n",
              "            + ' to learn more about interactive tables.';\n",
              "          element.innerHTML = '';\n",
              "          dataTable['output_type'] = 'display_data';\n",
              "          await google.colab.output.renderOutput(dataTable, element);\n",
              "          const docLink = document.createElement('div');\n",
              "          docLink.innerHTML = docLinkHtml;\n",
              "          element.appendChild(docLink);\n",
              "        }\n",
              "      </script>\n",
              "    </div>\n",
              "  </div>\n",
              "  "
            ]
          },
          "metadata": {},
          "execution_count": 200
        }
      ],
      "source": [
        "#Drop all the properties that has no host acceptance rate then drop\n",
        "airDF = airDF.dropna(subset=[\"host_acceptance_rate\"])\n",
        "#Then remove all the 0% acceptance rate\n",
        "airDF = airDF[airDF[\"host_acceptance_rate\"] != 0]\n",
        "#Resort our indexes\n",
        "airDF = airDF.reset_index(drop=True)\n",
        "airDF.head(n=5)"
      ]
    },
    {
      "cell_type": "markdown",
      "metadata": {
        "id": "LMl2vZu2dSoE"
      },
      "source": [
        "### 2. Clean the price column using code as it has \"$\", \",\" and \".\" \n"
      ]
    },
    {
      "cell_type": "code",
      "execution_count": null,
      "metadata": {
        "colab": {
          "base_uri": "https://localhost:8080/"
        },
        "id": "giwEBBlOdbuY",
        "outputId": "50e0e3d8-f3f0-455f-e83f-2a937ff10020"
      },
      "outputs": [
        {
          "output_type": "execute_result",
          "data": {
            "text/plain": [
              "0       $46,437.00 \n",
              "1           $81.00 \n",
              "2           $81.00 \n",
              "3           $52.00 \n",
              "4           $49.00 \n",
              "           ...     \n",
              "2279        $45.00 \n",
              "2280        $45.00 \n",
              "2281       $186.00 \n",
              "2282       $797.00 \n",
              "2283       $434.00 \n",
              "Name: price, Length: 2284, dtype: object"
            ]
          },
          "metadata": {},
          "execution_count": 201
        }
      ],
      "source": [
        "airDF[\"price\"]"
      ]
    },
    {
      "cell_type": "code",
      "execution_count": null,
      "metadata": {
        "colab": {
          "base_uri": "https://localhost:8080/"
        },
        "id": "3kVBKlz1eE-b",
        "outputId": "705e4bfc-bfcb-4cf4-aaa0-65da6b900584"
      },
      "outputs": [
        {
          "output_type": "stream",
          "name": "stderr",
          "text": [
            "<ipython-input-202-e0f04e7ead66>:7: SettingWithCopyWarning: \n",
            "A value is trying to be set on a copy of a slice from a DataFrame\n",
            "\n",
            "See the caveats in the documentation: https://pandas.pydata.org/pandas-docs/stable/user_guide/indexing.html#returning-a-view-versus-a-copy\n",
            "  airDF.loc[:,(\"price\")][i] = int(s)\n"
          ]
        }
      ],
      "source": [
        "breaks = [\",\", \"$\"]\n",
        "for i in range(len(airDF[\"price\"])):\n",
        "    s = airDF.loc[:,(\"price\")][i]\n",
        "    for x in breaks:\n",
        "        s = s.replace(x,\"\")\n",
        "    s = \"\".join(s.split(\".\")[:-1])\n",
        "    airDF.loc[:,(\"price\")][i] = int(s)\n",
        "airDF = airDF.astype({'price': 'int32'})"
      ]
    },
    {
      "cell_type": "markdown",
      "metadata": {
        "id": "ryQCXracarYN"
      },
      "source": [
        "We also remove any outliers as it is unrealistic for a property to have above > $45,000 per night"
      ]
    },
    {
      "cell_type": "code",
      "execution_count": null,
      "metadata": {
        "colab": {
          "base_uri": "https://localhost:8080/"
        },
        "id": "wa0ZTigjatzu",
        "outputId": "26f5bf92-4f11-43fb-97a5-25c4dabde96a"
      },
      "outputs": [
        {
          "output_type": "execute_result",
          "data": {
            "text/plain": [
              "0        81\n",
              "1        81\n",
              "2        52\n",
              "3        49\n",
              "4       175\n",
              "       ... \n",
              "2275     45\n",
              "2276     45\n",
              "2277    186\n",
              "2278    797\n",
              "2279    434\n",
              "Name: price, Length: 2280, dtype: int32"
            ]
          },
          "metadata": {},
          "execution_count": 203
        }
      ],
      "source": [
        "airDF = airDF[airDF.price < 45000]\n",
        "#Resort our indexes\n",
        "airDF = airDF.reset_index(drop=True)\n",
        "airDF[\"price\"]"
      ]
    },
    {
      "cell_type": "markdown",
      "metadata": {
        "id": "o9UStzhsg3ib"
      },
      "source": [
        "### 3. Convert the amenities column to a list, and add a new column with the number of amenities to be used for our prediction."
      ]
    },
    {
      "cell_type": "code",
      "execution_count": null,
      "metadata": {
        "colab": {
          "base_uri": "https://localhost:8080/"
        },
        "id": "4NfAXRWQgwEn",
        "outputId": "1cedd4f5-ce03-4f25-857f-c2c006225712"
      },
      "outputs": [
        {
          "output_type": "execute_result",
          "data": {
            "text/plain": [
              "0       [\"Cooking basics\", \"Refrigerator\", \"Kitchen\", ...\n",
              "1       [\"Cooking basics\", \"Heating\", \"Kitchen\", \"Hair...\n",
              "2       [\"Air conditioning\", \"Shampoo\", \"Smoke alarm\",...\n",
              "3       [\"Air conditioning\", \"Shampoo\", \"Smoke alarm\",...\n",
              "4       [\"Cooking basics\", \"Kitchen\", \"Private entranc...\n",
              "                              ...                        \n",
              "2275    [\"Air conditioning\", \"Fire extinguisher\", \"Sec...\n",
              "2276    [\"Air conditioning\", \"Fire extinguisher\", \"Sec...\n",
              "2277    [\"Air conditioning\", \"Fire extinguisher\", \"Sec...\n",
              "2278    [\"First aid kit\", \"EV charger\", \"Heating\", \"Re...\n",
              "2279    [\"Air conditioning\", \"Fire extinguisher\", \"Fir...\n",
              "Name: amenities, Length: 2280, dtype: object"
            ]
          },
          "metadata": {},
          "execution_count": 204
        }
      ],
      "source": [
        "airDF[\"amenities\"]"
      ]
    },
    {
      "cell_type": "code",
      "execution_count": null,
      "metadata": {
        "colab": {
          "base_uri": "https://localhost:8080/"
        },
        "id": "3Ho7aKHWh_kN",
        "outputId": "b0c2c6bc-b276-45b9-e939-874a35ea73f3"
      },
      "outputs": [
        {
          "output_type": "stream",
          "name": "stderr",
          "text": [
            "<ipython-input-205-a56617251945>:13: SettingWithCopyWarning: \n",
            "A value is trying to be set on a copy of a slice from a DataFrame\n",
            "\n",
            "See the caveats in the documentation: https://pandas.pydata.org/pandas-docs/stable/user_guide/indexing.html#returning-a-view-versus-a-copy\n",
            "  airDF[\"amenities\"][count] = x\n",
            "<ipython-input-205-a56617251945>:14: SettingWithCopyWarning: \n",
            "A value is trying to be set on a copy of a slice from a DataFrame\n",
            "\n",
            "See the caveats in the documentation: https://pandas.pydata.org/pandas-docs/stable/user_guide/indexing.html#returning-a-view-versus-a-copy\n",
            "  airDF[\"no_amenities\"][count] = len(x)\n"
          ]
        }
      ],
      "source": [
        "#Add a new column of amenities\n",
        "airDF[\"no_amenities\"] = 0\n",
        "#Replace all with the integer variant\n",
        "count = 0\n",
        "for x in airDF[\"amenities\"]:   \n",
        "    #Convert string into list\n",
        "    #Convert string into list\n",
        "    x = x.replace('[',\"\")\n",
        "    x = x.replace(']',\"\")\n",
        "    x = x.replace('\"', \"\")\n",
        "    x = x.replace(\", \", \",\")\n",
        "    x = x.split(\",\")\n",
        "    airDF[\"amenities\"][count] = x\n",
        "    airDF[\"no_amenities\"][count] = len(x)\n",
        "    count += 1"
      ]
    },
    {
      "cell_type": "code",
      "execution_count": null,
      "metadata": {
        "colab": {
          "base_uri": "https://localhost:8080/"
        },
        "id": "Lhbl3Pf8JJri",
        "outputId": "c00c5f1b-5dd8-4bfa-8672-f6f887eb90e5"
      },
      "outputs": [
        {
          "output_type": "execute_result",
          "data": {
            "text/plain": [
              "0    [Cooking basics, Refrigerator, Kitchen, Hair d...\n",
              "1    [Cooking basics, Heating, Kitchen, Hair dryer,...\n",
              "2    [Air conditioning, Shampoo, Smoke alarm, Long ...\n",
              "3    [Air conditioning, Shampoo, Smoke alarm, Long ...\n",
              "4    [Cooking basics, Kitchen, Private entrance, Ha...\n",
              "Name: amenities, dtype: object"
            ]
          },
          "metadata": {},
          "execution_count": 206
        }
      ],
      "source": [
        "airDF[\"amenities\"].head(n=5)"
      ]
    },
    {
      "cell_type": "code",
      "execution_count": null,
      "metadata": {
        "colab": {
          "base_uri": "https://localhost:8080/"
        },
        "id": "DlU3SR2TJJlE",
        "outputId": "acfabd6a-eda4-4b00-a96f-920235fdde5b"
      },
      "outputs": [
        {
          "output_type": "execute_result",
          "data": {
            "text/plain": [
              "0    31\n",
              "1    26\n",
              "2    17\n",
              "3    18\n",
              "4    32\n",
              "Name: no_amenities, dtype: int64"
            ]
          },
          "metadata": {},
          "execution_count": 207
        }
      ],
      "source": [
        "airDF[\"no_amenities\"].head(n=5)"
      ]
    },
    {
      "cell_type": "code",
      "execution_count": null,
      "metadata": {
        "colab": {
          "base_uri": "https://localhost:8080/"
        },
        "id": "kJYiAqnfJfLl",
        "outputId": "8e0a7cad-8e09-40ef-aea4-10ea72f9e093"
      },
      "outputs": [
        {
          "output_type": "execute_result",
          "data": {
            "text/plain": [
              "                    amenity  count\n",
              "9   Long term stays allowed   2263\n",
              "7                      Wifi   2211\n",
              "32         Air conditioning   2105\n",
              "17               Essentials   1949\n",
              "2                   Kitchen   1823\n",
              "43                  Hangers   1805\n",
              "39                     Iron   1740\n",
              "30                   Washer   1703\n",
              "26                Hot water   1618\n",
              "3                Hair dryer   1555\n",
              "1              Refrigerator   1466\n",
              "10                    Dryer   1358\n",
              "24              Smoke alarm   1332\n",
              "35                Microwave   1310\n",
              "6                        TV   1292"
            ],
            "text/html": [
              "\n",
              "  <div id=\"df-458724ab-904f-45e4-b626-3bf6664fb96d\">\n",
              "    <div class=\"colab-df-container\">\n",
              "      <div>\n",
              "<style scoped>\n",
              "    .dataframe tbody tr th:only-of-type {\n",
              "        vertical-align: middle;\n",
              "    }\n",
              "\n",
              "    .dataframe tbody tr th {\n",
              "        vertical-align: top;\n",
              "    }\n",
              "\n",
              "    .dataframe thead th {\n",
              "        text-align: right;\n",
              "    }\n",
              "</style>\n",
              "<table border=\"1\" class=\"dataframe\">\n",
              "  <thead>\n",
              "    <tr style=\"text-align: right;\">\n",
              "      <th></th>\n",
              "      <th>amenity</th>\n",
              "      <th>count</th>\n",
              "    </tr>\n",
              "  </thead>\n",
              "  <tbody>\n",
              "    <tr>\n",
              "      <th>9</th>\n",
              "      <td>Long term stays allowed</td>\n",
              "      <td>2263</td>\n",
              "    </tr>\n",
              "    <tr>\n",
              "      <th>7</th>\n",
              "      <td>Wifi</td>\n",
              "      <td>2211</td>\n",
              "    </tr>\n",
              "    <tr>\n",
              "      <th>32</th>\n",
              "      <td>Air conditioning</td>\n",
              "      <td>2105</td>\n",
              "    </tr>\n",
              "    <tr>\n",
              "      <th>17</th>\n",
              "      <td>Essentials</td>\n",
              "      <td>1949</td>\n",
              "    </tr>\n",
              "    <tr>\n",
              "      <th>2</th>\n",
              "      <td>Kitchen</td>\n",
              "      <td>1823</td>\n",
              "    </tr>\n",
              "    <tr>\n",
              "      <th>43</th>\n",
              "      <td>Hangers</td>\n",
              "      <td>1805</td>\n",
              "    </tr>\n",
              "    <tr>\n",
              "      <th>39</th>\n",
              "      <td>Iron</td>\n",
              "      <td>1740</td>\n",
              "    </tr>\n",
              "    <tr>\n",
              "      <th>30</th>\n",
              "      <td>Washer</td>\n",
              "      <td>1703</td>\n",
              "    </tr>\n",
              "    <tr>\n",
              "      <th>26</th>\n",
              "      <td>Hot water</td>\n",
              "      <td>1618</td>\n",
              "    </tr>\n",
              "    <tr>\n",
              "      <th>3</th>\n",
              "      <td>Hair dryer</td>\n",
              "      <td>1555</td>\n",
              "    </tr>\n",
              "    <tr>\n",
              "      <th>1</th>\n",
              "      <td>Refrigerator</td>\n",
              "      <td>1466</td>\n",
              "    </tr>\n",
              "    <tr>\n",
              "      <th>10</th>\n",
              "      <td>Dryer</td>\n",
              "      <td>1358</td>\n",
              "    </tr>\n",
              "    <tr>\n",
              "      <th>24</th>\n",
              "      <td>Smoke alarm</td>\n",
              "      <td>1332</td>\n",
              "    </tr>\n",
              "    <tr>\n",
              "      <th>35</th>\n",
              "      <td>Microwave</td>\n",
              "      <td>1310</td>\n",
              "    </tr>\n",
              "    <tr>\n",
              "      <th>6</th>\n",
              "      <td>TV</td>\n",
              "      <td>1292</td>\n",
              "    </tr>\n",
              "  </tbody>\n",
              "</table>\n",
              "</div>\n",
              "      <button class=\"colab-df-convert\" onclick=\"convertToInteractive('df-458724ab-904f-45e4-b626-3bf6664fb96d')\"\n",
              "              title=\"Convert this dataframe to an interactive table.\"\n",
              "              style=\"display:none;\">\n",
              "        \n",
              "  <svg xmlns=\"http://www.w3.org/2000/svg\" height=\"24px\"viewBox=\"0 0 24 24\"\n",
              "       width=\"24px\">\n",
              "    <path d=\"M0 0h24v24H0V0z\" fill=\"none\"/>\n",
              "    <path d=\"M18.56 5.44l.94 2.06.94-2.06 2.06-.94-2.06-.94-.94-2.06-.94 2.06-2.06.94zm-11 1L8.5 8.5l.94-2.06 2.06-.94-2.06-.94L8.5 2.5l-.94 2.06-2.06.94zm10 10l.94 2.06.94-2.06 2.06-.94-2.06-.94-.94-2.06-.94 2.06-2.06.94z\"/><path d=\"M17.41 7.96l-1.37-1.37c-.4-.4-.92-.59-1.43-.59-.52 0-1.04.2-1.43.59L10.3 9.45l-7.72 7.72c-.78.78-.78 2.05 0 2.83L4 21.41c.39.39.9.59 1.41.59.51 0 1.02-.2 1.41-.59l7.78-7.78 2.81-2.81c.8-.78.8-2.07 0-2.86zM5.41 20L4 18.59l7.72-7.72 1.47 1.35L5.41 20z\"/>\n",
              "  </svg>\n",
              "      </button>\n",
              "      \n",
              "  <style>\n",
              "    .colab-df-container {\n",
              "      display:flex;\n",
              "      flex-wrap:wrap;\n",
              "      gap: 12px;\n",
              "    }\n",
              "\n",
              "    .colab-df-convert {\n",
              "      background-color: #E8F0FE;\n",
              "      border: none;\n",
              "      border-radius: 50%;\n",
              "      cursor: pointer;\n",
              "      display: none;\n",
              "      fill: #1967D2;\n",
              "      height: 32px;\n",
              "      padding: 0 0 0 0;\n",
              "      width: 32px;\n",
              "    }\n",
              "\n",
              "    .colab-df-convert:hover {\n",
              "      background-color: #E2EBFA;\n",
              "      box-shadow: 0px 1px 2px rgba(60, 64, 67, 0.3), 0px 1px 3px 1px rgba(60, 64, 67, 0.15);\n",
              "      fill: #174EA6;\n",
              "    }\n",
              "\n",
              "    [theme=dark] .colab-df-convert {\n",
              "      background-color: #3B4455;\n",
              "      fill: #D2E3FC;\n",
              "    }\n",
              "\n",
              "    [theme=dark] .colab-df-convert:hover {\n",
              "      background-color: #434B5C;\n",
              "      box-shadow: 0px 1px 3px 1px rgba(0, 0, 0, 0.15);\n",
              "      filter: drop-shadow(0px 1px 2px rgba(0, 0, 0, 0.3));\n",
              "      fill: #FFFFFF;\n",
              "    }\n",
              "  </style>\n",
              "\n",
              "      <script>\n",
              "        const buttonEl =\n",
              "          document.querySelector('#df-458724ab-904f-45e4-b626-3bf6664fb96d button.colab-df-convert');\n",
              "        buttonEl.style.display =\n",
              "          google.colab.kernel.accessAllowed ? 'block' : 'none';\n",
              "\n",
              "        async function convertToInteractive(key) {\n",
              "          const element = document.querySelector('#df-458724ab-904f-45e4-b626-3bf6664fb96d');\n",
              "          const dataTable =\n",
              "            await google.colab.kernel.invokeFunction('convertToInteractive',\n",
              "                                                     [key], {});\n",
              "          if (!dataTable) return;\n",
              "\n",
              "          const docLinkHtml = 'Like what you see? Visit the ' +\n",
              "            '<a target=\"_blank\" href=https://colab.research.google.com/notebooks/data_table.ipynb>data table notebook</a>'\n",
              "            + ' to learn more about interactive tables.';\n",
              "          element.innerHTML = '';\n",
              "          dataTable['output_type'] = 'display_data';\n",
              "          await google.colab.output.renderOutput(dataTable, element);\n",
              "          const docLink = document.createElement('div');\n",
              "          docLink.innerHTML = docLinkHtml;\n",
              "          element.appendChild(docLink);\n",
              "        }\n",
              "      </script>\n",
              "    </div>\n",
              "  </div>\n",
              "  "
            ]
          },
          "metadata": {},
          "execution_count": 208
        }
      ],
      "source": [
        "#Want to visualize the total count of amenities so we can form a generalization such that our number of amenities remains reliable.\n",
        "amenityCount = {}\n",
        "for x in airDF[\"amenities\"]:\n",
        "    for item in x:\n",
        "        if item in amenityCount:\n",
        "            amenityCount[item] += 1\n",
        "        else:\n",
        "            amenityCount[item] = 1\n",
        "        \n",
        "#Add it to a DF\n",
        "amenityCountDF = pd.DataFrame(columns = [\"amenity\", \"count\"])\n",
        "count = 0\n",
        "for keys, values in amenityCount.items():\n",
        "    amenityCountDF.loc[count] = [keys, values]\n",
        "    count += 1\n",
        "\n",
        "#Sort the DF\n",
        "amenityCountDF = amenityCountDF.sort_values(by=\"count\", ascending = False)\n",
        "amenityCountDF.head(n=15)"
      ]
    },
    {
      "cell_type": "code",
      "execution_count": null,
      "metadata": {
        "colab": {
          "base_uri": "https://localhost:8080/"
        },
        "id": "LPd8kGnNJhzu",
        "outputId": "0c84c46e-e29a-47c9-9e52-47d6e4b69c3a"
      },
      "outputs": [
        {
          "output_type": "execute_result",
          "data": {
            "text/plain": [
              "                                  amenity  count\n",
              "269      43\\ HDTV with Amazon Prime Video      1\n",
              "270                               Fire TV      1\n",
              "271                   Body soap body soap      1\n",
              "272             Fast wifi \\u2013 325 Mbps      1\n",
              "275             Fast wifi \\u2013 152 Mbps      1\n",
              "277       Coffee maker: drip coffee maker      1\n",
              "278                   BBQ grill: electric      1\n",
              "280  Private outdoor pool - olympic-sized      1\n",
              "284              HDTV with standard cable      1\n",
              "393            Coffee maker: french press      1"
            ],
            "text/html": [
              "\n",
              "  <div id=\"df-8272d86d-85aa-46f2-bf73-1dafb7c8d50b\">\n",
              "    <div class=\"colab-df-container\">\n",
              "      <div>\n",
              "<style scoped>\n",
              "    .dataframe tbody tr th:only-of-type {\n",
              "        vertical-align: middle;\n",
              "    }\n",
              "\n",
              "    .dataframe tbody tr th {\n",
              "        vertical-align: top;\n",
              "    }\n",
              "\n",
              "    .dataframe thead th {\n",
              "        text-align: right;\n",
              "    }\n",
              "</style>\n",
              "<table border=\"1\" class=\"dataframe\">\n",
              "  <thead>\n",
              "    <tr style=\"text-align: right;\">\n",
              "      <th></th>\n",
              "      <th>amenity</th>\n",
              "      <th>count</th>\n",
              "    </tr>\n",
              "  </thead>\n",
              "  <tbody>\n",
              "    <tr>\n",
              "      <th>269</th>\n",
              "      <td>43\\ HDTV with Amazon Prime Video</td>\n",
              "      <td>1</td>\n",
              "    </tr>\n",
              "    <tr>\n",
              "      <th>270</th>\n",
              "      <td>Fire TV</td>\n",
              "      <td>1</td>\n",
              "    </tr>\n",
              "    <tr>\n",
              "      <th>271</th>\n",
              "      <td>Body soap body soap</td>\n",
              "      <td>1</td>\n",
              "    </tr>\n",
              "    <tr>\n",
              "      <th>272</th>\n",
              "      <td>Fast wifi \\u2013 325 Mbps</td>\n",
              "      <td>1</td>\n",
              "    </tr>\n",
              "    <tr>\n",
              "      <th>275</th>\n",
              "      <td>Fast wifi \\u2013 152 Mbps</td>\n",
              "      <td>1</td>\n",
              "    </tr>\n",
              "    <tr>\n",
              "      <th>277</th>\n",
              "      <td>Coffee maker: drip coffee maker</td>\n",
              "      <td>1</td>\n",
              "    </tr>\n",
              "    <tr>\n",
              "      <th>278</th>\n",
              "      <td>BBQ grill: electric</td>\n",
              "      <td>1</td>\n",
              "    </tr>\n",
              "    <tr>\n",
              "      <th>280</th>\n",
              "      <td>Private outdoor pool - olympic-sized</td>\n",
              "      <td>1</td>\n",
              "    </tr>\n",
              "    <tr>\n",
              "      <th>284</th>\n",
              "      <td>HDTV with standard cable</td>\n",
              "      <td>1</td>\n",
              "    </tr>\n",
              "    <tr>\n",
              "      <th>393</th>\n",
              "      <td>Coffee maker: french press</td>\n",
              "      <td>1</td>\n",
              "    </tr>\n",
              "  </tbody>\n",
              "</table>\n",
              "</div>\n",
              "      <button class=\"colab-df-convert\" onclick=\"convertToInteractive('df-8272d86d-85aa-46f2-bf73-1dafb7c8d50b')\"\n",
              "              title=\"Convert this dataframe to an interactive table.\"\n",
              "              style=\"display:none;\">\n",
              "        \n",
              "  <svg xmlns=\"http://www.w3.org/2000/svg\" height=\"24px\"viewBox=\"0 0 24 24\"\n",
              "       width=\"24px\">\n",
              "    <path d=\"M0 0h24v24H0V0z\" fill=\"none\"/>\n",
              "    <path d=\"M18.56 5.44l.94 2.06.94-2.06 2.06-.94-2.06-.94-.94-2.06-.94 2.06-2.06.94zm-11 1L8.5 8.5l.94-2.06 2.06-.94-2.06-.94L8.5 2.5l-.94 2.06-2.06.94zm10 10l.94 2.06.94-2.06 2.06-.94-2.06-.94-.94-2.06-.94 2.06-2.06.94z\"/><path d=\"M17.41 7.96l-1.37-1.37c-.4-.4-.92-.59-1.43-.59-.52 0-1.04.2-1.43.59L10.3 9.45l-7.72 7.72c-.78.78-.78 2.05 0 2.83L4 21.41c.39.39.9.59 1.41.59.51 0 1.02-.2 1.41-.59l7.78-7.78 2.81-2.81c.8-.78.8-2.07 0-2.86zM5.41 20L4 18.59l7.72-7.72 1.47 1.35L5.41 20z\"/>\n",
              "  </svg>\n",
              "      </button>\n",
              "      \n",
              "  <style>\n",
              "    .colab-df-container {\n",
              "      display:flex;\n",
              "      flex-wrap:wrap;\n",
              "      gap: 12px;\n",
              "    }\n",
              "\n",
              "    .colab-df-convert {\n",
              "      background-color: #E8F0FE;\n",
              "      border: none;\n",
              "      border-radius: 50%;\n",
              "      cursor: pointer;\n",
              "      display: none;\n",
              "      fill: #1967D2;\n",
              "      height: 32px;\n",
              "      padding: 0 0 0 0;\n",
              "      width: 32px;\n",
              "    }\n",
              "\n",
              "    .colab-df-convert:hover {\n",
              "      background-color: #E2EBFA;\n",
              "      box-shadow: 0px 1px 2px rgba(60, 64, 67, 0.3), 0px 1px 3px 1px rgba(60, 64, 67, 0.15);\n",
              "      fill: #174EA6;\n",
              "    }\n",
              "\n",
              "    [theme=dark] .colab-df-convert {\n",
              "      background-color: #3B4455;\n",
              "      fill: #D2E3FC;\n",
              "    }\n",
              "\n",
              "    [theme=dark] .colab-df-convert:hover {\n",
              "      background-color: #434B5C;\n",
              "      box-shadow: 0px 1px 3px 1px rgba(0, 0, 0, 0.15);\n",
              "      filter: drop-shadow(0px 1px 2px rgba(0, 0, 0, 0.3));\n",
              "      fill: #FFFFFF;\n",
              "    }\n",
              "  </style>\n",
              "\n",
              "      <script>\n",
              "        const buttonEl =\n",
              "          document.querySelector('#df-8272d86d-85aa-46f2-bf73-1dafb7c8d50b button.colab-df-convert');\n",
              "        buttonEl.style.display =\n",
              "          google.colab.kernel.accessAllowed ? 'block' : 'none';\n",
              "\n",
              "        async function convertToInteractive(key) {\n",
              "          const element = document.querySelector('#df-8272d86d-85aa-46f2-bf73-1dafb7c8d50b');\n",
              "          const dataTable =\n",
              "            await google.colab.kernel.invokeFunction('convertToInteractive',\n",
              "                                                     [key], {});\n",
              "          if (!dataTable) return;\n",
              "\n",
              "          const docLinkHtml = 'Like what you see? Visit the ' +\n",
              "            '<a target=\"_blank\" href=https://colab.research.google.com/notebooks/data_table.ipynb>data table notebook</a>'\n",
              "            + ' to learn more about interactive tables.';\n",
              "          element.innerHTML = '';\n",
              "          dataTable['output_type'] = 'display_data';\n",
              "          await google.colab.output.renderOutput(dataTable, element);\n",
              "          const docLink = document.createElement('div');\n",
              "          docLink.innerHTML = docLinkHtml;\n",
              "          element.appendChild(docLink);\n",
              "        }\n",
              "      </script>\n",
              "    </div>\n",
              "  </div>\n",
              "  "
            ]
          },
          "metadata": {},
          "execution_count": 209
        }
      ],
      "source": [
        "amenityCountDF.tail(n=10)"
      ]
    },
    {
      "cell_type": "markdown",
      "metadata": {
        "id": "ugII9aeyJjIF"
      },
      "source": [
        "We have decided to only use those amenities that are very prominent in most of the listings as the number of amenities should be consistent, and not be filled with many values that do not matter. For example, we do not know what Fire TV is."
      ]
    },
    {
      "cell_type": "code",
      "execution_count": null,
      "metadata": {
        "id": "pgBKIE1sJo9v"
      },
      "outputs": [],
      "source": [
        "#Changeable cutoff that are determined by us to check for robustness of our model\n",
        "amenityCutOff = 30"
      ]
    },
    {
      "cell_type": "code",
      "execution_count": null,
      "metadata": {
        "id": "qM8cjootJp2a"
      },
      "outputs": [],
      "source": [
        "uselessAmenityList = amenityCountDF[amenityCountDF[\"count\"] <= amenityCutOff][\"amenity\"].values.tolist()"
      ]
    },
    {
      "cell_type": "code",
      "execution_count": null,
      "metadata": {
        "colab": {
          "base_uri": "https://localhost:8080/"
        },
        "id": "AyjUkunuJqp6",
        "outputId": "7eed8cf0-2f4a-40ab-a982-531aa9b65564"
      },
      "outputs": [
        {
          "output_type": "stream",
          "name": "stderr",
          "text": [
            "<ipython-input-212-ae78827c68ad>:5: SettingWithCopyWarning: \n",
            "A value is trying to be set on a copy of a slice from a DataFrame\n",
            "\n",
            "See the caveats in the documentation: https://pandas.pydata.org/pandas-docs/stable/user_guide/indexing.html#returning-a-view-versus-a-copy\n",
            "  airDF[\"amenities\"][count] = l\n",
            "<ipython-input-212-ae78827c68ad>:6: SettingWithCopyWarning: \n",
            "A value is trying to be set on a copy of a slice from a DataFrame\n",
            "\n",
            "See the caveats in the documentation: https://pandas.pydata.org/pandas-docs/stable/user_guide/indexing.html#returning-a-view-versus-a-copy\n",
            "  airDF[\"no_amenities\"][count] = len(l)\n"
          ]
        }
      ],
      "source": [
        "#Remove all values in our df that correspond to our useless amenity list\n",
        "count = 0\n",
        "for x in airDF[\"amenities\"]:\n",
        "    l = [i for i in x if i not in uselessAmenityList]\n",
        "    airDF[\"amenities\"][count] = l\n",
        "    airDF[\"no_amenities\"][count] = len(l)\n",
        "    count +=1"
      ]
    },
    {
      "cell_type": "markdown",
      "metadata": {
        "id": "TR7SXNKIvzMF"
      },
      "source": [
        "### 4. Fill in na values in host_response_time to be a value as we are using it to gather insights"
      ]
    },
    {
      "cell_type": "code",
      "execution_count": null,
      "metadata": {
        "colab": {
          "base_uri": "https://localhost:8080/"
        },
        "id": "HsiS8zKzv6gr",
        "outputId": "5a9f43db-da83-4b1f-d1a3-a5dc524d5eb5"
      },
      "outputs": [
        {
          "output_type": "stream",
          "name": "stdout",
          "text": [
            "Null values: 96\n"
          ]
        }
      ],
      "source": [
        "print(\"Null values:\", airDF[\"host_response_time\"].isnull().sum().sum())"
      ]
    },
    {
      "cell_type": "code",
      "execution_count": null,
      "metadata": {
        "colab": {
          "base_uri": "https://localhost:8080/"
        },
        "id": "JKAY-XMhwBsP",
        "outputId": "c8c3370e-d14a-446f-e4a3-c4fd0f18d973"
      },
      "outputs": [
        {
          "output_type": "execute_result",
          "data": {
            "text/plain": [
              "within an hour        854\n",
              "within a few hours    737\n",
              "within a day          479\n",
              "a few days or more    114\n",
              "Name: host_response_time, dtype: int64"
            ]
          },
          "metadata": {},
          "execution_count": 214
        }
      ],
      "source": [
        "airDF[\"host_response_time\"].value_counts()"
      ]
    },
    {
      "cell_type": "code",
      "execution_count": null,
      "metadata": {
        "id": "8802nSSFwFdN"
      },
      "outputs": [],
      "source": [
        "#Fill it to be the worst scenario to achieve better distribution\n",
        "airDF = airDF.fillna(value = {\"host_response_time\": \"a few days or more\"})\n",
        "None"
      ]
    },
    {
      "cell_type": "code",
      "execution_count": null,
      "metadata": {
        "colab": {
          "base_uri": "https://localhost:8080/"
        },
        "id": "tD61eM8uwj_E",
        "outputId": "f6e03a93-906d-478c-9fc7-fd03fd6355b5"
      },
      "outputs": [
        {
          "output_type": "stream",
          "name": "stdout",
          "text": [
            "Null values: 0\n"
          ]
        }
      ],
      "source": [
        "print(\"Null values:\", airDF[\"host_response_time\"].isnull().sum().sum())"
      ]
    },
    {
      "cell_type": "code",
      "execution_count": null,
      "metadata": {
        "colab": {
          "base_uri": "https://localhost:8080/"
        },
        "id": "-YRfiStqwq5U",
        "outputId": "3d424a0b-94ca-4623-8820-22988a4e0eaa"
      },
      "outputs": [
        {
          "output_type": "execute_result",
          "data": {
            "text/plain": [
              "within an hour        854\n",
              "within a few hours    737\n",
              "within a day          479\n",
              "a few days or more    210\n",
              "Name: host_response_time, dtype: int64"
            ]
          },
          "metadata": {},
          "execution_count": 217
        }
      ],
      "source": [
        "airDF[\"host_response_time\"].value_counts()"
      ]
    },
    {
      "cell_type": "markdown",
      "source": [
        "---\n",
        "\n",
        ">## Splitting the Dataset"
      ],
      "metadata": {
        "id": "mQsqiqCSeAQt"
      }
    },
    {
      "cell_type": "code",
      "source": [
        "#Split the dataset into train and test in 80:20 ratio\n",
        "train_data, test_data = train_test_split(airDF, test_size = 0.2, random_state = 55)\n",
        "\n",
        "#Print out what we have in our test and train data\n",
        "print(\"Train Data :\")\n",
        "print(\"Data type : \", type(train_data))\n",
        "print(\"Data dim : \", train_data.shape)\n",
        "print(\"---------------------------------------\")\n",
        "print(\"Test Data :\")\n",
        "print(\"Data type : \", type(test_data))\n",
        "print(\"Data dim : \", test_data.shape)\n",
        "print(\"---------------------------------------\")"
      ],
      "metadata": {
        "colab": {
          "base_uri": "https://localhost:8080/"
        },
        "id": "mV0OCKPLeZZE",
        "outputId": "7dafae52-f6b9-42bd-ee57-d023c47b29a6"
      },
      "execution_count": null,
      "outputs": [
        {
          "output_type": "stream",
          "name": "stdout",
          "text": [
            "Train Data :\n",
            "Data type :  <class 'pandas.core.frame.DataFrame'>\n",
            "Data dim :  (1824, 28)\n",
            "---------------------------------------\n",
            "Test Data :\n",
            "Data type :  <class 'pandas.core.frame.DataFrame'>\n",
            "Data dim :  (456, 28)\n",
            "---------------------------------------\n"
          ]
        }
      ]
    },
    {
      "cell_type": "markdown",
      "source": [
        "---\n",
        "\n",
        ">## 1. Linear Regression "
      ],
      "metadata": {
        "id": "CCReoeXO-zLn"
      }
    },
    {
      "cell_type": "code",
      "source": [
        "priceDF = airDF[\"price\"]\n",
        "priceDF.head(n=5)"
      ],
      "metadata": {
        "id": "erEEzZdosGoa"
      },
      "execution_count": null,
      "outputs": []
    },
    {
      "cell_type": "markdown",
      "source": [
        "#### 1a) Using all features (Jsen help put one hot encoding code here so we can use all)"
      ],
      "metadata": {
        "id": "dPrd50vUgtyQ"
      }
    },
    {
      "cell_type": "markdown",
      "source": [
        "#### 1b) host_response_time vs price "
      ],
      "metadata": {
        "id": "Xi0RJBW8gzf4"
      }
    },
    {
      "cell_type": "markdown",
      "source": [
        "#### 1c) neighbourhood_cleansed vs price "
      ],
      "metadata": {
        "id": "wlBmg1qajcD_"
      }
    },
    {
      "cell_type": "markdown",
      "source": [
        "#### 1d) property_type vs price "
      ],
      "metadata": {
        "id": "zxj9SrlTjcB9"
      }
    },
    {
      "cell_type": "markdown",
      "source": [
        "#### 1e) accommodates vs price "
      ],
      "metadata": {
        "id": "EP-xJsfSjb_8"
      }
    },
    {
      "cell_type": "code",
      "source": [
        "#Try to predict price using accommodates\n",
        "accommodatesDF = pd.DataFrame(airDF[\"accommodates\"])\n",
        "price_test, price_train_pred, price_test_pred, explainedVariance = calcLinRegression(accommodatesDF, priceDF, solidLine= True, xTitle = \"accommodates\", yTitle = \"price\")\n",
        "None"
      ],
      "metadata": {
        "id": "RkkVwKVAlKNv"
      },
      "execution_count": null,
      "outputs": []
    },
    {
      "cell_type": "markdown",
      "source": [
        "Using linear regression, the explained variance of just ~0.10 to ~0.14 shows that accommodates does not prove to be very useful in being a factor that affects price, and its mean squared error is very high."
      ],
      "metadata": {
        "id": "9Suox5EqqEC6"
      }
    },
    {
      "cell_type": "markdown",
      "source": [
        "#### 1f) amenities vs price "
      ],
      "metadata": {
        "id": "5uUu7JqYjb69"
      }
    },
    {
      "cell_type": "markdown",
      "source": [
        "We will go through two approaches, one using the amenities in a one hot encoding, and the other using the number of amenities."
      ],
      "metadata": {
        "id": "y9uYE6S8qdz7"
      }
    },
    {
      "cell_type": "code",
      "source": [
        "#Insert categorical prediction (JSEN PLS BUCK UP)"
      ],
      "metadata": {
        "id": "aILb1anMrvRB"
      },
      "execution_count": null,
      "outputs": []
    },
    {
      "cell_type": "code",
      "source": [
        "#Try to predict price using no_amenities\n",
        "noAmenitiesDF = pd.DataFrame(airDF[\"no_amenities\"])\n",
        "price_test, price_train_pred, price_test_pred, explainedVariance = calcLinRegression(noAmenitiesDF, priceDF, solidLine= True, xTitle = \"no_amenites\", yTitle = \"price\")\n",
        "None"
      ],
      "metadata": {
        "id": "mbD6HOcmrtsm"
      },
      "execution_count": null,
      "outputs": []
    },
    {
      "cell_type": "markdown",
      "source": [
        "#### 1g) number_of_reviews vs price "
      ],
      "metadata": {
        "id": "Ax2aAyhMjb4_"
      }
    },
    {
      "cell_type": "code",
      "source": [
        "#Try to predict price using number_of_reviews\n",
        "reviewsDF = pd.DataFrame(airDF[\"number_of_reviews\"])\n",
        "price_test, price_train_pred, price_test_pred, explainedVariance = calcLinRegression(reviewsDF, priceDF, solidLine= True, xTitle = \"number of reviews\", yTitle = \"price\")\n",
        "None"
      ],
      "metadata": {
        "id": "__S5XCODPuQL"
      },
      "execution_count": null,
      "outputs": []
    },
    {
      "cell_type": "code",
      "source": [],
      "metadata": {
        "id": "LOCyV99DsRZU"
      },
      "execution_count": null,
      "outputs": []
    }
  ],
  "metadata": {
    "colab": {
      "provenance": [],
      "collapsed_sections": [
        "Tcoll3Qzk1jo",
        "DhcgD6G8qKqW",
        "xvcjlDhH9xYv",
        "LMl2vZu2dSoE",
        "o9UStzhsg3ib",
        "TR7SXNKIvzMF"
      ],
      "include_colab_link": true
    },
    "kernelspec": {
      "display_name": "base",
      "language": "python",
      "name": "python3"
    },
    "language_info": {
      "codemirror_mode": {
        "name": "ipython",
        "version": 3
      },
      "file_extension": ".py",
      "mimetype": "text/x-python",
      "name": "python",
      "nbconvert_exporter": "python",
      "pygments_lexer": "ipython3",
      "version": "3.9.13"
    },
    "vscode": {
      "interpreter": {
        "hash": "940f12be6d1e3c772de5e10a7b94e682f51674366be4bae6e0d292c730fd019e"
      }
    }
  },
  "nbformat": 4,
  "nbformat_minor": 0
}