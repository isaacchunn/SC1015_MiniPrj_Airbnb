{
 "cells": [
  {
   "attachments": {},
   "cell_type": "markdown",
   "metadata": {},
   "source": [
    "## Dataset : Airbnb Singapore Dataset from InsideAirbnb\n",
    "Dataset from Airbnb : **\"Singapore, 29 December 2022\"**  \n",
    "Source: http://insideairbnb.com/get-the-data/\n",
    "\n",
    "### EDA on Last 25 Variables in dataset  \n",
    "The purpose of this file is to conduct exploratory data analysis on the last 25 variables in our dataset.  \n",
    "### Done by: <b>Teck Meng</b>\n",
    "\n",
    "---\n",
    "\n",
    "### Essential Libraries\n",
    "\n",
    "Import essential libraries such as numpy, pandas, matplotlib and seaborn.\n",
    "\n",
    "> NumPy : Library for Numeric Computations in Python  \n",
    "> Pandas : Library for Data Acquisition and Preparation  \n",
    "> Matplotlib : Low-level library for Data Visualization  \n",
    "> Seaborn : Higher-level library for Data Visualization  "
   ]
  },
  {
   "cell_type": "code",
   "execution_count": 2447,
   "metadata": {},
   "outputs": [],
   "source": [
    "import numpy as np\n",
    "import pandas as pd \n",
    "import seaborn as sb \n",
    "import matplotlib.pyplot as plt \n",
    "sb.set()"
   ]
  },
  {
   "attachments": {},
   "cell_type": "markdown",
   "metadata": {},
   "source": [
    "### Additional Libraries\n",
    "\n",
    "Import additional libraries\n",
    "\n",
    "> Wordcloud : Library to create tag clouds in Python  "
   ]
  },
  {
   "cell_type": "code",
   "execution_count": 2448,
   "metadata": {},
   "outputs": [],
   "source": [
    "from wordcloud import WordCloud"
   ]
  },
  {
   "attachments": {},
   "cell_type": "markdown",
   "metadata": {},
   "source": [
    "---\n"
   ]
  },
  {
   "attachments": {},
   "cell_type": "markdown",
   "metadata": {},
   "source": [
    "# Features Description"
   ]
  },
  {
   "attachments": {},
   "cell_type": "markdown",
   "metadata": {},
   "source": [
    "This dataset contains 75 features about Airbnb listings within Singapore. This notebook encompasses the cleaning & exploration <br>data analysis (EDA) of the middle 25 features.\n",
    "Below are the features with their respective descriptions</br>"
   ]
  },
  {
   "attachments": {},
   "cell_type": "markdown",
   "metadata": {},
   "source": [
    "This is the analysis on the last 25 columns of data about Airbnb listings which. The columns and its description are as follows:\n",
    "\n",
    "51. availability_30 : number of days the listing is available for booking in the last 30 days                            \n",
    "52. availability_60 : number of days the listing is available for booking in the last 60 days                           \n",
    "53. availability_90 : number of days the listing is available for booking in the last 90 days                            \n",
    "54. availability_365 : number of days the listing is available for booking in the last 365 days                            \n",
    "55. calendar_last_scraped : the date in which the data for each listing is scraped                       \n",
    "56. number_of_reviews : total number of reviews for each Airbnb listing                             \n",
    "57. number_of_reviews_ltm : total number of reviews for each Airbnb listing in the last 12 months                        \n",
    "58. number_of_reviews_l30d : total number of reviews for each Airbnb listing in the last 30 days                       \n",
    "59. first_review : date of 1st review received for each Airbnb listing                                 \n",
    "60. last_review  : date of last review received for each Airbnb listing                                 \n",
    "61. review_scores_rating : the average score from 0 to 5 that rates the Airbnb listing's total score                       \n",
    "62. review_scores_accuracy : the average score from 0 to 5 that rates how accurate the Airbnb listing online is to the actual place                        \n",
    "63. review_scores_cleanliness : the average score from 0 to 5 that rates the Airbnb listing's overall cleanliness                      \n",
    "64. review_scores_checkin : the average score from 0 to 5 that rates the Airbnb listing's ease of checking in                          \n",
    "65. review_scores_communication : the average score from 0 to 5 that rates the Airbnb listing's host's availability to the guest during the guest's stay                    \n",
    "66. review_scores_location : the average score from 0 to 5 that rates how ideal an Airbnb listing's location is to the guest                        \n",
    "67. review_scores_value : the average score from 0 to 5 that rates whether an Airbnb listing's quality matches the price of the listing                           \n",
    "68. license : indicates if the host is an authorised host                                       \n",
    "69. instant_bookable : a binary variable indicating if the listing is instantly bookable                              \n",
    "70. calculated_host_listings_count : number of listings the host has                \n",
    "71. calculated_host_listings_count_entire_homes: number of listings the host has that are entire homes   \n",
    "72. calculated_host_listings_count_private_rooms : number of listings the host has that are private rooms  \n",
    "73. calculated_host_listings_count_shared_rooms : number of listings the host has that are shared rooms\n",
    "74. reviews_per_month : average number of reviews received for each airbnb listing per month                             \n"
   ]
  },
  {
   "attachments": {},
   "cell_type": "markdown",
   "metadata": {},
   "source": [
    "---"
   ]
  },
  {
   "attachments": {},
   "cell_type": "markdown",
   "metadata": {},
   "source": [
    "# Visual data cleaning\n",
    "\n",
    "##### In the context of maximizing host profit, the following features can be dropped from the dataset as they provide no relevant insights for our predictions.\n",
    "\n",
    "1. **availability_30**\n",
    "2. **availability_60**\n",
    "3. **availability_90**\n",
    "4. **availability_365**\n",
    "5. **calendar_last_scraped**\n",
    "6. **number_of_reviews**\n",
    "7. **number_of_reviews_ltm**\n",
    "8. **number_of_reviews_130d**\n",
    "9. **first_review**\n",
    "10. **last_review**\n",
    "11. **calculated_host_listings_count**\n",
    "12. **calculated_host_listings_count_entire_homes**\n",
    "13. **calculated_host_listings_count_private_rooms**\n",
    "14. **calculated_host_listings_count_shared_rooms**\n",
    "15. **reviews_per_month**\n",
    "\n"
   ]
  },
  {
   "attachments": {},
   "cell_type": "markdown",
   "metadata": {},
   "source": [
    "---"
   ]
  },
  {
   "attachments": {},
   "cell_type": "markdown",
   "metadata": {},
   "source": [
    "### Below are features that we think might be informative for analyzing factors that impact host profit, so we shall conduct our EDA on them and gather insights:\n",
    "\n",
    "1. **review_scores_rating** : The rating could be an important factor that influences whether a guest would choose a listing.\n",
    "\n",
    "2. **review_scores_accuracy** : Similar to reviews_score_rating, this might be another significant metric that the guest look at to decide on whether to choose the listing or not.\n",
    "\n",
    "3. **review_scores_cleanliness** : Similar to reviews_score_rating, this might be another significant metric that the guest look at to decide on whether to choose the listing or not.\n",
    "\n",
    "4. **review_scores_checkin** : Similar to reviews_score_rating, this might be another significant metric that the guest look at to decide on whether to choose the listing or not.\n",
    "\n",
    "5. **review_scores_communication** : Similar to reviews_score_rating, this might be another significant metric that the guest look at to decide on whether to choose the listing or not.\n",
    "\n",
    "6. **review_scores_location** : Similar to reviews_score_rating, this might be another significant metric that the guest look at to decide on whether to choose the listing or not.\n",
    "\n",
    "7. **review_scores_value** : Similar to reviews_score_rating, this might be another significant metric that the guest look at to decide on whether to choose the listing or not.\n",
    "\n",
    "8. **license** : Whether a host is licensed or not might impact how trustworthy a listing seem to the guest.\n",
    "\n",
    "9. **instant_bookable** : Whether a place is instantly bookable or not might affect the profits."
   ]
  },
  {
   "cell_type": "code",
   "execution_count": 2449,
   "metadata": {},
   "outputs": [],
   "source": [
    "def remove_outliers(df, columns, factor=1.5):\n",
    "    # loop through each column and remove outliers based on the IQR method\n",
    "    for col in columns:\n",
    "        q1 = df[col].quantile(0.25)\n",
    "        q3 = df[col].quantile(0.75)\n",
    "        iqr = q3 - q1\n",
    "        upper_bound = q3 + factor * iqr\n",
    "        lower_bound = q1 - factor * iqr\n",
    "        df = df[(df[col] >= lower_bound) & (df[col] <= upper_bound)]\n",
    "    \n",
    "    return df"
   ]
  },
  {
   "cell_type": "code",
   "execution_count": 2450,
   "metadata": {},
   "outputs": [],
   "source": [
    "def countOutliers (df):\n",
    "    #Get the q1 and q3 datas to find out the 25% and 75% range, then calculate inter quartile range and then find out whiskers.\n",
    "    #Then count how many points lie outside of this range.\n",
    "    q1 = df.quantile(0.25)\n",
    "    q3 = df.quantile(0.75)\n",
    "    #Interquartile\n",
    "    iqr = q3 - q1\n",
    "    #Calculate whiskers\n",
    "    leftWhisker = q1 - (1.5 * iqr)\n",
    "    rightWhisker = q3 + (1.5 * iqr)\n",
    "    outliers = 0;\n",
    "    #Loop through data now\n",
    "    for data in df:\n",
    "        if(data < leftWhisker or data > rightWhisker):\n",
    "            outliers+=1\n",
    "\n",
    "    return outliers"
   ]
  },
  {
   "attachments": {},
   "cell_type": "markdown",
   "metadata": {},
   "source": [
    "---\n",
    "\n",
    ">## Import the Dataset"
   ]
  },
  {
   "cell_type": "code",
   "execution_count": 2451,
   "metadata": {},
   "outputs": [
    {
     "data": {
      "text/html": [
       "<div>\n",
       "<style scoped>\n",
       "    .dataframe tbody tr th:only-of-type {\n",
       "        vertical-align: middle;\n",
       "    }\n",
       "\n",
       "    .dataframe tbody tr th {\n",
       "        vertical-align: top;\n",
       "    }\n",
       "\n",
       "    .dataframe thead th {\n",
       "        text-align: right;\n",
       "    }\n",
       "</style>\n",
       "<table border=\"1\" class=\"dataframe\">\n",
       "  <thead>\n",
       "    <tr style=\"text-align: right;\">\n",
       "      <th></th>\n",
       "      <th>id</th>\n",
       "      <th>listing_url</th>\n",
       "      <th>scrape_id</th>\n",
       "      <th>last_scraped</th>\n",
       "      <th>source</th>\n",
       "      <th>name</th>\n",
       "      <th>description</th>\n",
       "      <th>neighborhood_overview</th>\n",
       "      <th>picture_url</th>\n",
       "      <th>host_id</th>\n",
       "      <th>...</th>\n",
       "      <th>review_scores_value</th>\n",
       "      <th>license</th>\n",
       "      <th>instant_bookable</th>\n",
       "      <th>calculated_host_listings_count</th>\n",
       "      <th>calculated_host_listings_count_entire_homes</th>\n",
       "      <th>calculated_host_listings_count_private_rooms</th>\n",
       "      <th>calculated_host_listings_count_shared_rooms</th>\n",
       "      <th>reviews_per_month</th>\n",
       "      <th>Unnamed: 75</th>\n",
       "      <th>Unnamed: 76</th>\n",
       "    </tr>\n",
       "  </thead>\n",
       "  <tbody>\n",
       "    <tr>\n",
       "      <th>0</th>\n",
       "      <td>4541183.0</td>\n",
       "      <td>https://www.airbnb.com/rooms/4541183</td>\n",
       "      <td>2.020000e+13</td>\n",
       "      <td>12/29/2022</td>\n",
       "      <td>city scrape</td>\n",
       "      <td>Boat Quay Studio Premium River View (South bri...</td>\n",
       "      <td>Studio Premium Apartments are ideal for couple...</td>\n",
       "      <td>Boat Quay is a popular and bustling area with ...</td>\n",
       "      <td>https://a0.muscache.com/pictures/5dd4acc0-79c5...</td>\n",
       "      <td>23336011</td>\n",
       "      <td>...</td>\n",
       "      <td>4.69</td>\n",
       "      <td>Authorised Serviced Apartment</td>\n",
       "      <td>f</td>\n",
       "      <td>51</td>\n",
       "      <td>51</td>\n",
       "      <td>0</td>\n",
       "      <td>0</td>\n",
       "      <td>2.77</td>\n",
       "      <td>NaN</td>\n",
       "      <td>c</td>\n",
       "    </tr>\n",
       "    <tr>\n",
       "      <th>1</th>\n",
       "      <td>4973227.0</td>\n",
       "      <td>https://www.airbnb.com/rooms/4973227</td>\n",
       "      <td>2.020000e+13</td>\n",
       "      <td>12/29/2022</td>\n",
       "      <td>city scrape</td>\n",
       "      <td>Boat Quay Studio Apartment (South bridge Wing)</td>\n",
       "      <td>Studio Apartments are ideal for couples travel...</td>\n",
       "      <td>As Clarke Quay is located just minutes from th...</td>\n",
       "      <td>https://a0.muscache.com/pictures/2397f027-2181...</td>\n",
       "      <td>23336011</td>\n",
       "      <td>...</td>\n",
       "      <td>4.58</td>\n",
       "      <td>Authorised Serviced Apartment</td>\n",
       "      <td>f</td>\n",
       "      <td>51</td>\n",
       "      <td>51</td>\n",
       "      <td>0</td>\n",
       "      <td>0</td>\n",
       "      <td>1.34</td>\n",
       "      <td>NaN</td>\n",
       "      <td>NaN</td>\n",
       "    </tr>\n",
       "    <tr>\n",
       "      <th>2</th>\n",
       "      <td>5582645.0</td>\n",
       "      <td>https://www.airbnb.com/rooms/5582645</td>\n",
       "      <td>2.020000e+13</td>\n",
       "      <td>12/29/2022</td>\n",
       "      <td>city scrape</td>\n",
       "      <td>Jurong east/ Lakeside Green</td>\n",
       "      <td>Nearby - Chinese garden, science centre, NTU. ...</td>\n",
       "      <td>NaN</td>\n",
       "      <td>https://a0.muscache.com/pictures/75350089/9cce...</td>\n",
       "      <td>28946433</td>\n",
       "      <td>...</td>\n",
       "      <td>4.38</td>\n",
       "      <td>Authorised Serviced Apartment</td>\n",
       "      <td>f</td>\n",
       "      <td>1</td>\n",
       "      <td>0</td>\n",
       "      <td>1</td>\n",
       "      <td>0</td>\n",
       "      <td>0.14</td>\n",
       "      <td>NaN</td>\n",
       "      <td>NaN</td>\n",
       "    </tr>\n",
       "    <tr>\n",
       "      <th>3</th>\n",
       "      <td>6481052.0</td>\n",
       "      <td>https://www.airbnb.com/rooms/6481052</td>\n",
       "      <td>2.020000e+13</td>\n",
       "      <td>12/29/2022</td>\n",
       "      <td>city scrape</td>\n",
       "      <td>premium 1 bed room · premium 1 bed room · 1 br...</td>\n",
       "      <td>Our  serviced apartment is set in the heart of...</td>\n",
       "      <td>A Luxury, and Yet Affordable \"Legally Licensed...</td>\n",
       "      <td>https://a0.muscache.com/pictures/prohost-api/H...</td>\n",
       "      <td>7210103</td>\n",
       "      <td>...</td>\n",
       "      <td>4.49</td>\n",
       "      <td>Authorised Serviced Apartment</td>\n",
       "      <td>t</td>\n",
       "      <td>6</td>\n",
       "      <td>6</td>\n",
       "      <td>0</td>\n",
       "      <td>0</td>\n",
       "      <td>0.62</td>\n",
       "      <td>NaN</td>\n",
       "      <td>NaN</td>\n",
       "    </tr>\n",
       "    <tr>\n",
       "      <th>4</th>\n",
       "      <td>6529707.0</td>\n",
       "      <td>https://www.airbnb.com/rooms/6529707</td>\n",
       "      <td>2.020000e+13</td>\n",
       "      <td>12/29/2022</td>\n",
       "      <td>city scrape</td>\n",
       "      <td>Room 1 - Affordable room near the university</td>\n",
       "      <td>Are you a student or professional working in  ...</td>\n",
       "      <td>Our house is sandwiched between Pasir Panjang ...</td>\n",
       "      <td>https://a0.muscache.com/pictures/d209b158-4240...</td>\n",
       "      <td>33003286</td>\n",
       "      <td>...</td>\n",
       "      <td>4.86</td>\n",
       "      <td>Authorised Serviced Apartment</td>\n",
       "      <td>f</td>\n",
       "      <td>2</td>\n",
       "      <td>0</td>\n",
       "      <td>2</td>\n",
       "      <td>0</td>\n",
       "      <td>0.41</td>\n",
       "      <td>NaN</td>\n",
       "      <td>NaN</td>\n",
       "    </tr>\n",
       "  </tbody>\n",
       "</table>\n",
       "<p>5 rows × 77 columns</p>\n",
       "</div>"
      ],
      "text/plain": [
       "          id                           listing_url     scrape_id last_scraped  \\\n",
       "0  4541183.0  https://www.airbnb.com/rooms/4541183  2.020000e+13   12/29/2022   \n",
       "1  4973227.0  https://www.airbnb.com/rooms/4973227  2.020000e+13   12/29/2022   \n",
       "2  5582645.0  https://www.airbnb.com/rooms/5582645  2.020000e+13   12/29/2022   \n",
       "3  6481052.0  https://www.airbnb.com/rooms/6481052  2.020000e+13   12/29/2022   \n",
       "4  6529707.0  https://www.airbnb.com/rooms/6529707  2.020000e+13   12/29/2022   \n",
       "\n",
       "        source                                               name  \\\n",
       "0  city scrape  Boat Quay Studio Premium River View (South bri...   \n",
       "1  city scrape     Boat Quay Studio Apartment (South bridge Wing)   \n",
       "2  city scrape                        Jurong east/ Lakeside Green   \n",
       "3  city scrape  premium 1 bed room · premium 1 bed room · 1 br...   \n",
       "4  city scrape       Room 1 - Affordable room near the university   \n",
       "\n",
       "                                         description  \\\n",
       "0  Studio Premium Apartments are ideal for couple...   \n",
       "1  Studio Apartments are ideal for couples travel...   \n",
       "2  Nearby - Chinese garden, science centre, NTU. ...   \n",
       "3  Our  serviced apartment is set in the heart of...   \n",
       "4  Are you a student or professional working in  ...   \n",
       "\n",
       "                               neighborhood_overview  \\\n",
       "0  Boat Quay is a popular and bustling area with ...   \n",
       "1  As Clarke Quay is located just minutes from th...   \n",
       "2                                                NaN   \n",
       "3  A Luxury, and Yet Affordable \"Legally Licensed...   \n",
       "4  Our house is sandwiched between Pasir Panjang ...   \n",
       "\n",
       "                                         picture_url   host_id  ...  \\\n",
       "0  https://a0.muscache.com/pictures/5dd4acc0-79c5...  23336011  ...   \n",
       "1  https://a0.muscache.com/pictures/2397f027-2181...  23336011  ...   \n",
       "2  https://a0.muscache.com/pictures/75350089/9cce...  28946433  ...   \n",
       "3  https://a0.muscache.com/pictures/prohost-api/H...   7210103  ...   \n",
       "4  https://a0.muscache.com/pictures/d209b158-4240...  33003286  ...   \n",
       "\n",
       "  review_scores_value                        license instant_bookable  \\\n",
       "0                4.69  Authorised Serviced Apartment                f   \n",
       "1                4.58  Authorised Serviced Apartment                f   \n",
       "2                4.38  Authorised Serviced Apartment                f   \n",
       "3                4.49  Authorised Serviced Apartment                t   \n",
       "4                4.86  Authorised Serviced Apartment                f   \n",
       "\n",
       "  calculated_host_listings_count calculated_host_listings_count_entire_homes  \\\n",
       "0                             51                                          51   \n",
       "1                             51                                          51   \n",
       "2                              1                                           0   \n",
       "3                              6                                           6   \n",
       "4                              2                                           0   \n",
       "\n",
       "  calculated_host_listings_count_private_rooms  \\\n",
       "0                                            0   \n",
       "1                                            0   \n",
       "2                                            1   \n",
       "3                                            0   \n",
       "4                                            2   \n",
       "\n",
       "  calculated_host_listings_count_shared_rooms reviews_per_month Unnamed: 75  \\\n",
       "0                                           0              2.77         NaN   \n",
       "1                                           0              1.34         NaN   \n",
       "2                                           0              0.14         NaN   \n",
       "3                                           0              0.62         NaN   \n",
       "4                                           0              0.41         NaN   \n",
       "\n",
       "  Unnamed: 76  \n",
       "0           c  \n",
       "1         NaN  \n",
       "2         NaN  \n",
       "3         NaN  \n",
       "4         NaN  \n",
       "\n",
       "[5 rows x 77 columns]"
      ]
     },
     "execution_count": 2451,
     "metadata": {},
     "output_type": "execute_result"
    }
   ],
   "source": [
    "airDF = pd.read_csv(\"listings.csv\")\n",
    "airDF.head()"
   ]
  },
  {
   "cell_type": "code",
   "execution_count": 2452,
   "metadata": {},
   "outputs": [
    {
     "name": "stdout",
     "output_type": "stream",
     "text": [
      "<class 'pandas.core.frame.DataFrame'>\n",
      "RangeIndex: 3035 entries, 0 to 3034\n",
      "Data columns (total 77 columns):\n",
      " #   Column                                        Non-Null Count  Dtype  \n",
      "---  ------                                        --------------  -----  \n",
      " 0   id                                            3035 non-null   float64\n",
      " 1   listing_url                                   3035 non-null   object \n",
      " 2   scrape_id                                     3035 non-null   float64\n",
      " 3   last_scraped                                  3035 non-null   object \n",
      " 4   source                                        3035 non-null   object \n",
      " 5   name                                          3035 non-null   object \n",
      " 6   description                                   2985 non-null   object \n",
      " 7   neighborhood_overview                         1973 non-null   object \n",
      " 8   picture_url                                   3035 non-null   object \n",
      " 9   host_id                                       3035 non-null   int64  \n",
      " 10  host_url                                      3035 non-null   object \n",
      " 11  host_name                                     3035 non-null   object \n",
      " 12  host_since                                    3035 non-null   object \n",
      " 13  host_location                                 2035 non-null   object \n",
      " 14  host_about                                    2171 non-null   object \n",
      " 15  host_response_time                            2418 non-null   object \n",
      " 16  host_response_rate                            2418 non-null   object \n",
      " 17  host_acceptance_rate                          2297 non-null   object \n",
      " 18  host_is_superhost                             3034 non-null   object \n",
      " 19  host_thumbnail_url                            3035 non-null   object \n",
      " 20  host_picture_url                              3035 non-null   object \n",
      " 21  host_neighbourhood                            2805 non-null   object \n",
      " 22  host_listings_count                           3035 non-null   int64  \n",
      " 23  host_total_listings_count                     3035 non-null   int64  \n",
      " 24  host_verifications                            3035 non-null   object \n",
      " 25  host_has_profile_pic                          3035 non-null   object \n",
      " 26  host_identity_verified                        3035 non-null   object \n",
      " 27  neighbourhood                                 1973 non-null   object \n",
      " 28  neighbourhood_cleansed                        3035 non-null   object \n",
      " 29  neighbourhood_group_cleansed                  3035 non-null   object \n",
      " 30  latitude                                      3035 non-null   float64\n",
      " 31  longitude                                     3035 non-null   float64\n",
      " 32  property_type                                 3035 non-null   object \n",
      " 33  room_type                                     3035 non-null   object \n",
      " 34  accommodates                                  3035 non-null   int64  \n",
      " 35  bathrooms                                     0 non-null      float64\n",
      " 36  bathrooms_text                                3008 non-null   object \n",
      " 37  bedrooms                                      2730 non-null   float64\n",
      " 38  beds                                          2945 non-null   float64\n",
      " 39  amenities                                     3035 non-null   object \n",
      " 40  price                                         3035 non-null   object \n",
      " 41  minimum_nights                                3035 non-null   int64  \n",
      " 42  maximum_nights                                3035 non-null   int64  \n",
      " 43  minimum_minimum_nights                        3034 non-null   float64\n",
      " 44  maximum_minimum_nights                        3034 non-null   float64\n",
      " 45  minimum_maximum_nights                        3034 non-null   float64\n",
      " 46  maximum_maximum_nights                        3034 non-null   float64\n",
      " 47  minimum_nights_avg_ntm                        3034 non-null   float64\n",
      " 48  maximum_nights_avg_ntm                        3034 non-null   float64\n",
      " 49  calendar_updated                              0 non-null      float64\n",
      " 50  has_availability                              3035 non-null   object \n",
      " 51  availability_30                               3035 non-null   int64  \n",
      " 52  availability_60                               3035 non-null   int64  \n",
      " 53  availability_90                               3035 non-null   int64  \n",
      " 54  availability_365                              3035 non-null   int64  \n",
      " 55  calendar_last_scraped                         3035 non-null   object \n",
      " 56  number_of_reviews                             3035 non-null   int64  \n",
      " 57  number_of_reviews_ltm                         3035 non-null   int64  \n",
      " 58  number_of_reviews_l30d                        3035 non-null   int64  \n",
      " 59  first_review                                  1744 non-null   object \n",
      " 60  last_review                                   1744 non-null   object \n",
      " 61  review_scores_rating                          1744 non-null   float64\n",
      " 62  review_scores_accuracy                        1711 non-null   float64\n",
      " 63  review_scores_cleanliness                     1712 non-null   float64\n",
      " 64  review_scores_checkin                         1712 non-null   float64\n",
      " 65  review_scores_communication                   1713 non-null   float64\n",
      " 66  review_scores_location                        1711 non-null   float64\n",
      " 67  review_scores_value                           1711 non-null   float64\n",
      " 68  license                                       969 non-null    object \n",
      " 69  instant_bookable                              3035 non-null   object \n",
      " 70  calculated_host_listings_count                3035 non-null   int64  \n",
      " 71  calculated_host_listings_count_entire_homes   3035 non-null   int64  \n",
      " 72  calculated_host_listings_count_private_rooms  3035 non-null   int64  \n",
      " 73  calculated_host_listings_count_shared_rooms   3035 non-null   int64  \n",
      " 74  reviews_per_month                             1744 non-null   float64\n",
      " 75  Unnamed: 75                                   0 non-null      float64\n",
      " 76  Unnamed: 76                                   1 non-null      object \n",
      "dtypes: float64(23), int64(17), object(37)\n",
      "memory usage: 1.8+ MB\n"
     ]
    }
   ],
   "source": [
    "airDF.info()"
   ]
  },
  {
   "cell_type": "code",
   "execution_count": 2453,
   "metadata": {},
   "outputs": [
    {
     "name": "stdout",
     "output_type": "stream",
     "text": [
      "id                                              float64\n",
      "listing_url                                      object\n",
      "scrape_id                                       float64\n",
      "last_scraped                                     object\n",
      "source                                           object\n",
      "                                                 ...   \n",
      "calculated_host_listings_count_private_rooms      int64\n",
      "calculated_host_listings_count_shared_rooms       int64\n",
      "reviews_per_month                               float64\n",
      "Unnamed: 75                                     float64\n",
      "Unnamed: 76                                      object\n",
      "Length: 77, dtype: object\n"
     ]
    }
   ],
   "source": [
    "print(airDF.dtypes)"
   ]
  },
  {
   "attachments": {},
   "cell_type": "markdown",
   "metadata": {},
   "source": [
    "---\n",
    "## 1. EDA on review_score_rating\n",
    "<b>Description</b>: The average score from 0 to 5 that rates the Airbnb listing's total score \n"
   ]
  },
  {
   "cell_type": "code",
   "execution_count": 2454,
   "metadata": {},
   "outputs": [
    {
     "data": {
      "text/html": [
       "<div>\n",
       "<style scoped>\n",
       "    .dataframe tbody tr th:only-of-type {\n",
       "        vertical-align: middle;\n",
       "    }\n",
       "\n",
       "    .dataframe tbody tr th {\n",
       "        vertical-align: top;\n",
       "    }\n",
       "\n",
       "    .dataframe thead th {\n",
       "        text-align: right;\n",
       "    }\n",
       "</style>\n",
       "<table border=\"1\" class=\"dataframe\">\n",
       "  <thead>\n",
       "    <tr style=\"text-align: right;\">\n",
       "      <th></th>\n",
       "      <th>review_scores_rating</th>\n",
       "    </tr>\n",
       "  </thead>\n",
       "  <tbody>\n",
       "    <tr>\n",
       "      <th>0</th>\n",
       "      <td>4.79</td>\n",
       "    </tr>\n",
       "    <tr>\n",
       "      <th>1</th>\n",
       "      <td>4.70</td>\n",
       "    </tr>\n",
       "    <tr>\n",
       "      <th>2</th>\n",
       "      <td>4.54</td>\n",
       "    </tr>\n",
       "    <tr>\n",
       "      <th>3</th>\n",
       "      <td>4.63</td>\n",
       "    </tr>\n",
       "    <tr>\n",
       "      <th>4</th>\n",
       "      <td>4.92</td>\n",
       "    </tr>\n",
       "    <tr>\n",
       "      <th>...</th>\n",
       "      <td>...</td>\n",
       "    </tr>\n",
       "    <tr>\n",
       "      <th>3030</th>\n",
       "      <td>NaN</td>\n",
       "    </tr>\n",
       "    <tr>\n",
       "      <th>3031</th>\n",
       "      <td>NaN</td>\n",
       "    </tr>\n",
       "    <tr>\n",
       "      <th>3032</th>\n",
       "      <td>NaN</td>\n",
       "    </tr>\n",
       "    <tr>\n",
       "      <th>3033</th>\n",
       "      <td>NaN</td>\n",
       "    </tr>\n",
       "    <tr>\n",
       "      <th>3034</th>\n",
       "      <td>NaN</td>\n",
       "    </tr>\n",
       "  </tbody>\n",
       "</table>\n",
       "<p>3035 rows × 1 columns</p>\n",
       "</div>"
      ],
      "text/plain": [
       "      review_scores_rating\n",
       "0                     4.79\n",
       "1                     4.70\n",
       "2                     4.54\n",
       "3                     4.63\n",
       "4                     4.92\n",
       "...                    ...\n",
       "3030                   NaN\n",
       "3031                   NaN\n",
       "3032                   NaN\n",
       "3033                   NaN\n",
       "3034                   NaN\n",
       "\n",
       "[3035 rows x 1 columns]"
      ]
     },
     "execution_count": 2454,
     "metadata": {},
     "output_type": "execute_result"
    }
   ],
   "source": [
    "reviewRating = pd.DataFrame(airDF[\"review_scores_rating\"])\n",
    "reviewRating"
   ]
  },
  {
   "cell_type": "code",
   "execution_count": 2455,
   "metadata": {},
   "outputs": [
    {
     "data": {
      "text/plain": [
       "review_scores_rating\n",
       "5.00                    592\n",
       "4.00                    159\n",
       "4.50                     94\n",
       "4.67                     50\n",
       "3.00                     45\n",
       "                       ... \n",
       "4.15                      1\n",
       "4.16                      1\n",
       "4.23                      1\n",
       "2.33                      1\n",
       "3.40                      1\n",
       "Length: 112, dtype: int64"
      ]
     },
     "execution_count": 2455,
     "metadata": {},
     "output_type": "execute_result"
    }
   ],
   "source": [
    "reviewRating.value_counts()"
   ]
  },
  {
   "cell_type": "code",
   "execution_count": 2456,
   "metadata": {},
   "outputs": [
    {
     "data": {
      "text/html": [
       "<div>\n",
       "<style scoped>\n",
       "    .dataframe tbody tr th:only-of-type {\n",
       "        vertical-align: middle;\n",
       "    }\n",
       "\n",
       "    .dataframe tbody tr th {\n",
       "        vertical-align: top;\n",
       "    }\n",
       "\n",
       "    .dataframe thead th {\n",
       "        text-align: right;\n",
       "    }\n",
       "</style>\n",
       "<table border=\"1\" class=\"dataframe\">\n",
       "  <thead>\n",
       "    <tr style=\"text-align: right;\">\n",
       "      <th></th>\n",
       "      <th>review_scores_rating</th>\n",
       "    </tr>\n",
       "  </thead>\n",
       "  <tbody>\n",
       "    <tr>\n",
       "      <th>count</th>\n",
       "      <td>1744.000000</td>\n",
       "    </tr>\n",
       "    <tr>\n",
       "      <th>mean</th>\n",
       "      <td>4.474971</td>\n",
       "    </tr>\n",
       "    <tr>\n",
       "      <th>std</th>\n",
       "      <td>0.844021</td>\n",
       "    </tr>\n",
       "    <tr>\n",
       "      <th>min</th>\n",
       "      <td>0.000000</td>\n",
       "    </tr>\n",
       "    <tr>\n",
       "      <th>25%</th>\n",
       "      <td>4.330000</td>\n",
       "    </tr>\n",
       "    <tr>\n",
       "      <th>50%</th>\n",
       "      <td>4.720000</td>\n",
       "    </tr>\n",
       "    <tr>\n",
       "      <th>75%</th>\n",
       "      <td>5.000000</td>\n",
       "    </tr>\n",
       "    <tr>\n",
       "      <th>max</th>\n",
       "      <td>5.000000</td>\n",
       "    </tr>\n",
       "  </tbody>\n",
       "</table>\n",
       "</div>"
      ],
      "text/plain": [
       "       review_scores_rating\n",
       "count           1744.000000\n",
       "mean               4.474971\n",
       "std                0.844021\n",
       "min                0.000000\n",
       "25%                4.330000\n",
       "50%                4.720000\n",
       "75%                5.000000\n",
       "max                5.000000"
      ]
     },
     "execution_count": 2456,
     "metadata": {},
     "output_type": "execute_result"
    }
   ],
   "source": [
    "reviewRating.describe()"
   ]
  },
  {
   "cell_type": "code",
   "execution_count": 2457,
   "metadata": {},
   "outputs": [
    {
     "name": "stdout",
     "output_type": "stream",
     "text": [
      "Total Values: 3035, Null Values: 1291\n"
     ]
    },
    {
     "data": {
      "text/html": [
       "<div>\n",
       "<style scoped>\n",
       "    .dataframe tbody tr th:only-of-type {\n",
       "        vertical-align: middle;\n",
       "    }\n",
       "\n",
       "    .dataframe tbody tr th {\n",
       "        vertical-align: top;\n",
       "    }\n",
       "\n",
       "    .dataframe thead th {\n",
       "        text-align: right;\n",
       "    }\n",
       "</style>\n",
       "<table border=\"1\" class=\"dataframe\">\n",
       "  <thead>\n",
       "    <tr style=\"text-align: right;\">\n",
       "      <th></th>\n",
       "      <th>review_scores_rating</th>\n",
       "    </tr>\n",
       "  </thead>\n",
       "  <tbody>\n",
       "    <tr>\n",
       "      <th>0</th>\n",
       "      <td>4.79</td>\n",
       "    </tr>\n",
       "    <tr>\n",
       "      <th>1</th>\n",
       "      <td>4.70</td>\n",
       "    </tr>\n",
       "    <tr>\n",
       "      <th>2</th>\n",
       "      <td>4.54</td>\n",
       "    </tr>\n",
       "    <tr>\n",
       "      <th>3</th>\n",
       "      <td>4.63</td>\n",
       "    </tr>\n",
       "    <tr>\n",
       "      <th>4</th>\n",
       "      <td>4.92</td>\n",
       "    </tr>\n",
       "    <tr>\n",
       "      <th>...</th>\n",
       "      <td>...</td>\n",
       "    </tr>\n",
       "    <tr>\n",
       "      <th>2916</th>\n",
       "      <td>1.00</td>\n",
       "    </tr>\n",
       "    <tr>\n",
       "      <th>2927</th>\n",
       "      <td>5.00</td>\n",
       "    </tr>\n",
       "    <tr>\n",
       "      <th>2932</th>\n",
       "      <td>4.00</td>\n",
       "    </tr>\n",
       "    <tr>\n",
       "      <th>2949</th>\n",
       "      <td>5.00</td>\n",
       "    </tr>\n",
       "    <tr>\n",
       "      <th>2956</th>\n",
       "      <td>5.00</td>\n",
       "    </tr>\n",
       "  </tbody>\n",
       "</table>\n",
       "<p>1744 rows × 1 columns</p>\n",
       "</div>"
      ],
      "text/plain": [
       "      review_scores_rating\n",
       "0                     4.79\n",
       "1                     4.70\n",
       "2                     4.54\n",
       "3                     4.63\n",
       "4                     4.92\n",
       "...                    ...\n",
       "2916                  1.00\n",
       "2927                  5.00\n",
       "2932                  4.00\n",
       "2949                  5.00\n",
       "2956                  5.00\n",
       "\n",
       "[1744 rows x 1 columns]"
      ]
     },
     "execution_count": 2457,
     "metadata": {},
     "output_type": "execute_result"
    }
   ],
   "source": [
    "#Find the number of null values as there seems to be alot.\n",
    "print(\"Total Values: {0}, Null Values: {1}\".format(len(reviewRating), reviewRating.isna().sum().sum()))\n",
    "\n",
    "reviewRating = reviewRating.dropna()\n",
    "reviewRating"
   ]
  },
  {
   "cell_type": "code",
   "execution_count": 2458,
   "metadata": {},
   "outputs": [
    {
     "data": {
      "text/html": [
       "<div>\n",
       "<style scoped>\n",
       "    .dataframe tbody tr th:only-of-type {\n",
       "        vertical-align: middle;\n",
       "    }\n",
       "\n",
       "    .dataframe tbody tr th {\n",
       "        vertical-align: top;\n",
       "    }\n",
       "\n",
       "    .dataframe thead th {\n",
       "        text-align: right;\n",
       "    }\n",
       "</style>\n",
       "<table border=\"1\" class=\"dataframe\">\n",
       "  <thead>\n",
       "    <tr style=\"text-align: right;\">\n",
       "      <th></th>\n",
       "      <th>review_scores_rating</th>\n",
       "    </tr>\n",
       "  </thead>\n",
       "  <tbody>\n",
       "    <tr>\n",
       "      <th>count</th>\n",
       "      <td>1744.000000</td>\n",
       "    </tr>\n",
       "    <tr>\n",
       "      <th>mean</th>\n",
       "      <td>4.474971</td>\n",
       "    </tr>\n",
       "    <tr>\n",
       "      <th>std</th>\n",
       "      <td>0.844021</td>\n",
       "    </tr>\n",
       "    <tr>\n",
       "      <th>min</th>\n",
       "      <td>0.000000</td>\n",
       "    </tr>\n",
       "    <tr>\n",
       "      <th>25%</th>\n",
       "      <td>4.330000</td>\n",
       "    </tr>\n",
       "    <tr>\n",
       "      <th>50%</th>\n",
       "      <td>4.720000</td>\n",
       "    </tr>\n",
       "    <tr>\n",
       "      <th>75%</th>\n",
       "      <td>5.000000</td>\n",
       "    </tr>\n",
       "    <tr>\n",
       "      <th>max</th>\n",
       "      <td>5.000000</td>\n",
       "    </tr>\n",
       "  </tbody>\n",
       "</table>\n",
       "</div>"
      ],
      "text/plain": [
       "       review_scores_rating\n",
       "count           1744.000000\n",
       "mean               4.474971\n",
       "std                0.844021\n",
       "min                0.000000\n",
       "25%                4.330000\n",
       "50%                4.720000\n",
       "75%                5.000000\n",
       "max                5.000000"
      ]
     },
     "execution_count": 2458,
     "metadata": {},
     "output_type": "execute_result"
    }
   ],
   "source": [
    "reviewRating.describe()"
   ]
  },
  {
   "cell_type": "code",
   "execution_count": 2459,
   "metadata": {},
   "outputs": [
    {
     "data": {
      "image/png": "[encoded data removed]",
      "text/plain": [
       "<Figure size 1200x600 with 1 Axes>"
      ]
     },
     "metadata": {},
     "output_type": "display_data"
    }
   ],
   "source": [
    "f = plt.figure(figsize=(12,6))\n",
    "sb.boxplot(data = reviewRating, orient = 'h')\n",
    "plt.show()"
   ]
  },
  {
   "attachments": {},
   "cell_type": "markdown",
   "metadata": {},
   "source": [
    " INSIGHT : Generally we can see that most of the hosts have a high review scores rating, with a median of  4.72 rating."
   ]
  },
  {
   "attachments": {},
   "cell_type": "markdown",
   "metadata": {},
   "source": [
    "---"
   ]
  },
  {
   "attachments": {},
   "cell_type": "markdown",
   "metadata": {},
   "source": [
    "## 2. EDA on review_scores_accuracy\n",
    "<b>Description</b>: The average score from 0 to 5 that rates the Airbnb listing's total score "
   ]
  },
  {
   "cell_type": "code",
   "execution_count": 2460,
   "metadata": {},
   "outputs": [
    {
     "data": {
      "text/html": [
       "<div>\n",
       "<style scoped>\n",
       "    .dataframe tbody tr th:only-of-type {\n",
       "        vertical-align: middle;\n",
       "    }\n",
       "\n",
       "    .dataframe tbody tr th {\n",
       "        vertical-align: top;\n",
       "    }\n",
       "\n",
       "    .dataframe thead th {\n",
       "        text-align: right;\n",
       "    }\n",
       "</style>\n",
       "<table border=\"1\" class=\"dataframe\">\n",
       "  <thead>\n",
       "    <tr style=\"text-align: right;\">\n",
       "      <th></th>\n",
       "      <th>review_scores_accuracy</th>\n",
       "    </tr>\n",
       "  </thead>\n",
       "  <tbody>\n",
       "    <tr>\n",
       "      <th>0</th>\n",
       "      <td>4.82</td>\n",
       "    </tr>\n",
       "    <tr>\n",
       "      <th>1</th>\n",
       "      <td>4.72</td>\n",
       "    </tr>\n",
       "    <tr>\n",
       "      <th>2</th>\n",
       "      <td>4.62</td>\n",
       "    </tr>\n",
       "    <tr>\n",
       "      <th>3</th>\n",
       "      <td>4.58</td>\n",
       "    </tr>\n",
       "    <tr>\n",
       "      <th>4</th>\n",
       "      <td>4.97</td>\n",
       "    </tr>\n",
       "    <tr>\n",
       "      <th>...</th>\n",
       "      <td>...</td>\n",
       "    </tr>\n",
       "    <tr>\n",
       "      <th>3030</th>\n",
       "      <td>NaN</td>\n",
       "    </tr>\n",
       "    <tr>\n",
       "      <th>3031</th>\n",
       "      <td>NaN</td>\n",
       "    </tr>\n",
       "    <tr>\n",
       "      <th>3032</th>\n",
       "      <td>NaN</td>\n",
       "    </tr>\n",
       "    <tr>\n",
       "      <th>3033</th>\n",
       "      <td>NaN</td>\n",
       "    </tr>\n",
       "    <tr>\n",
       "      <th>3034</th>\n",
       "      <td>NaN</td>\n",
       "    </tr>\n",
       "  </tbody>\n",
       "</table>\n",
       "<p>3035 rows × 1 columns</p>\n",
       "</div>"
      ],
      "text/plain": [
       "      review_scores_accuracy\n",
       "0                       4.82\n",
       "1                       4.72\n",
       "2                       4.62\n",
       "3                       4.58\n",
       "4                       4.97\n",
       "...                      ...\n",
       "3030                     NaN\n",
       "3031                     NaN\n",
       "3032                     NaN\n",
       "3033                     NaN\n",
       "3034                     NaN\n",
       "\n",
       "[3035 rows x 1 columns]"
      ]
     },
     "execution_count": 2460,
     "metadata": {},
     "output_type": "execute_result"
    }
   ],
   "source": [
    "accRating = pd.DataFrame(airDF[\"review_scores_accuracy\"])\n",
    "accRating"
   ]
  },
  {
   "cell_type": "code",
   "execution_count": 2461,
   "metadata": {},
   "outputs": [
    {
     "data": {
      "text/plain": [
       "review_scores_accuracy\n",
       "5.00                      626\n",
       "4.00                      133\n",
       "4.50                       88\n",
       "4.67                       55\n",
       "3.00                       46\n",
       "                         ... \n",
       "4.34                        1\n",
       "4.41                        1\n",
       "4.46                        1\n",
       "4.49                        1\n",
       "0.00                        1\n",
       "Length: 110, dtype: int64"
      ]
     },
     "execution_count": 2461,
     "metadata": {},
     "output_type": "execute_result"
    }
   ],
   "source": [
    "accRating.value_counts()"
   ]
  },
  {
   "cell_type": "code",
   "execution_count": 2462,
   "metadata": {},
   "outputs": [
    {
     "data": {
      "text/html": [
       "<div>\n",
       "<style scoped>\n",
       "    .dataframe tbody tr th:only-of-type {\n",
       "        vertical-align: middle;\n",
       "    }\n",
       "\n",
       "    .dataframe tbody tr th {\n",
       "        vertical-align: top;\n",
       "    }\n",
       "\n",
       "    .dataframe thead th {\n",
       "        text-align: right;\n",
       "    }\n",
       "</style>\n",
       "<table border=\"1\" class=\"dataframe\">\n",
       "  <thead>\n",
       "    <tr style=\"text-align: right;\">\n",
       "      <th></th>\n",
       "      <th>review_scores_accuracy</th>\n",
       "    </tr>\n",
       "  </thead>\n",
       "  <tbody>\n",
       "    <tr>\n",
       "      <th>count</th>\n",
       "      <td>1711.000000</td>\n",
       "    </tr>\n",
       "    <tr>\n",
       "      <th>mean</th>\n",
       "      <td>4.591783</td>\n",
       "    </tr>\n",
       "    <tr>\n",
       "      <th>std</th>\n",
       "      <td>0.608629</td>\n",
       "    </tr>\n",
       "    <tr>\n",
       "      <th>min</th>\n",
       "      <td>0.000000</td>\n",
       "    </tr>\n",
       "    <tr>\n",
       "      <th>25%</th>\n",
       "      <td>4.480000</td>\n",
       "    </tr>\n",
       "    <tr>\n",
       "      <th>50%</th>\n",
       "      <td>4.800000</td>\n",
       "    </tr>\n",
       "    <tr>\n",
       "      <th>75%</th>\n",
       "      <td>5.000000</td>\n",
       "    </tr>\n",
       "    <tr>\n",
       "      <th>max</th>\n",
       "      <td>5.000000</td>\n",
       "    </tr>\n",
       "  </tbody>\n",
       "</table>\n",
       "</div>"
      ],
      "text/plain": [
       "       review_scores_accuracy\n",
       "count             1711.000000\n",
       "mean                 4.591783\n",
       "std                  0.608629\n",
       "min                  0.000000\n",
       "25%                  4.480000\n",
       "50%                  4.800000\n",
       "75%                  5.000000\n",
       "max                  5.000000"
      ]
     },
     "execution_count": 2462,
     "metadata": {},
     "output_type": "execute_result"
    }
   ],
   "source": [
    "accRating.describe()"
   ]
  },
  {
   "cell_type": "code",
   "execution_count": 2463,
   "metadata": {},
   "outputs": [
    {
     "name": "stdout",
     "output_type": "stream",
     "text": [
      "Total Values: 3035, Null Values: 1324\n"
     ]
    }
   ],
   "source": [
    "#Find the number of null values as there seems to be alot.\n",
    "print(\"Total Values: {0}, Null Values: {1}\".format(len(accRating), accRating.isna().sum().sum()))"
   ]
  },
  {
   "cell_type": "code",
   "execution_count": 2464,
   "metadata": {},
   "outputs": [
    {
     "data": {
      "text/html": [
       "<div>\n",
       "<style scoped>\n",
       "    .dataframe tbody tr th:only-of-type {\n",
       "        vertical-align: middle;\n",
       "    }\n",
       "\n",
       "    .dataframe tbody tr th {\n",
       "        vertical-align: top;\n",
       "    }\n",
       "\n",
       "    .dataframe thead th {\n",
       "        text-align: right;\n",
       "    }\n",
       "</style>\n",
       "<table border=\"1\" class=\"dataframe\">\n",
       "  <thead>\n",
       "    <tr style=\"text-align: right;\">\n",
       "      <th></th>\n",
       "      <th>review_scores_accuracy</th>\n",
       "    </tr>\n",
       "  </thead>\n",
       "  <tbody>\n",
       "    <tr>\n",
       "      <th>0</th>\n",
       "      <td>4.82</td>\n",
       "    </tr>\n",
       "    <tr>\n",
       "      <th>1</th>\n",
       "      <td>4.72</td>\n",
       "    </tr>\n",
       "    <tr>\n",
       "      <th>2</th>\n",
       "      <td>4.62</td>\n",
       "    </tr>\n",
       "    <tr>\n",
       "      <th>3</th>\n",
       "      <td>4.58</td>\n",
       "    </tr>\n",
       "    <tr>\n",
       "      <th>4</th>\n",
       "      <td>4.97</td>\n",
       "    </tr>\n",
       "    <tr>\n",
       "      <th>...</th>\n",
       "      <td>...</td>\n",
       "    </tr>\n",
       "    <tr>\n",
       "      <th>2916</th>\n",
       "      <td>2.00</td>\n",
       "    </tr>\n",
       "    <tr>\n",
       "      <th>2927</th>\n",
       "      <td>5.00</td>\n",
       "    </tr>\n",
       "    <tr>\n",
       "      <th>2932</th>\n",
       "      <td>5.00</td>\n",
       "    </tr>\n",
       "    <tr>\n",
       "      <th>2949</th>\n",
       "      <td>5.00</td>\n",
       "    </tr>\n",
       "    <tr>\n",
       "      <th>2956</th>\n",
       "      <td>5.00</td>\n",
       "    </tr>\n",
       "  </tbody>\n",
       "</table>\n",
       "<p>1711 rows × 1 columns</p>\n",
       "</div>"
      ],
      "text/plain": [
       "      review_scores_accuracy\n",
       "0                       4.82\n",
       "1                       4.72\n",
       "2                       4.62\n",
       "3                       4.58\n",
       "4                       4.97\n",
       "...                      ...\n",
       "2916                    2.00\n",
       "2927                    5.00\n",
       "2932                    5.00\n",
       "2949                    5.00\n",
       "2956                    5.00\n",
       "\n",
       "[1711 rows x 1 columns]"
      ]
     },
     "execution_count": 2464,
     "metadata": {},
     "output_type": "execute_result"
    }
   ],
   "source": [
    "#Drop null values\n",
    "accRating = accRating.dropna()\n",
    "accRating"
   ]
  },
  {
   "cell_type": "code",
   "execution_count": 2465,
   "metadata": {},
   "outputs": [
    {
     "data": {
      "text/html": [
       "<div>\n",
       "<style scoped>\n",
       "    .dataframe tbody tr th:only-of-type {\n",
       "        vertical-align: middle;\n",
       "    }\n",
       "\n",
       "    .dataframe tbody tr th {\n",
       "        vertical-align: top;\n",
       "    }\n",
       "\n",
       "    .dataframe thead th {\n",
       "        text-align: right;\n",
       "    }\n",
       "</style>\n",
       "<table border=\"1\" class=\"dataframe\">\n",
       "  <thead>\n",
       "    <tr style=\"text-align: right;\">\n",
       "      <th></th>\n",
       "      <th>review_scores_accuracy</th>\n",
       "    </tr>\n",
       "  </thead>\n",
       "  <tbody>\n",
       "    <tr>\n",
       "      <th>count</th>\n",
       "      <td>1711.000000</td>\n",
       "    </tr>\n",
       "    <tr>\n",
       "      <th>mean</th>\n",
       "      <td>4.591783</td>\n",
       "    </tr>\n",
       "    <tr>\n",
       "      <th>std</th>\n",
       "      <td>0.608629</td>\n",
       "    </tr>\n",
       "    <tr>\n",
       "      <th>min</th>\n",
       "      <td>0.000000</td>\n",
       "    </tr>\n",
       "    <tr>\n",
       "      <th>25%</th>\n",
       "      <td>4.480000</td>\n",
       "    </tr>\n",
       "    <tr>\n",
       "      <th>50%</th>\n",
       "      <td>4.800000</td>\n",
       "    </tr>\n",
       "    <tr>\n",
       "      <th>75%</th>\n",
       "      <td>5.000000</td>\n",
       "    </tr>\n",
       "    <tr>\n",
       "      <th>max</th>\n",
       "      <td>5.000000</td>\n",
       "    </tr>\n",
       "  </tbody>\n",
       "</table>\n",
       "</div>"
      ],
      "text/plain": [
       "       review_scores_accuracy\n",
       "count             1711.000000\n",
       "mean                 4.591783\n",
       "std                  0.608629\n",
       "min                  0.000000\n",
       "25%                  4.480000\n",
       "50%                  4.800000\n",
       "75%                  5.000000\n",
       "max                  5.000000"
      ]
     },
     "execution_count": 2465,
     "metadata": {},
     "output_type": "execute_result"
    }
   ],
   "source": [
    "accRating.describe()"
   ]
  },
  {
   "cell_type": "code",
   "execution_count": 2466,
   "metadata": {},
   "outputs": [
    {
     "data": {
      "image/png": "[encoded data removed]",
      "text/plain": [
       "<Figure size 1200x600 with 1 Axes>"
      ]
     },
     "metadata": {},
     "output_type": "display_data"
    }
   ],
   "source": [
    "f = plt.figure(figsize=(12,6))\n",
    "sb.boxplot(data = accRating, orient = 'h')\n",
    "plt.show()"
   ]
  },
  {
   "attachments": {},
   "cell_type": "markdown",
   "metadata": {},
   "source": [
    "INSIGHT : We can see a high concentration of data points towards the upper end of the scale, with a mean score of 4.80,  indicating a right skewed distribution. "
   ]
  },
  {
   "attachments": {},
   "cell_type": "markdown",
   "metadata": {},
   "source": [
    "---"
   ]
  },
  {
   "attachments": {},
   "cell_type": "markdown",
   "metadata": {},
   "source": [
    "## 3. EDA on review_scores_cleanliness\n",
    "<br>Description</b> : The average score from 0 to 5 that rates the Airbnb listing's overall cleanliness "
   ]
  },
  {
   "cell_type": "code",
   "execution_count": 2467,
   "metadata": {},
   "outputs": [
    {
     "data": {
      "text/html": [
       "<div>\n",
       "<style scoped>\n",
       "    .dataframe tbody tr th:only-of-type {\n",
       "        vertical-align: middle;\n",
       "    }\n",
       "\n",
       "    .dataframe tbody tr th {\n",
       "        vertical-align: top;\n",
       "    }\n",
       "\n",
       "    .dataframe thead th {\n",
       "        text-align: right;\n",
       "    }\n",
       "</style>\n",
       "<table border=\"1\" class=\"dataframe\">\n",
       "  <thead>\n",
       "    <tr style=\"text-align: right;\">\n",
       "      <th></th>\n",
       "      <th>review_scores_cleanliness</th>\n",
       "    </tr>\n",
       "  </thead>\n",
       "  <tbody>\n",
       "    <tr>\n",
       "      <th>0</th>\n",
       "      <td>4.84</td>\n",
       "    </tr>\n",
       "    <tr>\n",
       "      <th>1</th>\n",
       "      <td>4.80</td>\n",
       "    </tr>\n",
       "    <tr>\n",
       "      <th>2</th>\n",
       "      <td>4.46</td>\n",
       "    </tr>\n",
       "    <tr>\n",
       "      <th>3</th>\n",
       "      <td>4.61</td>\n",
       "    </tr>\n",
       "    <tr>\n",
       "      <th>4</th>\n",
       "      <td>4.95</td>\n",
       "    </tr>\n",
       "    <tr>\n",
       "      <th>...</th>\n",
       "      <td>...</td>\n",
       "    </tr>\n",
       "    <tr>\n",
       "      <th>3030</th>\n",
       "      <td>NaN</td>\n",
       "    </tr>\n",
       "    <tr>\n",
       "      <th>3031</th>\n",
       "      <td>NaN</td>\n",
       "    </tr>\n",
       "    <tr>\n",
       "      <th>3032</th>\n",
       "      <td>NaN</td>\n",
       "    </tr>\n",
       "    <tr>\n",
       "      <th>3033</th>\n",
       "      <td>NaN</td>\n",
       "    </tr>\n",
       "    <tr>\n",
       "      <th>3034</th>\n",
       "      <td>NaN</td>\n",
       "    </tr>\n",
       "  </tbody>\n",
       "</table>\n",
       "<p>3035 rows × 1 columns</p>\n",
       "</div>"
      ],
      "text/plain": [
       "      review_scores_cleanliness\n",
       "0                          4.84\n",
       "1                          4.80\n",
       "2                          4.46\n",
       "3                          4.61\n",
       "4                          4.95\n",
       "...                         ...\n",
       "3030                        NaN\n",
       "3031                        NaN\n",
       "3032                        NaN\n",
       "3033                        NaN\n",
       "3034                        NaN\n",
       "\n",
       "[3035 rows x 1 columns]"
      ]
     },
     "execution_count": 2467,
     "metadata": {},
     "output_type": "execute_result"
    }
   ],
   "source": [
    "cleanRating = pd.DataFrame(airDF[\"review_scores_cleanliness\"])\n",
    "cleanRating"
   ]
  },
  {
   "cell_type": "code",
   "execution_count": 2468,
   "metadata": {},
   "outputs": [
    {
     "data": {
      "text/plain": [
       "review_scores_cleanliness\n",
       "5.00                         534\n",
       "4.00                         161\n",
       "4.50                         107\n",
       "3.00                          64\n",
       "4.67                          44\n",
       "                            ... \n",
       "4.12                           1\n",
       "4.30                           1\n",
       "4.31                           1\n",
       "4.37                           1\n",
       "4.34                           1\n",
       "Length: 131, dtype: int64"
      ]
     },
     "execution_count": 2468,
     "metadata": {},
     "output_type": "execute_result"
    }
   ],
   "source": [
    "cleanRating.value_counts()"
   ]
  },
  {
   "cell_type": "code",
   "execution_count": 2469,
   "metadata": {},
   "outputs": [
    {
     "data": {
      "text/html": [
       "<div>\n",
       "<style scoped>\n",
       "    .dataframe tbody tr th:only-of-type {\n",
       "        vertical-align: middle;\n",
       "    }\n",
       "\n",
       "    .dataframe tbody tr th {\n",
       "        vertical-align: top;\n",
       "    }\n",
       "\n",
       "    .dataframe thead th {\n",
       "        text-align: right;\n",
       "    }\n",
       "</style>\n",
       "<table border=\"1\" class=\"dataframe\">\n",
       "  <thead>\n",
       "    <tr style=\"text-align: right;\">\n",
       "      <th></th>\n",
       "      <th>review_scores_cleanliness</th>\n",
       "    </tr>\n",
       "  </thead>\n",
       "  <tbody>\n",
       "    <tr>\n",
       "      <th>count</th>\n",
       "      <td>1712.000000</td>\n",
       "    </tr>\n",
       "    <tr>\n",
       "      <th>mean</th>\n",
       "      <td>4.507512</td>\n",
       "    </tr>\n",
       "    <tr>\n",
       "      <th>std</th>\n",
       "      <td>0.617658</td>\n",
       "    </tr>\n",
       "    <tr>\n",
       "      <th>min</th>\n",
       "      <td>0.000000</td>\n",
       "    </tr>\n",
       "    <tr>\n",
       "      <th>25%</th>\n",
       "      <td>4.270000</td>\n",
       "    </tr>\n",
       "    <tr>\n",
       "      <th>50%</th>\n",
       "      <td>4.690000</td>\n",
       "    </tr>\n",
       "    <tr>\n",
       "      <th>75%</th>\n",
       "      <td>5.000000</td>\n",
       "    </tr>\n",
       "    <tr>\n",
       "      <th>max</th>\n",
       "      <td>5.000000</td>\n",
       "    </tr>\n",
       "  </tbody>\n",
       "</table>\n",
       "</div>"
      ],
      "text/plain": [
       "       review_scores_cleanliness\n",
       "count                1712.000000\n",
       "mean                    4.507512\n",
       "std                     0.617658\n",
       "min                     0.000000\n",
       "25%                     4.270000\n",
       "50%                     4.690000\n",
       "75%                     5.000000\n",
       "max                     5.000000"
      ]
     },
     "execution_count": 2469,
     "metadata": {},
     "output_type": "execute_result"
    }
   ],
   "source": [
    "cleanRating.describe()"
   ]
  },
  {
   "cell_type": "code",
   "execution_count": 2470,
   "metadata": {},
   "outputs": [
    {
     "name": "stdout",
     "output_type": "stream",
     "text": [
      "Total Values: 3035, Null Values: 1323\n"
     ]
    }
   ],
   "source": [
    "#Find the number of null values as there seems to be alot.\n",
    "print(\"Total Values: {0}, Null Values: {1}\".format(len(cleanRating), cleanRating.isna().sum().sum()))"
   ]
  },
  {
   "cell_type": "code",
   "execution_count": 2471,
   "metadata": {},
   "outputs": [
    {
     "data": {
      "text/html": [
       "<div>\n",
       "<style scoped>\n",
       "    .dataframe tbody tr th:only-of-type {\n",
       "        vertical-align: middle;\n",
       "    }\n",
       "\n",
       "    .dataframe tbody tr th {\n",
       "        vertical-align: top;\n",
       "    }\n",
       "\n",
       "    .dataframe thead th {\n",
       "        text-align: right;\n",
       "    }\n",
       "</style>\n",
       "<table border=\"1\" class=\"dataframe\">\n",
       "  <thead>\n",
       "    <tr style=\"text-align: right;\">\n",
       "      <th></th>\n",
       "      <th>review_scores_cleanliness</th>\n",
       "    </tr>\n",
       "  </thead>\n",
       "  <tbody>\n",
       "    <tr>\n",
       "      <th>0</th>\n",
       "      <td>4.84</td>\n",
       "    </tr>\n",
       "    <tr>\n",
       "      <th>1</th>\n",
       "      <td>4.80</td>\n",
       "    </tr>\n",
       "    <tr>\n",
       "      <th>2</th>\n",
       "      <td>4.46</td>\n",
       "    </tr>\n",
       "    <tr>\n",
       "      <th>3</th>\n",
       "      <td>4.61</td>\n",
       "    </tr>\n",
       "    <tr>\n",
       "      <th>4</th>\n",
       "      <td>4.95</td>\n",
       "    </tr>\n",
       "    <tr>\n",
       "      <th>...</th>\n",
       "      <td>...</td>\n",
       "    </tr>\n",
       "    <tr>\n",
       "      <th>2916</th>\n",
       "      <td>5.00</td>\n",
       "    </tr>\n",
       "    <tr>\n",
       "      <th>2927</th>\n",
       "      <td>5.00</td>\n",
       "    </tr>\n",
       "    <tr>\n",
       "      <th>2932</th>\n",
       "      <td>4.00</td>\n",
       "    </tr>\n",
       "    <tr>\n",
       "      <th>2949</th>\n",
       "      <td>5.00</td>\n",
       "    </tr>\n",
       "    <tr>\n",
       "      <th>2956</th>\n",
       "      <td>5.00</td>\n",
       "    </tr>\n",
       "  </tbody>\n",
       "</table>\n",
       "<p>1712 rows × 1 columns</p>\n",
       "</div>"
      ],
      "text/plain": [
       "      review_scores_cleanliness\n",
       "0                          4.84\n",
       "1                          4.80\n",
       "2                          4.46\n",
       "3                          4.61\n",
       "4                          4.95\n",
       "...                         ...\n",
       "2916                       5.00\n",
       "2927                       5.00\n",
       "2932                       4.00\n",
       "2949                       5.00\n",
       "2956                       5.00\n",
       "\n",
       "[1712 rows x 1 columns]"
      ]
     },
     "execution_count": 2471,
     "metadata": {},
     "output_type": "execute_result"
    }
   ],
   "source": [
    "#Drop null values\n",
    "cleanRating = cleanRating.dropna()\n",
    "cleanRating"
   ]
  },
  {
   "cell_type": "code",
   "execution_count": 2472,
   "metadata": {},
   "outputs": [
    {
     "data": {
      "image/png": "[encoded data removed]",
      "text/plain": [
       "<Figure size 1200x600 with 1 Axes>"
      ]
     },
     "metadata": {},
     "output_type": "display_data"
    }
   ],
   "source": [
    "f = plt.figure(figsize=(12,6))\n",
    "sb.boxplot(data = cleanRating, orient = 'h')\n",
    "plt.show()"
   ]
  },
  {
   "attachments": {},
   "cell_type": "markdown",
   "metadata": {},
   "source": [
    "INSIGHT : Similar to review_scores_accuracy, we can see that both datasets share a similar characteristic where majority of the data points are concentrated towards the upper end, with a mean of 4.50."
   ]
  },
  {
   "attachments": {},
   "cell_type": "markdown",
   "metadata": {},
   "source": [
    "---"
   ]
  },
  {
   "attachments": {},
   "cell_type": "markdown",
   "metadata": {},
   "source": [
    "## 4. EDA on review_scores_checkin\n",
    "<b>Description</b> : The average score from 0 to 5 that rates the Airbnb listing's ease of checking in    "
   ]
  },
  {
   "cell_type": "code",
   "execution_count": 2473,
   "metadata": {},
   "outputs": [
    {
     "data": {
      "text/html": [
       "<div>\n",
       "<style scoped>\n",
       "    .dataframe tbody tr th:only-of-type {\n",
       "        vertical-align: middle;\n",
       "    }\n",
       "\n",
       "    .dataframe tbody tr th {\n",
       "        vertical-align: top;\n",
       "    }\n",
       "\n",
       "    .dataframe thead th {\n",
       "        text-align: right;\n",
       "    }\n",
       "</style>\n",
       "<table border=\"1\" class=\"dataframe\">\n",
       "  <thead>\n",
       "    <tr style=\"text-align: right;\">\n",
       "      <th></th>\n",
       "      <th>review_scores_checkin</th>\n",
       "    </tr>\n",
       "  </thead>\n",
       "  <tbody>\n",
       "    <tr>\n",
       "      <th>0</th>\n",
       "      <td>4.79</td>\n",
       "    </tr>\n",
       "    <tr>\n",
       "      <th>1</th>\n",
       "      <td>4.73</td>\n",
       "    </tr>\n",
       "    <tr>\n",
       "      <th>2</th>\n",
       "      <td>4.54</td>\n",
       "    </tr>\n",
       "    <tr>\n",
       "      <th>3</th>\n",
       "      <td>4.86</td>\n",
       "    </tr>\n",
       "    <tr>\n",
       "      <th>4</th>\n",
       "      <td>4.95</td>\n",
       "    </tr>\n",
       "    <tr>\n",
       "      <th>...</th>\n",
       "      <td>...</td>\n",
       "    </tr>\n",
       "    <tr>\n",
       "      <th>3030</th>\n",
       "      <td>NaN</td>\n",
       "    </tr>\n",
       "    <tr>\n",
       "      <th>3031</th>\n",
       "      <td>NaN</td>\n",
       "    </tr>\n",
       "    <tr>\n",
       "      <th>3032</th>\n",
       "      <td>NaN</td>\n",
       "    </tr>\n",
       "    <tr>\n",
       "      <th>3033</th>\n",
       "      <td>NaN</td>\n",
       "    </tr>\n",
       "    <tr>\n",
       "      <th>3034</th>\n",
       "      <td>NaN</td>\n",
       "    </tr>\n",
       "  </tbody>\n",
       "</table>\n",
       "<p>3035 rows × 1 columns</p>\n",
       "</div>"
      ],
      "text/plain": [
       "      review_scores_checkin\n",
       "0                      4.79\n",
       "1                      4.73\n",
       "2                      4.54\n",
       "3                      4.86\n",
       "4                      4.95\n",
       "...                     ...\n",
       "3030                    NaN\n",
       "3031                    NaN\n",
       "3032                    NaN\n",
       "3033                    NaN\n",
       "3034                    NaN\n",
       "\n",
       "[3035 rows x 1 columns]"
      ]
     },
     "execution_count": 2473,
     "metadata": {},
     "output_type": "execute_result"
    }
   ],
   "source": [
    "checkinRating = pd.DataFrame(airDF[\"review_scores_checkin\"])\n",
    "checkinRating\n"
   ]
  },
  {
   "cell_type": "code",
   "execution_count": 2474,
   "metadata": {},
   "outputs": [
    {
     "data": {
      "text/plain": [
       "review_scores_checkin\n",
       "5.00                     791\n",
       "4.50                      79\n",
       "4.00                      79\n",
       "4.67                      43\n",
       "4.75                      41\n",
       "                        ... \n",
       "4.48                       1\n",
       "4.49                       1\n",
       "4.51                       1\n",
       "4.52                       1\n",
       "0.00                       1\n",
       "Length: 92, dtype: int64"
      ]
     },
     "execution_count": 2474,
     "metadata": {},
     "output_type": "execute_result"
    }
   ],
   "source": [
    "checkinRating.value_counts()"
   ]
  },
  {
   "cell_type": "code",
   "execution_count": 2475,
   "metadata": {},
   "outputs": [
    {
     "data": {
      "text/html": [
       "<div>\n",
       "<style scoped>\n",
       "    .dataframe tbody tr th:only-of-type {\n",
       "        vertical-align: middle;\n",
       "    }\n",
       "\n",
       "    .dataframe tbody tr th {\n",
       "        vertical-align: top;\n",
       "    }\n",
       "\n",
       "    .dataframe thead th {\n",
       "        text-align: right;\n",
       "    }\n",
       "</style>\n",
       "<table border=\"1\" class=\"dataframe\">\n",
       "  <thead>\n",
       "    <tr style=\"text-align: right;\">\n",
       "      <th></th>\n",
       "      <th>review_scores_checkin</th>\n",
       "    </tr>\n",
       "  </thead>\n",
       "  <tbody>\n",
       "    <tr>\n",
       "      <th>count</th>\n",
       "      <td>1712.000000</td>\n",
       "    </tr>\n",
       "    <tr>\n",
       "      <th>mean</th>\n",
       "      <td>4.718814</td>\n",
       "    </tr>\n",
       "    <tr>\n",
       "      <th>std</th>\n",
       "      <td>0.543987</td>\n",
       "    </tr>\n",
       "    <tr>\n",
       "      <th>min</th>\n",
       "      <td>0.000000</td>\n",
       "    </tr>\n",
       "    <tr>\n",
       "      <th>25%</th>\n",
       "      <td>4.670000</td>\n",
       "    </tr>\n",
       "    <tr>\n",
       "      <th>50%</th>\n",
       "      <td>4.930000</td>\n",
       "    </tr>\n",
       "    <tr>\n",
       "      <th>75%</th>\n",
       "      <td>5.000000</td>\n",
       "    </tr>\n",
       "    <tr>\n",
       "      <th>max</th>\n",
       "      <td>5.000000</td>\n",
       "    </tr>\n",
       "  </tbody>\n",
       "</table>\n",
       "</div>"
      ],
      "text/plain": [
       "       review_scores_checkin\n",
       "count            1712.000000\n",
       "mean                4.718814\n",
       "std                 0.543987\n",
       "min                 0.000000\n",
       "25%                 4.670000\n",
       "50%                 4.930000\n",
       "75%                 5.000000\n",
       "max                 5.000000"
      ]
     },
     "execution_count": 2475,
     "metadata": {},
     "output_type": "execute_result"
    }
   ],
   "source": [
    "checkinRating.describe()"
   ]
  },
  {
   "cell_type": "code",
   "execution_count": 2476,
   "metadata": {},
   "outputs": [
    {
     "name": "stdout",
     "output_type": "stream",
     "text": [
      "Total Values: 3035, Null Values: 1323\n"
     ]
    }
   ],
   "source": [
    "#Find the number of null values as there seems to be alot.\n",
    "print(\"Total Values: {0}, Null Values: {1}\".format(len(checkinRating), checkinRating.isna().sum().sum()))"
   ]
  },
  {
   "cell_type": "code",
   "execution_count": 2477,
   "metadata": {},
   "outputs": [
    {
     "data": {
      "text/html": [
       "<div>\n",
       "<style scoped>\n",
       "    .dataframe tbody tr th:only-of-type {\n",
       "        vertical-align: middle;\n",
       "    }\n",
       "\n",
       "    .dataframe tbody tr th {\n",
       "        vertical-align: top;\n",
       "    }\n",
       "\n",
       "    .dataframe thead th {\n",
       "        text-align: right;\n",
       "    }\n",
       "</style>\n",
       "<table border=\"1\" class=\"dataframe\">\n",
       "  <thead>\n",
       "    <tr style=\"text-align: right;\">\n",
       "      <th></th>\n",
       "      <th>review_scores_checkin</th>\n",
       "    </tr>\n",
       "  </thead>\n",
       "  <tbody>\n",
       "    <tr>\n",
       "      <th>0</th>\n",
       "      <td>4.79</td>\n",
       "    </tr>\n",
       "    <tr>\n",
       "      <th>1</th>\n",
       "      <td>4.73</td>\n",
       "    </tr>\n",
       "    <tr>\n",
       "      <th>2</th>\n",
       "      <td>4.54</td>\n",
       "    </tr>\n",
       "    <tr>\n",
       "      <th>3</th>\n",
       "      <td>4.86</td>\n",
       "    </tr>\n",
       "    <tr>\n",
       "      <th>4</th>\n",
       "      <td>4.95</td>\n",
       "    </tr>\n",
       "    <tr>\n",
       "      <th>...</th>\n",
       "      <td>...</td>\n",
       "    </tr>\n",
       "    <tr>\n",
       "      <th>2916</th>\n",
       "      <td>5.00</td>\n",
       "    </tr>\n",
       "    <tr>\n",
       "      <th>2927</th>\n",
       "      <td>5.00</td>\n",
       "    </tr>\n",
       "    <tr>\n",
       "      <th>2932</th>\n",
       "      <td>4.00</td>\n",
       "    </tr>\n",
       "    <tr>\n",
       "      <th>2949</th>\n",
       "      <td>5.00</td>\n",
       "    </tr>\n",
       "    <tr>\n",
       "      <th>2956</th>\n",
       "      <td>5.00</td>\n",
       "    </tr>\n",
       "  </tbody>\n",
       "</table>\n",
       "<p>1712 rows × 1 columns</p>\n",
       "</div>"
      ],
      "text/plain": [
       "      review_scores_checkin\n",
       "0                      4.79\n",
       "1                      4.73\n",
       "2                      4.54\n",
       "3                      4.86\n",
       "4                      4.95\n",
       "...                     ...\n",
       "2916                   5.00\n",
       "2927                   5.00\n",
       "2932                   4.00\n",
       "2949                   5.00\n",
       "2956                   5.00\n",
       "\n",
       "[1712 rows x 1 columns]"
      ]
     },
     "execution_count": 2477,
     "metadata": {},
     "output_type": "execute_result"
    }
   ],
   "source": [
    "checkinRating = checkinRating.dropna()\n",
    "checkinRating"
   ]
  },
  {
   "cell_type": "code",
   "execution_count": 2478,
   "metadata": {},
   "outputs": [
    {
     "data": {
      "image/png": "[encoded data removed]",
      "text/plain": [
       "<Figure size 1200x600 with 1 Axes>"
      ]
     },
     "metadata": {},
     "output_type": "display_data"
    }
   ],
   "source": [
    "f = plt.figure(figsize=(12,6))\n",
    "sb.boxplot(data = checkinRating, orient = 'h')\n",
    "plt.show()"
   ]
  },
  {
   "attachments": {},
   "cell_type": "markdown",
   "metadata": {},
   "source": [
    "INSIGHT : From the box plot it seems that most of the guests are able to check in easily as the scores are mostly above 4.5 and a 5.00 rating, with a mean of 4.718. "
   ]
  },
  {
   "attachments": {},
   "cell_type": "markdown",
   "metadata": {},
   "source": [
    "---"
   ]
  },
  {
   "attachments": {},
   "cell_type": "markdown",
   "metadata": {},
   "source": [
    "## 5. EDA on review_scores_communication\n",
    "<b>Description</b> : The average score from 0 to 5 that rates the Airbnb listing's host's availability to the guest during the guest's stay    "
   ]
  },
  {
   "cell_type": "code",
   "execution_count": 2479,
   "metadata": {},
   "outputs": [
    {
     "data": {
      "text/html": [
       "<div>\n",
       "<style scoped>\n",
       "    .dataframe tbody tr th:only-of-type {\n",
       "        vertical-align: middle;\n",
       "    }\n",
       "\n",
       "    .dataframe tbody tr th {\n",
       "        vertical-align: top;\n",
       "    }\n",
       "\n",
       "    .dataframe thead th {\n",
       "        text-align: right;\n",
       "    }\n",
       "</style>\n",
       "<table border=\"1\" class=\"dataframe\">\n",
       "  <thead>\n",
       "    <tr style=\"text-align: right;\">\n",
       "      <th></th>\n",
       "      <th>review_scores_communication</th>\n",
       "    </tr>\n",
       "  </thead>\n",
       "  <tbody>\n",
       "    <tr>\n",
       "      <th>0</th>\n",
       "      <td>4.89</td>\n",
       "    </tr>\n",
       "    <tr>\n",
       "      <th>1</th>\n",
       "      <td>4.88</td>\n",
       "    </tr>\n",
       "    <tr>\n",
       "      <th>2</th>\n",
       "      <td>4.54</td>\n",
       "    </tr>\n",
       "    <tr>\n",
       "      <th>3</th>\n",
       "      <td>4.72</td>\n",
       "    </tr>\n",
       "    <tr>\n",
       "      <th>4</th>\n",
       "      <td>4.97</td>\n",
       "    </tr>\n",
       "    <tr>\n",
       "      <th>...</th>\n",
       "      <td>...</td>\n",
       "    </tr>\n",
       "    <tr>\n",
       "      <th>3030</th>\n",
       "      <td>NaN</td>\n",
       "    </tr>\n",
       "    <tr>\n",
       "      <th>3031</th>\n",
       "      <td>NaN</td>\n",
       "    </tr>\n",
       "    <tr>\n",
       "      <th>3032</th>\n",
       "      <td>NaN</td>\n",
       "    </tr>\n",
       "    <tr>\n",
       "      <th>3033</th>\n",
       "      <td>NaN</td>\n",
       "    </tr>\n",
       "    <tr>\n",
       "      <th>3034</th>\n",
       "      <td>NaN</td>\n",
       "    </tr>\n",
       "  </tbody>\n",
       "</table>\n",
       "<p>3035 rows × 1 columns</p>\n",
       "</div>"
      ],
      "text/plain": [
       "      review_scores_communication\n",
       "0                            4.89\n",
       "1                            4.88\n",
       "2                            4.54\n",
       "3                            4.72\n",
       "4                            4.97\n",
       "...                           ...\n",
       "3030                          NaN\n",
       "3031                          NaN\n",
       "3032                          NaN\n",
       "3033                          NaN\n",
       "3034                          NaN\n",
       "\n",
       "[3035 rows x 1 columns]"
      ]
     },
     "execution_count": 2479,
     "metadata": {},
     "output_type": "execute_result"
    }
   ],
   "source": [
    "commRating = pd.DataFrame(airDF[\"review_scores_communication\"])\n",
    "commRating"
   ]
  },
  {
   "cell_type": "code",
   "execution_count": 2480,
   "metadata": {},
   "outputs": [
    {
     "data": {
      "text/plain": [
       "review_scores_communication\n",
       "5.00                           807\n",
       "4.00                            72\n",
       "4.50                            72\n",
       "4.75                            45\n",
       "4.67                            41\n",
       "                              ... \n",
       "4.10                             1\n",
       "4.24                             1\n",
       "4.29                             1\n",
       "4.42                             1\n",
       "3.95                             1\n",
       "Length: 92, dtype: int64"
      ]
     },
     "execution_count": 2480,
     "metadata": {},
     "output_type": "execute_result"
    }
   ],
   "source": [
    "commRating.value_counts()"
   ]
  },
  {
   "cell_type": "code",
   "execution_count": 2481,
   "metadata": {},
   "outputs": [
    {
     "data": {
      "text/html": [
       "<div>\n",
       "<style scoped>\n",
       "    .dataframe tbody tr th:only-of-type {\n",
       "        vertical-align: middle;\n",
       "    }\n",
       "\n",
       "    .dataframe tbody tr th {\n",
       "        vertical-align: top;\n",
       "    }\n",
       "\n",
       "    .dataframe thead th {\n",
       "        text-align: right;\n",
       "    }\n",
       "</style>\n",
       "<table border=\"1\" class=\"dataframe\">\n",
       "  <thead>\n",
       "    <tr style=\"text-align: right;\">\n",
       "      <th></th>\n",
       "      <th>review_scores_communication</th>\n",
       "    </tr>\n",
       "  </thead>\n",
       "  <tbody>\n",
       "    <tr>\n",
       "      <th>count</th>\n",
       "      <td>1713.000000</td>\n",
       "    </tr>\n",
       "    <tr>\n",
       "      <th>mean</th>\n",
       "      <td>4.716071</td>\n",
       "    </tr>\n",
       "    <tr>\n",
       "      <th>std</th>\n",
       "      <td>0.566867</td>\n",
       "    </tr>\n",
       "    <tr>\n",
       "      <th>min</th>\n",
       "      <td>0.000000</td>\n",
       "    </tr>\n",
       "    <tr>\n",
       "      <th>25%</th>\n",
       "      <td>4.670000</td>\n",
       "    </tr>\n",
       "    <tr>\n",
       "      <th>50%</th>\n",
       "      <td>4.950000</td>\n",
       "    </tr>\n",
       "    <tr>\n",
       "      <th>75%</th>\n",
       "      <td>5.000000</td>\n",
       "    </tr>\n",
       "    <tr>\n",
       "      <th>max</th>\n",
       "      <td>5.000000</td>\n",
       "    </tr>\n",
       "  </tbody>\n",
       "</table>\n",
       "</div>"
      ],
      "text/plain": [
       "       review_scores_communication\n",
       "count                  1713.000000\n",
       "mean                      4.716071\n",
       "std                       0.566867\n",
       "min                       0.000000\n",
       "25%                       4.670000\n",
       "50%                       4.950000\n",
       "75%                       5.000000\n",
       "max                       5.000000"
      ]
     },
     "execution_count": 2481,
     "metadata": {},
     "output_type": "execute_result"
    }
   ],
   "source": [
    "commRating.describe()"
   ]
  },
  {
   "cell_type": "code",
   "execution_count": 2482,
   "metadata": {},
   "outputs": [
    {
     "name": "stdout",
     "output_type": "stream",
     "text": [
      "Total Values: 3035, Null Values: 1322\n"
     ]
    }
   ],
   "source": [
    "#Find the number of null values as there seems to be alot.\n",
    "print(\"Total Values: {0}, Null Values: {1}\".format(len(commRating), commRating.isna().sum().sum()))"
   ]
  },
  {
   "cell_type": "code",
   "execution_count": 2483,
   "metadata": {},
   "outputs": [
    {
     "data": {
      "text/html": [
       "<div>\n",
       "<style scoped>\n",
       "    .dataframe tbody tr th:only-of-type {\n",
       "        vertical-align: middle;\n",
       "    }\n",
       "\n",
       "    .dataframe tbody tr th {\n",
       "        vertical-align: top;\n",
       "    }\n",
       "\n",
       "    .dataframe thead th {\n",
       "        text-align: right;\n",
       "    }\n",
       "</style>\n",
       "<table border=\"1\" class=\"dataframe\">\n",
       "  <thead>\n",
       "    <tr style=\"text-align: right;\">\n",
       "      <th></th>\n",
       "      <th>review_scores_communication</th>\n",
       "    </tr>\n",
       "  </thead>\n",
       "  <tbody>\n",
       "    <tr>\n",
       "      <th>0</th>\n",
       "      <td>4.89</td>\n",
       "    </tr>\n",
       "    <tr>\n",
       "      <th>1</th>\n",
       "      <td>4.88</td>\n",
       "    </tr>\n",
       "    <tr>\n",
       "      <th>2</th>\n",
       "      <td>4.54</td>\n",
       "    </tr>\n",
       "    <tr>\n",
       "      <th>3</th>\n",
       "      <td>4.72</td>\n",
       "    </tr>\n",
       "    <tr>\n",
       "      <th>4</th>\n",
       "      <td>4.97</td>\n",
       "    </tr>\n",
       "    <tr>\n",
       "      <th>...</th>\n",
       "      <td>...</td>\n",
       "    </tr>\n",
       "    <tr>\n",
       "      <th>2916</th>\n",
       "      <td>3.00</td>\n",
       "    </tr>\n",
       "    <tr>\n",
       "      <th>2927</th>\n",
       "      <td>5.00</td>\n",
       "    </tr>\n",
       "    <tr>\n",
       "      <th>2932</th>\n",
       "      <td>4.00</td>\n",
       "    </tr>\n",
       "    <tr>\n",
       "      <th>2949</th>\n",
       "      <td>5.00</td>\n",
       "    </tr>\n",
       "    <tr>\n",
       "      <th>2956</th>\n",
       "      <td>5.00</td>\n",
       "    </tr>\n",
       "  </tbody>\n",
       "</table>\n",
       "<p>1713 rows × 1 columns</p>\n",
       "</div>"
      ],
      "text/plain": [
       "      review_scores_communication\n",
       "0                            4.89\n",
       "1                            4.88\n",
       "2                            4.54\n",
       "3                            4.72\n",
       "4                            4.97\n",
       "...                           ...\n",
       "2916                         3.00\n",
       "2927                         5.00\n",
       "2932                         4.00\n",
       "2949                         5.00\n",
       "2956                         5.00\n",
       "\n",
       "[1713 rows x 1 columns]"
      ]
     },
     "execution_count": 2483,
     "metadata": {},
     "output_type": "execute_result"
    }
   ],
   "source": [
    "commRating = commRating.dropna()\n",
    "commRating"
   ]
  },
  {
   "cell_type": "code",
   "execution_count": 2484,
   "metadata": {},
   "outputs": [
    {
     "data": {
      "image/png": "[encoded data removed]",
      "text/plain": [
       "<Figure size 1200x600 with 1 Axes>"
      ]
     },
     "metadata": {},
     "output_type": "display_data"
    }
   ],
   "source": [
    "f = plt.figure(figsize=(12,6))\n",
    "sb.boxplot(data = commRating, orient = 'h')\n",
    "plt.show()"
   ]
  },
  {
   "attachments": {},
   "cell_type": "markdown",
   "metadata": {},
   "source": [
    "INSIGHT : From the boxplot, it seems that the majority of guest gave similar ratings,with a mean of 4.71 and a median of 4.95, suggesting that the distribution of the data is skewed towards the upper range with a significant number of outliers right below the lower whisker(25% quartile)."
   ]
  },
  {
   "attachments": {},
   "cell_type": "markdown",
   "metadata": {},
   "source": [
    "---"
   ]
  },
  {
   "attachments": {},
   "cell_type": "markdown",
   "metadata": {},
   "source": [
    "# 6. EDA on review_scores_location\n",
    "<b>Description</b> : The average score from 0 to 5 that rates how ideal an Airbnb listing's location is to the guest"
   ]
  },
  {
   "cell_type": "code",
   "execution_count": 2485,
   "metadata": {},
   "outputs": [
    {
     "data": {
      "text/html": [
       "<div>\n",
       "<style scoped>\n",
       "    .dataframe tbody tr th:only-of-type {\n",
       "        vertical-align: middle;\n",
       "    }\n",
       "\n",
       "    .dataframe tbody tr th {\n",
       "        vertical-align: top;\n",
       "    }\n",
       "\n",
       "    .dataframe thead th {\n",
       "        text-align: right;\n",
       "    }\n",
       "</style>\n",
       "<table border=\"1\" class=\"dataframe\">\n",
       "  <thead>\n",
       "    <tr style=\"text-align: right;\">\n",
       "      <th></th>\n",
       "      <th>review_scores_location</th>\n",
       "    </tr>\n",
       "  </thead>\n",
       "  <tbody>\n",
       "    <tr>\n",
       "      <th>0</th>\n",
       "      <td>4.90</td>\n",
       "    </tr>\n",
       "    <tr>\n",
       "      <th>1</th>\n",
       "      <td>4.87</td>\n",
       "    </tr>\n",
       "    <tr>\n",
       "      <th>2</th>\n",
       "      <td>3.77</td>\n",
       "    </tr>\n",
       "    <tr>\n",
       "      <th>3</th>\n",
       "      <td>4.79</td>\n",
       "    </tr>\n",
       "    <tr>\n",
       "      <th>4</th>\n",
       "      <td>4.97</td>\n",
       "    </tr>\n",
       "    <tr>\n",
       "      <th>...</th>\n",
       "      <td>...</td>\n",
       "    </tr>\n",
       "    <tr>\n",
       "      <th>3030</th>\n",
       "      <td>NaN</td>\n",
       "    </tr>\n",
       "    <tr>\n",
       "      <th>3031</th>\n",
       "      <td>NaN</td>\n",
       "    </tr>\n",
       "    <tr>\n",
       "      <th>3032</th>\n",
       "      <td>NaN</td>\n",
       "    </tr>\n",
       "    <tr>\n",
       "      <th>3033</th>\n",
       "      <td>NaN</td>\n",
       "    </tr>\n",
       "    <tr>\n",
       "      <th>3034</th>\n",
       "      <td>NaN</td>\n",
       "    </tr>\n",
       "  </tbody>\n",
       "</table>\n",
       "<p>3035 rows × 1 columns</p>\n",
       "</div>"
      ],
      "text/plain": [
       "      review_scores_location\n",
       "0                       4.90\n",
       "1                       4.87\n",
       "2                       3.77\n",
       "3                       4.79\n",
       "4                       4.97\n",
       "...                      ...\n",
       "3030                     NaN\n",
       "3031                     NaN\n",
       "3032                     NaN\n",
       "3033                     NaN\n",
       "3034                     NaN\n",
       "\n",
       "[3035 rows x 1 columns]"
      ]
     },
     "execution_count": 2485,
     "metadata": {},
     "output_type": "execute_result"
    }
   ],
   "source": [
    "locationRating = pd.DataFrame(airDF[\"review_scores_location\"])\n",
    "locationRating"
   ]
  },
  {
   "cell_type": "code",
   "execution_count": 2486,
   "metadata": {},
   "outputs": [
    {
     "data": {
      "text/html": [
       "<div>\n",
       "<style scoped>\n",
       "    .dataframe tbody tr th:only-of-type {\n",
       "        vertical-align: middle;\n",
       "    }\n",
       "\n",
       "    .dataframe tbody tr th {\n",
       "        vertical-align: top;\n",
       "    }\n",
       "\n",
       "    .dataframe thead th {\n",
       "        text-align: right;\n",
       "    }\n",
       "</style>\n",
       "<table border=\"1\" class=\"dataframe\">\n",
       "  <thead>\n",
       "    <tr style=\"text-align: right;\">\n",
       "      <th></th>\n",
       "      <th>review_scores_location</th>\n",
       "    </tr>\n",
       "  </thead>\n",
       "  <tbody>\n",
       "    <tr>\n",
       "      <th>count</th>\n",
       "      <td>1711.000000</td>\n",
       "    </tr>\n",
       "    <tr>\n",
       "      <th>mean</th>\n",
       "      <td>4.703343</td>\n",
       "    </tr>\n",
       "    <tr>\n",
       "      <th>std</th>\n",
       "      <td>0.468869</td>\n",
       "    </tr>\n",
       "    <tr>\n",
       "      <th>min</th>\n",
       "      <td>0.000000</td>\n",
       "    </tr>\n",
       "    <tr>\n",
       "      <th>25%</th>\n",
       "      <td>4.585000</td>\n",
       "    </tr>\n",
       "    <tr>\n",
       "      <th>50%</th>\n",
       "      <td>4.880000</td>\n",
       "    </tr>\n",
       "    <tr>\n",
       "      <th>75%</th>\n",
       "      <td>5.000000</td>\n",
       "    </tr>\n",
       "    <tr>\n",
       "      <th>max</th>\n",
       "      <td>5.000000</td>\n",
       "    </tr>\n",
       "  </tbody>\n",
       "</table>\n",
       "</div>"
      ],
      "text/plain": [
       "       review_scores_location\n",
       "count             1711.000000\n",
       "mean                 4.703343\n",
       "std                  0.468869\n",
       "min                  0.000000\n",
       "25%                  4.585000\n",
       "50%                  4.880000\n",
       "75%                  5.000000\n",
       "max                  5.000000"
      ]
     },
     "execution_count": 2486,
     "metadata": {},
     "output_type": "execute_result"
    }
   ],
   "source": [
    "locationRating.describe()"
   ]
  },
  {
   "cell_type": "code",
   "execution_count": 2487,
   "metadata": {},
   "outputs": [
    {
     "data": {
      "text/plain": [
       "review_scores_location\n",
       "5.00                      745\n",
       "4.00                      109\n",
       "4.50                       71\n",
       "4.67                       56\n",
       "4.75                       46\n",
       "                         ... \n",
       "4.18                        1\n",
       "4.19                        1\n",
       "4.22                        1\n",
       "4.23                        1\n",
       "4.48                        1\n",
       "Length: 104, dtype: int64"
      ]
     },
     "execution_count": 2487,
     "metadata": {},
     "output_type": "execute_result"
    }
   ],
   "source": [
    "locationRating.value_counts()"
   ]
  },
  {
   "cell_type": "code",
   "execution_count": 2488,
   "metadata": {},
   "outputs": [
    {
     "name": "stdout",
     "output_type": "stream",
     "text": [
      "Total Values: 3035, Null Values: 1324\n"
     ]
    }
   ],
   "source": [
    "#Find the number of null values as there seems to be alot.\n",
    "print(\"Total Values: {0}, Null Values: {1}\".format(len(locationRating), locationRating.isna().sum().sum()))"
   ]
  },
  {
   "cell_type": "code",
   "execution_count": 2489,
   "metadata": {},
   "outputs": [
    {
     "data": {
      "text/html": [
       "<div>\n",
       "<style scoped>\n",
       "    .dataframe tbody tr th:only-of-type {\n",
       "        vertical-align: middle;\n",
       "    }\n",
       "\n",
       "    .dataframe tbody tr th {\n",
       "        vertical-align: top;\n",
       "    }\n",
       "\n",
       "    .dataframe thead th {\n",
       "        text-align: right;\n",
       "    }\n",
       "</style>\n",
       "<table border=\"1\" class=\"dataframe\">\n",
       "  <thead>\n",
       "    <tr style=\"text-align: right;\">\n",
       "      <th></th>\n",
       "      <th>review_scores_location</th>\n",
       "    </tr>\n",
       "  </thead>\n",
       "  <tbody>\n",
       "    <tr>\n",
       "      <th>0</th>\n",
       "      <td>4.90</td>\n",
       "    </tr>\n",
       "    <tr>\n",
       "      <th>1</th>\n",
       "      <td>4.87</td>\n",
       "    </tr>\n",
       "    <tr>\n",
       "      <th>2</th>\n",
       "      <td>3.77</td>\n",
       "    </tr>\n",
       "    <tr>\n",
       "      <th>3</th>\n",
       "      <td>4.79</td>\n",
       "    </tr>\n",
       "    <tr>\n",
       "      <th>4</th>\n",
       "      <td>4.97</td>\n",
       "    </tr>\n",
       "    <tr>\n",
       "      <th>...</th>\n",
       "      <td>...</td>\n",
       "    </tr>\n",
       "    <tr>\n",
       "      <th>2916</th>\n",
       "      <td>4.00</td>\n",
       "    </tr>\n",
       "    <tr>\n",
       "      <th>2927</th>\n",
       "      <td>5.00</td>\n",
       "    </tr>\n",
       "    <tr>\n",
       "      <th>2932</th>\n",
       "      <td>3.00</td>\n",
       "    </tr>\n",
       "    <tr>\n",
       "      <th>2949</th>\n",
       "      <td>5.00</td>\n",
       "    </tr>\n",
       "    <tr>\n",
       "      <th>2956</th>\n",
       "      <td>5.00</td>\n",
       "    </tr>\n",
       "  </tbody>\n",
       "</table>\n",
       "<p>1711 rows × 1 columns</p>\n",
       "</div>"
      ],
      "text/plain": [
       "      review_scores_location\n",
       "0                       4.90\n",
       "1                       4.87\n",
       "2                       3.77\n",
       "3                       4.79\n",
       "4                       4.97\n",
       "...                      ...\n",
       "2916                    4.00\n",
       "2927                    5.00\n",
       "2932                    3.00\n",
       "2949                    5.00\n",
       "2956                    5.00\n",
       "\n",
       "[1711 rows x 1 columns]"
      ]
     },
     "execution_count": 2489,
     "metadata": {},
     "output_type": "execute_result"
    }
   ],
   "source": [
    "locationRating = locationRating.dropna()\n",
    "locationRating"
   ]
  },
  {
   "cell_type": "code",
   "execution_count": 2490,
   "metadata": {},
   "outputs": [
    {
     "data": {
      "image/png": "[encoded data removed]",
      "text/plain": [
       "<Figure size 1200x600 with 1 Axes>"
      ]
     },
     "metadata": {},
     "output_type": "display_data"
    }
   ],
   "source": [
    "f = plt.figure(figsize=(12,6))\n",
    "sb.boxplot(data = locationRating, orient = 'h')\n",
    "plt.show()"
   ]
  },
  {
   "attachments": {},
   "cell_type": "markdown",
   "metadata": {},
   "source": [
    "INSIGHT : The boxplot suggest that the majority of the data points are tightly clustered in the upper reigion, with a mean of 4.70, indicating a significant trend or patern among subset of the data. "
   ]
  },
  {
   "attachments": {},
   "cell_type": "markdown",
   "metadata": {},
   "source": [
    "---"
   ]
  },
  {
   "attachments": {},
   "cell_type": "markdown",
   "metadata": {},
   "source": [
    "# 7. EDA on review_scores_value\n",
    "<b>Description</b> : The average score from 0 to 5 that rates whether an Airbnb listing's quality matches the price of the listing "
   ]
  },
  {
   "cell_type": "code",
   "execution_count": 2491,
   "metadata": {},
   "outputs": [
    {
     "data": {
      "text/html": [
       "<div>\n",
       "<style scoped>\n",
       "    .dataframe tbody tr th:only-of-type {\n",
       "        vertical-align: middle;\n",
       "    }\n",
       "\n",
       "    .dataframe tbody tr th {\n",
       "        vertical-align: top;\n",
       "    }\n",
       "\n",
       "    .dataframe thead th {\n",
       "        text-align: right;\n",
       "    }\n",
       "</style>\n",
       "<table border=\"1\" class=\"dataframe\">\n",
       "  <thead>\n",
       "    <tr style=\"text-align: right;\">\n",
       "      <th></th>\n",
       "      <th>review_scores_value</th>\n",
       "    </tr>\n",
       "  </thead>\n",
       "  <tbody>\n",
       "    <tr>\n",
       "      <th>0</th>\n",
       "      <td>4.69</td>\n",
       "    </tr>\n",
       "    <tr>\n",
       "      <th>1</th>\n",
       "      <td>4.58</td>\n",
       "    </tr>\n",
       "    <tr>\n",
       "      <th>2</th>\n",
       "      <td>4.38</td>\n",
       "    </tr>\n",
       "    <tr>\n",
       "      <th>3</th>\n",
       "      <td>4.49</td>\n",
       "    </tr>\n",
       "    <tr>\n",
       "      <th>4</th>\n",
       "      <td>4.86</td>\n",
       "    </tr>\n",
       "    <tr>\n",
       "      <th>...</th>\n",
       "      <td>...</td>\n",
       "    </tr>\n",
       "    <tr>\n",
       "      <th>3030</th>\n",
       "      <td>NaN</td>\n",
       "    </tr>\n",
       "    <tr>\n",
       "      <th>3031</th>\n",
       "      <td>NaN</td>\n",
       "    </tr>\n",
       "    <tr>\n",
       "      <th>3032</th>\n",
       "      <td>NaN</td>\n",
       "    </tr>\n",
       "    <tr>\n",
       "      <th>3033</th>\n",
       "      <td>NaN</td>\n",
       "    </tr>\n",
       "    <tr>\n",
       "      <th>3034</th>\n",
       "      <td>NaN</td>\n",
       "    </tr>\n",
       "  </tbody>\n",
       "</table>\n",
       "<p>3035 rows × 1 columns</p>\n",
       "</div>"
      ],
      "text/plain": [
       "      review_scores_value\n",
       "0                    4.69\n",
       "1                    4.58\n",
       "2                    4.38\n",
       "3                    4.49\n",
       "4                    4.86\n",
       "...                   ...\n",
       "3030                  NaN\n",
       "3031                  NaN\n",
       "3032                  NaN\n",
       "3033                  NaN\n",
       "3034                  NaN\n",
       "\n",
       "[3035 rows x 1 columns]"
      ]
     },
     "execution_count": 2491,
     "metadata": {},
     "output_type": "execute_result"
    }
   ],
   "source": [
    "valueRating = pd.DataFrame(airDF[\"review_scores_value\"])\n",
    "valueRating"
   ]
  },
  {
   "cell_type": "code",
   "execution_count": 2492,
   "metadata": {},
   "outputs": [
    {
     "data": {
      "text/plain": [
       "review_scores_value\n",
       "5.00                   461\n",
       "4.00                   211\n",
       "4.50                   124\n",
       "3.00                    56\n",
       "4.67                    53\n",
       "                      ... \n",
       "4.04                     1\n",
       "4.18                     1\n",
       "4.05                     1\n",
       "4.09                     1\n",
       "0.00                     1\n",
       "Length: 117, dtype: int64"
      ]
     },
     "execution_count": 2492,
     "metadata": {},
     "output_type": "execute_result"
    }
   ],
   "source": [
    "valueRating.value_counts()"
   ]
  },
  {
   "cell_type": "code",
   "execution_count": 2493,
   "metadata": {},
   "outputs": [
    {
     "data": {
      "text/html": [
       "<div>\n",
       "<style scoped>\n",
       "    .dataframe tbody tr th:only-of-type {\n",
       "        vertical-align: middle;\n",
       "    }\n",
       "\n",
       "    .dataframe tbody tr th {\n",
       "        vertical-align: top;\n",
       "    }\n",
       "\n",
       "    .dataframe thead th {\n",
       "        text-align: right;\n",
       "    }\n",
       "</style>\n",
       "<table border=\"1\" class=\"dataframe\">\n",
       "  <thead>\n",
       "    <tr style=\"text-align: right;\">\n",
       "      <th></th>\n",
       "      <th>review_scores_value</th>\n",
       "    </tr>\n",
       "  </thead>\n",
       "  <tbody>\n",
       "    <tr>\n",
       "      <th>count</th>\n",
       "      <td>1711.000000</td>\n",
       "    </tr>\n",
       "    <tr>\n",
       "      <th>mean</th>\n",
       "      <td>4.471011</td>\n",
       "    </tr>\n",
       "    <tr>\n",
       "      <th>std</th>\n",
       "      <td>0.607347</td>\n",
       "    </tr>\n",
       "    <tr>\n",
       "      <th>min</th>\n",
       "      <td>0.000000</td>\n",
       "    </tr>\n",
       "    <tr>\n",
       "      <th>25%</th>\n",
       "      <td>4.250000</td>\n",
       "    </tr>\n",
       "    <tr>\n",
       "      <th>50%</th>\n",
       "      <td>4.600000</td>\n",
       "    </tr>\n",
       "    <tr>\n",
       "      <th>75%</th>\n",
       "      <td>5.000000</td>\n",
       "    </tr>\n",
       "    <tr>\n",
       "      <th>max</th>\n",
       "      <td>5.000000</td>\n",
       "    </tr>\n",
       "  </tbody>\n",
       "</table>\n",
       "</div>"
      ],
      "text/plain": [
       "       review_scores_value\n",
       "count          1711.000000\n",
       "mean              4.471011\n",
       "std               0.607347\n",
       "min               0.000000\n",
       "25%               4.250000\n",
       "50%               4.600000\n",
       "75%               5.000000\n",
       "max               5.000000"
      ]
     },
     "execution_count": 2493,
     "metadata": {},
     "output_type": "execute_result"
    }
   ],
   "source": [
    "valueRating.describe()"
   ]
  },
  {
   "cell_type": "code",
   "execution_count": 2494,
   "metadata": {},
   "outputs": [
    {
     "name": "stdout",
     "output_type": "stream",
     "text": [
      "Total Values: 3035, Null Values: 1324\n"
     ]
    }
   ],
   "source": [
    "#Find the number of null values as there seems to be alot.\n",
    "print(\"Total Values: {0}, Null Values: {1}\".format(len(valueRating), valueRating.isna().sum().sum()))"
   ]
  },
  {
   "cell_type": "code",
   "execution_count": 2495,
   "metadata": {},
   "outputs": [
    {
     "data": {
      "text/html": [
       "<div>\n",
       "<style scoped>\n",
       "    .dataframe tbody tr th:only-of-type {\n",
       "        vertical-align: middle;\n",
       "    }\n",
       "\n",
       "    .dataframe tbody tr th {\n",
       "        vertical-align: top;\n",
       "    }\n",
       "\n",
       "    .dataframe thead th {\n",
       "        text-align: right;\n",
       "    }\n",
       "</style>\n",
       "<table border=\"1\" class=\"dataframe\">\n",
       "  <thead>\n",
       "    <tr style=\"text-align: right;\">\n",
       "      <th></th>\n",
       "      <th>review_scores_value</th>\n",
       "    </tr>\n",
       "  </thead>\n",
       "  <tbody>\n",
       "    <tr>\n",
       "      <th>0</th>\n",
       "      <td>4.69</td>\n",
       "    </tr>\n",
       "    <tr>\n",
       "      <th>1</th>\n",
       "      <td>4.58</td>\n",
       "    </tr>\n",
       "    <tr>\n",
       "      <th>2</th>\n",
       "      <td>4.38</td>\n",
       "    </tr>\n",
       "    <tr>\n",
       "      <th>3</th>\n",
       "      <td>4.49</td>\n",
       "    </tr>\n",
       "    <tr>\n",
       "      <th>4</th>\n",
       "      <td>4.86</td>\n",
       "    </tr>\n",
       "    <tr>\n",
       "      <th>...</th>\n",
       "      <td>...</td>\n",
       "    </tr>\n",
       "    <tr>\n",
       "      <th>2916</th>\n",
       "      <td>1.00</td>\n",
       "    </tr>\n",
       "    <tr>\n",
       "      <th>2927</th>\n",
       "      <td>5.00</td>\n",
       "    </tr>\n",
       "    <tr>\n",
       "      <th>2932</th>\n",
       "      <td>3.00</td>\n",
       "    </tr>\n",
       "    <tr>\n",
       "      <th>2949</th>\n",
       "      <td>5.00</td>\n",
       "    </tr>\n",
       "    <tr>\n",
       "      <th>2956</th>\n",
       "      <td>5.00</td>\n",
       "    </tr>\n",
       "  </tbody>\n",
       "</table>\n",
       "<p>1711 rows × 1 columns</p>\n",
       "</div>"
      ],
      "text/plain": [
       "      review_scores_value\n",
       "0                    4.69\n",
       "1                    4.58\n",
       "2                    4.38\n",
       "3                    4.49\n",
       "4                    4.86\n",
       "...                   ...\n",
       "2916                 1.00\n",
       "2927                 5.00\n",
       "2932                 3.00\n",
       "2949                 5.00\n",
       "2956                 5.00\n",
       "\n",
       "[1711 rows x 1 columns]"
      ]
     },
     "execution_count": 2495,
     "metadata": {},
     "output_type": "execute_result"
    }
   ],
   "source": [
    "valueRating = valueRating.dropna()\n",
    "valueRating"
   ]
  },
  {
   "cell_type": "code",
   "execution_count": 2496,
   "metadata": {},
   "outputs": [
    {
     "data": {
      "image/png": "[encoded data removed]",
      "text/plain": [
       "<Figure size 1200x600 with 1 Axes>"
      ]
     },
     "metadata": {},
     "output_type": "display_data"
    }
   ],
   "source": [
    "f = plt.figure(figsize=(12,6))\n",
    "sb.boxplot(data = valueRating , orient = 'h')\n",
    "plt.show()"
   ]
  },
  {
   "attachments": {},
   "cell_type": "markdown",
   "metadata": {},
   "source": [
    "INSIGHT :  Looking at the box plot, we can see that data points concentrated at the upper region, with a mean of 4.47, suggesting that the data is skewed towards the upper value. However, if we were to compare it to the other review_scores EDA, a mean of 4.47 is considered to be at the lower end."
   ]
  },
  {
   "attachments": {},
   "cell_type": "markdown",
   "metadata": {},
   "source": [
    "---\n"
   ]
  },
  {
   "attachments": {},
   "cell_type": "markdown",
   "metadata": {},
   "source": [
    "# 8. EDA on license\n",
    "<b>Description</b> : Indicates if the host is an authorised host        "
   ]
  },
  {
   "cell_type": "code",
   "execution_count": 2497,
   "metadata": {},
   "outputs": [
    {
     "data": {
      "text/html": [
       "<div>\n",
       "<style scoped>\n",
       "    .dataframe tbody tr th:only-of-type {\n",
       "        vertical-align: middle;\n",
       "    }\n",
       "\n",
       "    .dataframe tbody tr th {\n",
       "        vertical-align: top;\n",
       "    }\n",
       "\n",
       "    .dataframe thead th {\n",
       "        text-align: right;\n",
       "    }\n",
       "</style>\n",
       "<table border=\"1\" class=\"dataframe\">\n",
       "  <thead>\n",
       "    <tr style=\"text-align: right;\">\n",
       "      <th></th>\n",
       "      <th>license</th>\n",
       "    </tr>\n",
       "  </thead>\n",
       "  <tbody>\n",
       "    <tr>\n",
       "      <th>0</th>\n",
       "      <td>Authorised Serviced Apartment</td>\n",
       "    </tr>\n",
       "    <tr>\n",
       "      <th>1</th>\n",
       "      <td>Authorised Serviced Apartment</td>\n",
       "    </tr>\n",
       "    <tr>\n",
       "      <th>2</th>\n",
       "      <td>Authorised Serviced Apartment</td>\n",
       "    </tr>\n",
       "    <tr>\n",
       "      <th>3</th>\n",
       "      <td>Authorised Serviced Apartment</td>\n",
       "    </tr>\n",
       "    <tr>\n",
       "      <th>4</th>\n",
       "      <td>Authorised Serviced Apartment</td>\n",
       "    </tr>\n",
       "    <tr>\n",
       "      <th>...</th>\n",
       "      <td>...</td>\n",
       "    </tr>\n",
       "    <tr>\n",
       "      <th>3030</th>\n",
       "      <td>NaN</td>\n",
       "    </tr>\n",
       "    <tr>\n",
       "      <th>3031</th>\n",
       "      <td>NaN</td>\n",
       "    </tr>\n",
       "    <tr>\n",
       "      <th>3032</th>\n",
       "      <td>NaN</td>\n",
       "    </tr>\n",
       "    <tr>\n",
       "      <th>3033</th>\n",
       "      <td>NaN</td>\n",
       "    </tr>\n",
       "    <tr>\n",
       "      <th>3034</th>\n",
       "      <td>NaN</td>\n",
       "    </tr>\n",
       "  </tbody>\n",
       "</table>\n",
       "<p>3035 rows × 1 columns</p>\n",
       "</div>"
      ],
      "text/plain": [
       "                            license\n",
       "0     Authorised Serviced Apartment\n",
       "1     Authorised Serviced Apartment\n",
       "2     Authorised Serviced Apartment\n",
       "3     Authorised Serviced Apartment\n",
       "4     Authorised Serviced Apartment\n",
       "...                             ...\n",
       "3030                            NaN\n",
       "3031                            NaN\n",
       "3032                            NaN\n",
       "3033                            NaN\n",
       "3034                            NaN\n",
       "\n",
       "[3035 rows x 1 columns]"
      ]
     },
     "execution_count": 2497,
     "metadata": {},
     "output_type": "execute_result"
    }
   ],
   "source": [
    "licenseDF = pd.DataFrame(airDF['license'])\n",
    "licenseDF"
   ]
  },
  {
   "cell_type": "code",
   "execution_count": 2498,
   "metadata": {},
   "outputs": [
    {
     "name": "stdout",
     "output_type": "stream",
     "text": [
      "<class 'pandas.core.frame.DataFrame'>\n",
      "RangeIndex: 3035 entries, 0 to 3034\n",
      "Data columns (total 1 columns):\n",
      " #   Column   Non-Null Count  Dtype \n",
      "---  ------   --------------  ----- \n",
      " 0   license  969 non-null    object\n",
      "dtypes: object(1)\n",
      "memory usage: 23.8+ KB\n"
     ]
    }
   ],
   "source": [
    "licenseDF.info()"
   ]
  },
  {
   "cell_type": "code",
   "execution_count": 2499,
   "metadata": {},
   "outputs": [
    {
     "data": {
      "text/html": [
       "<div>\n",
       "<style scoped>\n",
       "    .dataframe tbody tr th:only-of-type {\n",
       "        vertical-align: middle;\n",
       "    }\n",
       "\n",
       "    .dataframe tbody tr th {\n",
       "        vertical-align: top;\n",
       "    }\n",
       "\n",
       "    .dataframe thead th {\n",
       "        text-align: right;\n",
       "    }\n",
       "</style>\n",
       "<table border=\"1\" class=\"dataframe\">\n",
       "  <thead>\n",
       "    <tr style=\"text-align: right;\">\n",
       "      <th></th>\n",
       "      <th>license</th>\n",
       "    </tr>\n",
       "  </thead>\n",
       "  <tbody>\n",
       "    <tr>\n",
       "      <th>count</th>\n",
       "      <td>969</td>\n",
       "    </tr>\n",
       "    <tr>\n",
       "      <th>unique</th>\n",
       "      <td>109</td>\n",
       "    </tr>\n",
       "    <tr>\n",
       "      <th>top</th>\n",
       "      <td>Authorised Serviced Apartment</td>\n",
       "    </tr>\n",
       "    <tr>\n",
       "      <th>freq</th>\n",
       "      <td>506</td>\n",
       "    </tr>\n",
       "  </tbody>\n",
       "</table>\n",
       "</div>"
      ],
      "text/plain": [
       "                              license\n",
       "count                             969\n",
       "unique                            109\n",
       "top     Authorised Serviced Apartment\n",
       "freq                              506"
      ]
     },
     "execution_count": 2499,
     "metadata": {},
     "output_type": "execute_result"
    }
   ],
   "source": [
    "licenseDF.describe()"
   ]
  },
  {
   "cell_type": "code",
   "execution_count": 2500,
   "metadata": {},
   "outputs": [
    {
     "data": {
      "text/plain": [
       "license                      \n",
       "Authorised Serviced Apartment    506\n",
       "S0399                             61\n",
       "S0451                             16\n",
       "S0452                             16\n",
       "S7292                             15\n",
       "                                ... \n",
       "S2011                              1\n",
       "S0279                              1\n",
       "M6723                              1\n",
       "M7777                              1\n",
       "S0002                              1\n",
       "Length: 109, dtype: int64"
      ]
     },
     "execution_count": 2500,
     "metadata": {},
     "output_type": "execute_result"
    }
   ],
   "source": [
    "licenseDF.value_counts()"
   ]
  },
  {
   "cell_type": "code",
   "execution_count": 2501,
   "metadata": {},
   "outputs": [],
   "source": [
    "#create Boolean DataFrame of Nan values\n",
    "known_cols = licenseDF[licenseDF.notna().all(axis = 1)]\n",
    "nan_cols = licenseDF[licenseDF.isna().all(axis = 1)]"
   ]
  },
  {
   "cell_type": "code",
   "execution_count": 2502,
   "metadata": {},
   "outputs": [
    {
     "data": {
      "image/png": "[encoded data removed]",
      "text/plain": [
       "<Figure size 2000x1000 with 1 Axes>"
      ]
     },
     "metadata": {},
     "output_type": "display_data"
    }
   ],
   "source": [
    "#create a boolean DataFrame of nan values\n",
    "groupedLicenseDF = licenseDF.isna()\n",
    "\n",
    "f= plt.figure(figsize = (20, 10))\n",
    "groupedLicenseDF.value_counts().plot(kind='bar')\n",
    "\n",
    "plt.xticks(rotation =0, ha = \"center\")\n",
    "plt.ylabel(\"count\")\n",
    "plt.show()"
   ]
  },
  {
   "cell_type": "code",
   "execution_count": 2503,
   "metadata": {},
   "outputs": [
    {
     "name": "stdout",
     "output_type": "stream",
     "text": [
      "Total number of listings\t: 3035\n",
      "Hosts with a License\t\t: 969\n",
      "Hosts without a License\t\t: 2066\n",
      " \n",
      "31.93% of the hosts have a license\n",
      "68.07% of the hosts do not have a license\n"
     ]
    }
   ],
   "source": [
    "\n",
    "print(\"Total number of listings\\t:\",len(airDF))\n",
    "print(\"Hosts with a License\\t\\t:\", len(known_cols))\n",
    "print(\"Hosts without a License\\t\\t:\", len(nan_cols))\n",
    "print(\" \")\n",
    "print(\"{:.2%} of the hosts have a license\".format(len(known_cols)/len(airDF)))\n",
    "print(\"{:.2%} of the hosts do not have a license\".format(len(nan_cols)/len(airDF)))"
   ]
  },
  {
   "attachments": {},
   "cell_type": "markdown",
   "metadata": {},
   "source": [
    "INSIGHT : Looking at the frequency plot, we can see that 31.93% of the hosts have a license and 68.07% do not have license, however note that hosts who are renting out their own properties do not need a license as long as it hits the minimum stay of 3months for private properties and 6 months for public housing. Hence, it is not surprising to see that majority of the hosts operate without a license."
   ]
  },
  {
   "attachments": {},
   "cell_type": "markdown",
   "metadata": {},
   "source": [
    "---"
   ]
  },
  {
   "attachments": {},
   "cell_type": "markdown",
   "metadata": {},
   "source": [
    "# 9. EDA on instant_bookable\n",
    "<b>Description</b> : A binary variable indicating if the listing is instantly bookable   "
   ]
  },
  {
   "cell_type": "code",
   "execution_count": 2504,
   "metadata": {},
   "outputs": [
    {
     "data": {
      "text/html": [
       "<div>\n",
       "<style scoped>\n",
       "    .dataframe tbody tr th:only-of-type {\n",
       "        vertical-align: middle;\n",
       "    }\n",
       "\n",
       "    .dataframe tbody tr th {\n",
       "        vertical-align: top;\n",
       "    }\n",
       "\n",
       "    .dataframe thead th {\n",
       "        text-align: right;\n",
       "    }\n",
       "</style>\n",
       "<table border=\"1\" class=\"dataframe\">\n",
       "  <thead>\n",
       "    <tr style=\"text-align: right;\">\n",
       "      <th></th>\n",
       "      <th>instant_bookable</th>\n",
       "    </tr>\n",
       "  </thead>\n",
       "  <tbody>\n",
       "    <tr>\n",
       "      <th>0</th>\n",
       "      <td>f</td>\n",
       "    </tr>\n",
       "    <tr>\n",
       "      <th>1</th>\n",
       "      <td>f</td>\n",
       "    </tr>\n",
       "    <tr>\n",
       "      <th>2</th>\n",
       "      <td>f</td>\n",
       "    </tr>\n",
       "    <tr>\n",
       "      <th>3</th>\n",
       "      <td>t</td>\n",
       "    </tr>\n",
       "    <tr>\n",
       "      <th>4</th>\n",
       "      <td>f</td>\n",
       "    </tr>\n",
       "    <tr>\n",
       "      <th>...</th>\n",
       "      <td>...</td>\n",
       "    </tr>\n",
       "    <tr>\n",
       "      <th>3030</th>\n",
       "      <td>f</td>\n",
       "    </tr>\n",
       "    <tr>\n",
       "      <th>3031</th>\n",
       "      <td>t</td>\n",
       "    </tr>\n",
       "    <tr>\n",
       "      <th>3032</th>\n",
       "      <td>t</td>\n",
       "    </tr>\n",
       "    <tr>\n",
       "      <th>3033</th>\n",
       "      <td>t</td>\n",
       "    </tr>\n",
       "    <tr>\n",
       "      <th>3034</th>\n",
       "      <td>f</td>\n",
       "    </tr>\n",
       "  </tbody>\n",
       "</table>\n",
       "<p>3035 rows × 1 columns</p>\n",
       "</div>"
      ],
      "text/plain": [
       "     instant_bookable\n",
       "0                   f\n",
       "1                   f\n",
       "2                   f\n",
       "3                   t\n",
       "4                   f\n",
       "...               ...\n",
       "3030                f\n",
       "3031                t\n",
       "3032                t\n",
       "3033                t\n",
       "3034                f\n",
       "\n",
       "[3035 rows x 1 columns]"
      ]
     },
     "execution_count": 2504,
     "metadata": {},
     "output_type": "execute_result"
    }
   ],
   "source": [
    "instantbookDF = pd.DataFrame(airDF['instant_bookable'])\n",
    "instantbookDF"
   ]
  },
  {
   "cell_type": "code",
   "execution_count": 2505,
   "metadata": {},
   "outputs": [
    {
     "name": "stdout",
     "output_type": "stream",
     "text": [
      "<class 'pandas.core.frame.DataFrame'>\n",
      "RangeIndex: 3035 entries, 0 to 3034\n",
      "Data columns (total 1 columns):\n",
      " #   Column            Non-Null Count  Dtype \n",
      "---  ------            --------------  ----- \n",
      " 0   instant_bookable  3035 non-null   object\n",
      "dtypes: object(1)\n",
      "memory usage: 23.8+ KB\n"
     ]
    }
   ],
   "source": [
    "instantbookDF.info()"
   ]
  },
  {
   "cell_type": "code",
   "execution_count": 2506,
   "metadata": {},
   "outputs": [
    {
     "data": {
      "text/plain": [
       "instant_bookable\n",
       "f                   1908\n",
       "t                   1127\n",
       "dtype: int64"
      ]
     },
     "execution_count": 2506,
     "metadata": {},
     "output_type": "execute_result"
    }
   ],
   "source": [
    "instantbookDF.value_counts()"
   ]
  },
  {
   "cell_type": "code",
   "execution_count": 2507,
   "metadata": {},
   "outputs": [
    {
     "data": {
      "image/png": "[encoded data removed]",
      "text/plain": [
       "<Figure size 1500x500 with 1 Axes>"
      ]
     },
     "metadata": {},
     "output_type": "display_data"
    }
   ],
   "source": [
    "f= plt.figure(figsize = (15, 5))\n",
    "instantbookDF.value_counts().plot(kind='bar')\n",
    "plt.xticks(ha = \"center\")\n",
    "plt.show()"
   ]
  },
  {
   "attachments": {},
   "cell_type": "markdown",
   "metadata": {},
   "source": [
    "INSIGHT : The frequency plot suggests that majority of hosts did not enable the instant bookable feature on airbnb - with a count of 1908 that chose not to enable this feature and 1127 of them chose to enable it."
   ]
  },
  {
   "attachments": {},
   "cell_type": "markdown",
   "metadata": {},
   "source": [
    "---"
   ]
  },
  {
   "attachments": {},
   "cell_type": "markdown",
   "metadata": {},
   "source": [
    "## INSIGHT CONCLUSION: "
   ]
  },
  {
   "attachments": {},
   "cell_type": "markdown",
   "metadata": {},
   "source": [
    "Majority of the variables in the dataset are skewed to the right suggests that there many be some significant differences between the upper and lower values. Most of the data points are concentrated on the upper end of the range, with a few outliers that extend to the lower tail of the distribution. In conclusion, we can assume that with a higher reviews rating or score can potentially help us to attract more guests and ultimately maximizing our profit as an Airbnb Host. However, it is important to note that it is not the only factor / key factor that influences booking rates and profitability."
   ]
  },
  {
   "cell_type": "code",
   "execution_count": null,
   "metadata": {},
   "outputs": [],
   "source": []
  }
 ],
 "metadata": {
  "kernelspec": {
   "display_name": "base",
   "language": "python",
   "name": "python3"
  },
  "language_info": {
   "codemirror_mode": {
    "name": "ipython",
    "version": 3
   },
   "file_extension": ".py",
   "mimetype": "text/x-python",
   "name": "python",
   "nbconvert_exporter": "python",
   "pygments_lexer": "ipython3",
   "version": "3.9.13"
  },
  "orig_nbformat": 4,
  "vscode": {
   "interpreter": {
    "hash": "940f12be6d1e3c772de5e10a7b94e682f51674366be4bae6e0d292c730fd019e"
   }
  }
 },
 "nbformat": 4,
 "nbformat_minor": 2
}
