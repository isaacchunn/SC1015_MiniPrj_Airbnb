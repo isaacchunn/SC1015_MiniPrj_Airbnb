{
 "cells": [
  {
   "cell_type": "markdown",
   "metadata": {},
   "source": [
    "## Dataset : Airbnb Singapore Dataset from InsideAirbnb\n",
    "Dataset from Airbnb : **\"Singapore, 29 December 2022\"**  \n",
    "Source: http://insideairbnb.com/get-the-data/\n",
    "\n",
    "### EDA on Last 25 Variables in dataset  \n",
    "The purpose of this file is to conduct exploratory data analysis on the last 25 variables in our dataset.  \n",
    "### Done by: <b>Teck Meng</b>\n",
    "\n",
    "---\n",
    "\n",
    "### Essential Libraries\n",
    "\n",
    "Import essential libraries such as numpy, pandas, matplotlib and seaborn.\n",
    "\n",
    "> NumPy : Library for Numeric Computations in Python  \n",
    "> Pandas : Library for Data Acquisition and Preparation  \n",
    "> Matplotlib : Low-level library for Data Visualization  \n",
    "> Seaborn : Higher-level library for Data Visualization  "
   ]
  },
  {
   "cell_type": "code",
   "execution_count": 142,
   "metadata": {},
   "outputs": [],
   "source": [
    "import numpy as np\n",
    "import pandas as pd \n",
    "import seaborn as sb \n",
    "import matplotlib.pyplot as plt \n",
    "sb.set()"
   ]
  },
  {
   "cell_type": "markdown",
   "metadata": {},
   "source": [
    "### Additional Libraries\n",
    "\n",
    "Import additional libraries\n",
    "\n",
    "> Wordcloud : Library to create tag clouds in Python  "
   ]
  },
  {
   "cell_type": "code",
   "execution_count": 143,
   "metadata": {},
   "outputs": [],
   "source": [
    "from wordcloud import WordCloud"
   ]
  },
  {
   "cell_type": "markdown",
   "metadata": {},
   "source": [
    "---\n"
   ]
  },
  {
   "cell_type": "markdown",
   "metadata": {},
   "source": [
    "# Features Description"
   ]
  },
  {
   "cell_type": "markdown",
   "metadata": {},
   "source": [
    "This dataset contains 75 features about Airbnb listings within Singapore. This notebook encompasses the cleaning & exploration <br>data analysis (EDA) of the middle 25 features.\n",
    "Below are the features with their respective descriptions</br>"
   ]
  },
  {
   "attachments": {},
   "cell_type": "markdown",
   "metadata": {},
   "source": [
    "This is the analysis on the last 25 columns of data about Airbnb listings which. The columns and its description are as follows:\n",
    "\n",
    "49. **has_availability** : binary value indicating if this listing has availability\n",
    "50. **availability_30** : number of days the listing is available for booking in the last 30 days                            \n",
    "51. **availability_60** : number of days the listing is available for booking in the last 60 days                           \n",
    "52. **availability_90** : number of days the listing is available for booking in the last 90 days                            \n",
    "53. **availability_365** : number of days the listing is available for booking in the last 365 days                            \n",
    "54. **calendar_last_scraped** : the date in which the data for each listing is scraped                       \n",
    "55. **number_of_reviews** : total number of reviews for each Airbnb listing                             \n",
    "56. **number_of_reviews_ltm** : total number of reviews for each Airbnb listing in the last 12 months                        \n",
    "57. **number_of_reviews_l30d** : total number of reviews for each Airbnb listing in the last 30 days                       \n",
    "58. **first_review** : date of 1st review received for each Airbnb listing                                 \n",
    "59. **last_review** : date of last review received for each Airbnb listing                                 \n",
    "60. **review_scores_rating** : the average score from 0 to 5 that rates the Airbnb listing's total score                       \n",
    "61. **review_scores_accuracy** : the average score from 0 to 5 that rates how accurate the Airbnb listing online is to the actual place                        \n",
    "62. **review_scores_cleanliness** : the average score from 0 to 5 that rates the Airbnb listing's overall cleanliness                      \n",
    "63. **review_scores_checkin** : the average score from 0 to 5 that rates the Airbnb listing's ease of checking in                          \n",
    "64. **review_scores_communication **: the average score from 0 to 5 that rates the Airbnb listing's host's availability to the guest during the guest's stay                    \n",
    "65. **review_scores_location** : the average score from 0 to 5 that rates how ideal an Airbnb listing's location is to the guest                        \n",
    "66. **review_scores_value** : the average score from 0 to 5 that rates whether an Airbnb listing's quality matches the price of the listing                           \n",
    "67. **license**: indicates if the host is an authorised host                                       \n",
    "68. **instant_bookable** : a binary variable indicating if the listing is instantly bookable                              \n",
    "69. **calculated_host_listings_count** : number of listings the host has                \n",
    "70. **calculated_host_listings_count_entire_homes**: number of listings the host has that are entire homes   \n",
    "71. **calculated_host_listings_count_private_rooms** : number of listings the host has that are private rooms  \n",
    "72. **calculated_host_listings_count_shared_rooms** : number of listings the host has that are shared rooms\n",
    "73. **reviews_per_month**: average number of reviews received for each airbnb listing per month                             \n"
   ]
  },
  {
   "cell_type": "markdown",
   "metadata": {},
   "source": [
    "---"
   ]
  },
  {
   "attachments": {},
   "cell_type": "markdown",
   "metadata": {},
   "source": [
    "# Visual data cleaning\n",
    "\n",
    "##### In the context of maximizing host profit, the following features can be dropped from the dataset as they provide no relevant insights for our predictions.\n",
    "\n",
    "1. **has_availability**\n",
    "2. **availability_30**\n",
    "3. **availability_60**\n",
    "4. **availability_90**\n",
    "5. **availability_365**\n",
    "6. **calendar_last_scraped**\n",
    "7. **number_of_reviews_ltm**\n",
    "8. **number_of_reviews_130d**\n",
    "9. **first_review**\n",
    "10. **last_review**\n",
    "11. **calculated_host_listings_count**\n",
    "12. **calculated_host_listings_count_entire_homes**\n",
    "13. **calculated_host_listings_count_private_rooms**\n",
    "14. **calculated_host_listings_count_shared_rooms**\n",
    "15. **reviews_per_month**\n",
    "\n"
   ]
  },
  {
   "cell_type": "markdown",
   "metadata": {},
   "source": [
    "---"
   ]
  },
  {
   "attachments": {},
   "cell_type": "markdown",
   "metadata": {},
   "source": [
    "### Below are features that we think might be informative for analyzing factors that impact host profit, so we shall conduct our EDA on them and gather insights:\n",
    "\n",
    "1. **review_scores_rating** : The rating could be an important factor that influences whether a guest would choose a listing.\n",
    "\n",
    "2. **review_scores_accuracy** : Similar to reviews_score_rating, this might be another significant metric that the guest look at to decide on whether to choose the listing or not.\n",
    "\n",
    "3. **review_scores_cleanliness** : Similar to reviews_score_rating, this might be another significant metric that the guest look at to decide on whether to choose the listing or not.\n",
    "\n",
    "4. **review_scores_checkin** : Similar to reviews_score_rating, this might be another significant metric that the guest look at to decide on whether to choose the listing or not.\n",
    "\n",
    "5. **review_scores_communication** : Similar to reviews_score_rating, this might be another significant metric that the guest look at to decide on whether to choose the listing or not.\n",
    "\n",
    "6. **review_scores_location** : Similar to reviews_score_rating, this might be another significant metric that the guest look at to decide on whether to choose the listing or not.\n",
    "\n",
    "7. **review_scores_value** : Similar to reviews_score_rating, this might be another significant metric that the guest look at to decide on whether to choose the listing or not.\n",
    "\n",
    "8. **license** : Whether a host is licensed or not might impact how trustworthy a listing seem to the guest.\n",
    "\n",
    "9. **instant_bookable** : Whether a place is instantly bookable or not might affect the profits.\n",
    "\n",
    "10. **number_of_reviews** : This might be an indicator of how popular a listing is and whether it affects profits"
   ]
  },
  {
   "cell_type": "code",
   "execution_count": 144,
   "metadata": {},
   "outputs": [],
   "source": [
    "def remove_outliers(df, columns, factor=1.5):\n",
    "    # loop through each column and remove outliers based on the IQR method\n",
    "    for col in columns:\n",
    "        q1 = df[col].quantile(0.25)\n",
    "        q3 = df[col].quantile(0.75)\n",
    "        iqr = q3 - q1\n",
    "        upper_bound = q3 + factor * iqr\n",
    "        lower_bound = q1 - factor * iqr\n",
    "        df = df[(df[col] >= lower_bound) & (df[col] <= upper_bound)]\n",
    "    \n",
    "    return df"
   ]
  },
  {
   "cell_type": "code",
   "execution_count": 145,
   "metadata": {},
   "outputs": [],
   "source": [
    "def countOutliers (df):\n",
    "    #Get the q1 and q3 datas to find out the 25% and 75% range, then calculate inter quartile range and then find out whiskers.\n",
    "    #Then count how many points lie outside of this range.\n",
    "    q1 = df.quantile(0.25)\n",
    "    q3 = df.quantile(0.75)\n",
    "    #Interquartile\n",
    "    iqr = q3 - q1\n",
    "    #Calculate whiskers\n",
    "    leftWhisker = q1 - (1.5 * iqr)\n",
    "    rightWhisker = q3 + (1.5 * iqr)\n",
    "    outliers = 0;\n",
    "    #Loop through data now\n",
    "    for data in df:\n",
    "        if(data < leftWhisker or data > rightWhisker):\n",
    "            outliers+=1\n",
    "\n",
    "    return outliers"
   ]
  },
  {
   "cell_type": "markdown",
   "metadata": {},
   "source": [
    "---\n",
    "\n",
    ">## Import the Dataset"
   ]
  },
  {
   "cell_type": "code",
   "execution_count": 146,
   "metadata": {},
   "outputs": [
    {
     "data": {
      "text/html": [
       "<div>\n",
       "<style scoped>\n",
       "    .dataframe tbody tr th:only-of-type {\n",
       "        vertical-align: middle;\n",
       "    }\n",
       "\n",
       "    .dataframe tbody tr th {\n",
       "        vertical-align: top;\n",
       "    }\n",
       "\n",
       "    .dataframe thead th {\n",
       "        text-align: right;\n",
       "    }\n",
       "</style>\n",
       "<table border=\"1\" class=\"dataframe\">\n",
       "  <thead>\n",
       "    <tr style=\"text-align: right;\">\n",
       "      <th></th>\n",
       "      <th>id</th>\n",
       "      <th>listing_url</th>\n",
       "      <th>scrape_id</th>\n",
       "      <th>last_scraped</th>\n",
       "      <th>source</th>\n",
       "      <th>name</th>\n",
       "      <th>description</th>\n",
       "      <th>neighborhood_overview</th>\n",
       "      <th>picture_url</th>\n",
       "      <th>host_id</th>\n",
       "      <th>...</th>\n",
       "      <th>review_scores_communication</th>\n",
       "      <th>review_scores_location</th>\n",
       "      <th>review_scores_value</th>\n",
       "      <th>license</th>\n",
       "      <th>instant_bookable</th>\n",
       "      <th>calculated_host_listings_count</th>\n",
       "      <th>calculated_host_listings_count_entire_homes</th>\n",
       "      <th>calculated_host_listings_count_private_rooms</th>\n",
       "      <th>calculated_host_listings_count_shared_rooms</th>\n",
       "      <th>reviews_per_month</th>\n",
       "    </tr>\n",
       "  </thead>\n",
       "  <tbody>\n",
       "    <tr>\n",
       "      <th>0</th>\n",
       "      <td>71609.0</td>\n",
       "      <td>https://www.airbnb.com/rooms/71609</td>\n",
       "      <td>2.022120e+13</td>\n",
       "      <td>12/29/2022</td>\n",
       "      <td>city scrape</td>\n",
       "      <td>Ensuite Room (Room 1 &amp; 2) near EXPO</td>\n",
       "      <td>For 3 rooms.Book room 1&amp;2 and room 4&lt;br /&gt;&lt;br ...</td>\n",
       "      <td>NaN</td>\n",
       "      <td>https://a0.muscache.com/pictures/24453191/3580...</td>\n",
       "      <td>367042</td>\n",
       "      <td>...</td>\n",
       "      <td>4.78</td>\n",
       "      <td>4.26</td>\n",
       "      <td>4.32</td>\n",
       "      <td>NaN</td>\n",
       "      <td>f</td>\n",
       "      <td>6</td>\n",
       "      <td>0</td>\n",
       "      <td>6</td>\n",
       "      <td>0</td>\n",
       "      <td>0.15</td>\n",
       "    </tr>\n",
       "    <tr>\n",
       "      <th>1</th>\n",
       "      <td>71896.0</td>\n",
       "      <td>https://www.airbnb.com/rooms/71896</td>\n",
       "      <td>2.022120e+13</td>\n",
       "      <td>12/29/2022</td>\n",
       "      <td>city scrape</td>\n",
       "      <td>B&amp;B  Room 1 near Airport &amp; EXPO</td>\n",
       "      <td>&lt;b&gt;The space&lt;/b&gt;&lt;br /&gt;Vocational Stay Deluxe B...</td>\n",
       "      <td>NaN</td>\n",
       "      <td>https://a0.muscache.com/pictures/2440674/ac4f4...</td>\n",
       "      <td>367042</td>\n",
       "      <td>...</td>\n",
       "      <td>4.43</td>\n",
       "      <td>4.17</td>\n",
       "      <td>4.04</td>\n",
       "      <td>NaN</td>\n",
       "      <td>t</td>\n",
       "      <td>6</td>\n",
       "      <td>0</td>\n",
       "      <td>6</td>\n",
       "      <td>0</td>\n",
       "      <td>0.17</td>\n",
       "    </tr>\n",
       "    <tr>\n",
       "      <th>2</th>\n",
       "      <td>71903.0</td>\n",
       "      <td>https://www.airbnb.com/rooms/71903</td>\n",
       "      <td>2.022120e+13</td>\n",
       "      <td>12/29/2022</td>\n",
       "      <td>city scrape</td>\n",
       "      <td>Room 2-near Airport &amp; EXPO</td>\n",
       "      <td>Like your own home, 24hrs access.&lt;br /&gt;&lt;br /&gt;&lt;...</td>\n",
       "      <td>Quiet and view of the playground with exercise...</td>\n",
       "      <td>https://a0.muscache.com/pictures/568743/7bc623...</td>\n",
       "      <td>367042</td>\n",
       "      <td>...</td>\n",
       "      <td>4.64</td>\n",
       "      <td>4.50</td>\n",
       "      <td>4.36</td>\n",
       "      <td>NaN</td>\n",
       "      <td>f</td>\n",
       "      <td>6</td>\n",
       "      <td>0</td>\n",
       "      <td>6</td>\n",
       "      <td>0</td>\n",
       "      <td>0.33</td>\n",
       "    </tr>\n",
       "    <tr>\n",
       "      <th>3</th>\n",
       "      <td>275343.0</td>\n",
       "      <td>https://www.airbnb.com/rooms/275343</td>\n",
       "      <td>2.022120e+13</td>\n",
       "      <td>12/29/2022</td>\n",
       "      <td>city scrape</td>\n",
       "      <td>Amazing Room with window 10min to Redhill</td>\n",
       "      <td>Awesome location and host &lt;br /&gt;Room near INSE...</td>\n",
       "      <td>NaN</td>\n",
       "      <td>https://a0.muscache.com/pictures/miso/Hosting-...</td>\n",
       "      <td>1439258</td>\n",
       "      <td>...</td>\n",
       "      <td>4.42</td>\n",
       "      <td>4.53</td>\n",
       "      <td>4.63</td>\n",
       "      <td>S0399</td>\n",
       "      <td>f</td>\n",
       "      <td>46</td>\n",
       "      <td>2</td>\n",
       "      <td>44</td>\n",
       "      <td>0</td>\n",
       "      <td>0.19</td>\n",
       "    </tr>\n",
       "    <tr>\n",
       "      <th>4</th>\n",
       "      <td>275344.0</td>\n",
       "      <td>https://www.airbnb.com/rooms/275344</td>\n",
       "      <td>2.022120e+13</td>\n",
       "      <td>12/29/2022</td>\n",
       "      <td>city scrape</td>\n",
       "      <td>15 mins to Outram MRT Single Room</td>\n",
       "      <td>Lovely home for the special guest !&lt;br /&gt;&lt;br /...</td>\n",
       "      <td>Bus stop &lt;br /&gt;Food center &lt;br /&gt;Supermarket</td>\n",
       "      <td>https://a0.muscache.com/pictures/miso/Hosting-...</td>\n",
       "      <td>1439258</td>\n",
       "      <td>...</td>\n",
       "      <td>4.54</td>\n",
       "      <td>4.62</td>\n",
       "      <td>4.46</td>\n",
       "      <td>S0399</td>\n",
       "      <td>f</td>\n",
       "      <td>46</td>\n",
       "      <td>2</td>\n",
       "      <td>44</td>\n",
       "      <td>0</td>\n",
       "      <td>0.11</td>\n",
       "    </tr>\n",
       "  </tbody>\n",
       "</table>\n",
       "<p>5 rows × 75 columns</p>\n",
       "</div>"
      ],
      "text/plain": [
       "         id                          listing_url     scrape_id last_scraped  \\\n",
       "0   71609.0   https://www.airbnb.com/rooms/71609  2.022120e+13   12/29/2022   \n",
       "1   71896.0   https://www.airbnb.com/rooms/71896  2.022120e+13   12/29/2022   \n",
       "2   71903.0   https://www.airbnb.com/rooms/71903  2.022120e+13   12/29/2022   \n",
       "3  275343.0  https://www.airbnb.com/rooms/275343  2.022120e+13   12/29/2022   \n",
       "4  275344.0  https://www.airbnb.com/rooms/275344  2.022120e+13   12/29/2022   \n",
       "\n",
       "        source                                       name  \\\n",
       "0  city scrape        Ensuite Room (Room 1 & 2) near EXPO   \n",
       "1  city scrape            B&B  Room 1 near Airport & EXPO   \n",
       "2  city scrape                 Room 2-near Airport & EXPO   \n",
       "3  city scrape  Amazing Room with window 10min to Redhill   \n",
       "4  city scrape          15 mins to Outram MRT Single Room   \n",
       "\n",
       "                                         description  \\\n",
       "0  For 3 rooms.Book room 1&2 and room 4<br /><br ...   \n",
       "1  <b>The space</b><br />Vocational Stay Deluxe B...   \n",
       "2  Like your own home, 24hrs access.<br /><br /><...   \n",
       "3  Awesome location and host <br />Room near INSE...   \n",
       "4  Lovely home for the special guest !<br /><br /...   \n",
       "\n",
       "                               neighborhood_overview  \\\n",
       "0                                                NaN   \n",
       "1                                                NaN   \n",
       "2  Quiet and view of the playground with exercise...   \n",
       "3                                                NaN   \n",
       "4       Bus stop <br />Food center <br />Supermarket   \n",
       "\n",
       "                                         picture_url  host_id  ...  \\\n",
       "0  https://a0.muscache.com/pictures/24453191/3580...   367042  ...   \n",
       "1  https://a0.muscache.com/pictures/2440674/ac4f4...   367042  ...   \n",
       "2  https://a0.muscache.com/pictures/568743/7bc623...   367042  ...   \n",
       "3  https://a0.muscache.com/pictures/miso/Hosting-...  1439258  ...   \n",
       "4  https://a0.muscache.com/pictures/miso/Hosting-...  1439258  ...   \n",
       "\n",
       "  review_scores_communication review_scores_location review_scores_value  \\\n",
       "0                        4.78                   4.26                4.32   \n",
       "1                        4.43                   4.17                4.04   \n",
       "2                        4.64                   4.50                4.36   \n",
       "3                        4.42                   4.53                4.63   \n",
       "4                        4.54                   4.62                4.46   \n",
       "\n",
       "  license instant_bookable calculated_host_listings_count  \\\n",
       "0     NaN                f                              6   \n",
       "1     NaN                t                              6   \n",
       "2     NaN                f                              6   \n",
       "3   S0399                f                             46   \n",
       "4   S0399                f                             46   \n",
       "\n",
       "  calculated_host_listings_count_entire_homes  \\\n",
       "0                                           0   \n",
       "1                                           0   \n",
       "2                                           0   \n",
       "3                                           2   \n",
       "4                                           2   \n",
       "\n",
       "  calculated_host_listings_count_private_rooms  \\\n",
       "0                                            6   \n",
       "1                                            6   \n",
       "2                                            6   \n",
       "3                                           44   \n",
       "4                                           44   \n",
       "\n",
       "  calculated_host_listings_count_shared_rooms reviews_per_month  \n",
       "0                                           0              0.15  \n",
       "1                                           0              0.17  \n",
       "2                                           0              0.33  \n",
       "3                                           0              0.19  \n",
       "4                                           0              0.11  \n",
       "\n",
       "[5 rows x 75 columns]"
      ]
     },
     "execution_count": 146,
     "metadata": {},
     "output_type": "execute_result"
    }
   ],
   "source": [
    "airDF = pd.read_csv(\"listings.csv\")\n",
    "airDF.head()"
   ]
  },
  {
   "cell_type": "code",
   "execution_count": 147,
   "metadata": {},
   "outputs": [
    {
     "name": "stdout",
     "output_type": "stream",
     "text": [
      "<class 'pandas.core.frame.DataFrame'>\n",
      "RangeIndex: 3035 entries, 0 to 3034\n",
      "Data columns (total 75 columns):\n",
      " #   Column                                        Non-Null Count  Dtype  \n",
      "---  ------                                        --------------  -----  \n",
      " 0   id                                            3035 non-null   float64\n",
      " 1   listing_url                                   3035 non-null   object \n",
      " 2   scrape_id                                     3035 non-null   float64\n",
      " 3   last_scraped                                  3035 non-null   object \n",
      " 4   source                                        3035 non-null   object \n",
      " 5   name                                          3035 non-null   object \n",
      " 6   description                                   2985 non-null   object \n",
      " 7   neighborhood_overview                         1973 non-null   object \n",
      " 8   picture_url                                   3035 non-null   object \n",
      " 9   host_id                                       3035 non-null   int64  \n",
      " 10  host_url                                      3035 non-null   object \n",
      " 11  host_name                                     3035 non-null   object \n",
      " 12  host_since                                    3035 non-null   object \n",
      " 13  host_location                                 2035 non-null   object \n",
      " 14  host_about                                    2171 non-null   object \n",
      " 15  host_response_time                            2418 non-null   object \n",
      " 16  host_response_rate                            2418 non-null   object \n",
      " 17  host_acceptance_rate                          2297 non-null   object \n",
      " 18  host_is_superhost                             3034 non-null   object \n",
      " 19  host_thumbnail_url                            3035 non-null   object \n",
      " 20  host_picture_url                              3035 non-null   object \n",
      " 21  host_neighbourhood                            2805 non-null   object \n",
      " 22  host_listings_count                           3035 non-null   int64  \n",
      " 23  host_total_listings_count                     3035 non-null   int64  \n",
      " 24  host_verifications                            3035 non-null   object \n",
      " 25  host_has_profile_pic                          3035 non-null   object \n",
      " 26  host_identity_verified                        3035 non-null   object \n",
      " 27  neighbourhood                                 1973 non-null   object \n",
      " 28  neighbourhood_cleansed                        3035 non-null   object \n",
      " 29  neighbourhood_group_cleansed                  3035 non-null   object \n",
      " 30  latitude                                      3035 non-null   float64\n",
      " 31  longitude                                     3035 non-null   float64\n",
      " 32  property_type                                 3035 non-null   object \n",
      " 33  room_type                                     3035 non-null   object \n",
      " 34  accommodates                                  3035 non-null   int64  \n",
      " 35  bathrooms                                     0 non-null      float64\n",
      " 36  bathrooms_text                                3008 non-null   object \n",
      " 37  bedrooms                                      2730 non-null   float64\n",
      " 38  beds                                          2945 non-null   float64\n",
      " 39  amenities                                     3035 non-null   object \n",
      " 40  price                                         3035 non-null   object \n",
      " 41  minimum_nights                                3035 non-null   int64  \n",
      " 42  maximum_nights                                3035 non-null   int64  \n",
      " 43  minimum_minimum_nights                        3034 non-null   float64\n",
      " 44  maximum_minimum_nights                        3034 non-null   float64\n",
      " 45  minimum_maximum_nights                        3034 non-null   float64\n",
      " 46  maximum_maximum_nights                        3034 non-null   float64\n",
      " 47  minimum_nights_avg_ntm                        3034 non-null   float64\n",
      " 48  maximum_nights_avg_ntm                        3034 non-null   float64\n",
      " 49  calendar_updated                              0 non-null      float64\n",
      " 50  has_availability                              3035 non-null   object \n",
      " 51  availability_30                               3035 non-null   int64  \n",
      " 52  availability_60                               3035 non-null   int64  \n",
      " 53  availability_90                               3035 non-null   int64  \n",
      " 54  availability_365                              3035 non-null   int64  \n",
      " 55  calendar_last_scraped                         3035 non-null   object \n",
      " 56  number_of_reviews                             3035 non-null   int64  \n",
      " 57  number_of_reviews_ltm                         3035 non-null   int64  \n",
      " 58  number_of_reviews_l30d                        3035 non-null   int64  \n",
      " 59  first_review                                  1744 non-null   object \n",
      " 60  last_review                                   1744 non-null   object \n",
      " 61  review_scores_rating                          1744 non-null   float64\n",
      " 62  review_scores_accuracy                        1711 non-null   float64\n",
      " 63  review_scores_cleanliness                     1712 non-null   float64\n",
      " 64  review_scores_checkin                         1712 non-null   float64\n",
      " 65  review_scores_communication                   1713 non-null   float64\n",
      " 66  review_scores_location                        1711 non-null   float64\n",
      " 67  review_scores_value                           1711 non-null   float64\n",
      " 68  license                                       969 non-null    object \n",
      " 69  instant_bookable                              3035 non-null   object \n",
      " 70  calculated_host_listings_count                3035 non-null   int64  \n",
      " 71  calculated_host_listings_count_entire_homes   3035 non-null   int64  \n",
      " 72  calculated_host_listings_count_private_rooms  3035 non-null   int64  \n",
      " 73  calculated_host_listings_count_shared_rooms   3035 non-null   int64  \n",
      " 74  reviews_per_month                             1744 non-null   float64\n",
      "dtypes: float64(22), int64(17), object(36)\n",
      "memory usage: 1.7+ MB\n"
     ]
    }
   ],
   "source": [
    "airDF.info()"
   ]
  },
  {
   "cell_type": "code",
   "execution_count": 148,
   "metadata": {},
   "outputs": [
    {
     "name": "stdout",
     "output_type": "stream",
     "text": [
      "id                                              float64\n",
      "listing_url                                      object\n",
      "scrape_id                                       float64\n",
      "last_scraped                                     object\n",
      "source                                           object\n",
      "                                                 ...   \n",
      "calculated_host_listings_count                    int64\n",
      "calculated_host_listings_count_entire_homes       int64\n",
      "calculated_host_listings_count_private_rooms      int64\n",
      "calculated_host_listings_count_shared_rooms       int64\n",
      "reviews_per_month                               float64\n",
      "Length: 75, dtype: object\n"
     ]
    }
   ],
   "source": [
    "print(airDF.dtypes)"
   ]
  },
  {
   "cell_type": "markdown",
   "metadata": {},
   "source": [
    "---\n",
    "## 1. EDA on review_score_rating\n",
    "<b>Description</b>: The average score from 0 to 5 that rates the Airbnb listing's total score \n"
   ]
  },
  {
   "cell_type": "code",
   "execution_count": 149,
   "metadata": {},
   "outputs": [
    {
     "data": {
      "text/html": [
       "<div>\n",
       "<style scoped>\n",
       "    .dataframe tbody tr th:only-of-type {\n",
       "        vertical-align: middle;\n",
       "    }\n",
       "\n",
       "    .dataframe tbody tr th {\n",
       "        vertical-align: top;\n",
       "    }\n",
       "\n",
       "    .dataframe thead th {\n",
       "        text-align: right;\n",
       "    }\n",
       "</style>\n",
       "<table border=\"1\" class=\"dataframe\">\n",
       "  <thead>\n",
       "    <tr style=\"text-align: right;\">\n",
       "      <th></th>\n",
       "      <th>review_scores_rating</th>\n",
       "    </tr>\n",
       "  </thead>\n",
       "  <tbody>\n",
       "    <tr>\n",
       "      <th>0</th>\n",
       "      <td>4.44</td>\n",
       "    </tr>\n",
       "    <tr>\n",
       "      <th>1</th>\n",
       "      <td>4.16</td>\n",
       "    </tr>\n",
       "    <tr>\n",
       "      <th>2</th>\n",
       "      <td>4.41</td>\n",
       "    </tr>\n",
       "    <tr>\n",
       "      <th>3</th>\n",
       "      <td>4.40</td>\n",
       "    </tr>\n",
       "    <tr>\n",
       "      <th>4</th>\n",
       "      <td>4.50</td>\n",
       "    </tr>\n",
       "    <tr>\n",
       "      <th>...</th>\n",
       "      <td>...</td>\n",
       "    </tr>\n",
       "    <tr>\n",
       "      <th>3030</th>\n",
       "      <td>NaN</td>\n",
       "    </tr>\n",
       "    <tr>\n",
       "      <th>3031</th>\n",
       "      <td>NaN</td>\n",
       "    </tr>\n",
       "    <tr>\n",
       "      <th>3032</th>\n",
       "      <td>NaN</td>\n",
       "    </tr>\n",
       "    <tr>\n",
       "      <th>3033</th>\n",
       "      <td>NaN</td>\n",
       "    </tr>\n",
       "    <tr>\n",
       "      <th>3034</th>\n",
       "      <td>NaN</td>\n",
       "    </tr>\n",
       "  </tbody>\n",
       "</table>\n",
       "<p>3035 rows × 1 columns</p>\n",
       "</div>"
      ],
      "text/plain": [
       "      review_scores_rating\n",
       "0                     4.44\n",
       "1                     4.16\n",
       "2                     4.41\n",
       "3                     4.40\n",
       "4                     4.50\n",
       "...                    ...\n",
       "3030                   NaN\n",
       "3031                   NaN\n",
       "3032                   NaN\n",
       "3033                   NaN\n",
       "3034                   NaN\n",
       "\n",
       "[3035 rows x 1 columns]"
      ]
     },
     "execution_count": 149,
     "metadata": {},
     "output_type": "execute_result"
    }
   ],
   "source": [
    "reviewRating = pd.DataFrame(airDF[\"review_scores_rating\"])\n",
    "reviewRating"
   ]
  },
  {
   "cell_type": "code",
   "execution_count": 150,
   "metadata": {},
   "outputs": [
    {
     "data": {
      "text/plain": [
       "review_scores_rating\n",
       "5.00                    592\n",
       "4.00                    159\n",
       "4.50                     94\n",
       "4.67                     50\n",
       "3.00                     45\n",
       "                       ... \n",
       "4.15                      1\n",
       "4.16                      1\n",
       "4.23                      1\n",
       "2.33                      1\n",
       "3.40                      1\n",
       "Length: 112, dtype: int64"
      ]
     },
     "execution_count": 150,
     "metadata": {},
     "output_type": "execute_result"
    }
   ],
   "source": [
    "reviewRating.value_counts()"
   ]
  },
  {
   "cell_type": "code",
   "execution_count": 151,
   "metadata": {},
   "outputs": [
    {
     "data": {
      "text/html": [
       "<div>\n",
       "<style scoped>\n",
       "    .dataframe tbody tr th:only-of-type {\n",
       "        vertical-align: middle;\n",
       "    }\n",
       "\n",
       "    .dataframe tbody tr th {\n",
       "        vertical-align: top;\n",
       "    }\n",
       "\n",
       "    .dataframe thead th {\n",
       "        text-align: right;\n",
       "    }\n",
       "</style>\n",
       "<table border=\"1\" class=\"dataframe\">\n",
       "  <thead>\n",
       "    <tr style=\"text-align: right;\">\n",
       "      <th></th>\n",
       "      <th>review_scores_rating</th>\n",
       "    </tr>\n",
       "  </thead>\n",
       "  <tbody>\n",
       "    <tr>\n",
       "      <th>count</th>\n",
       "      <td>1744.000000</td>\n",
       "    </tr>\n",
       "    <tr>\n",
       "      <th>mean</th>\n",
       "      <td>4.474971</td>\n",
       "    </tr>\n",
       "    <tr>\n",
       "      <th>std</th>\n",
       "      <td>0.844021</td>\n",
       "    </tr>\n",
       "    <tr>\n",
       "      <th>min</th>\n",
       "      <td>0.000000</td>\n",
       "    </tr>\n",
       "    <tr>\n",
       "      <th>25%</th>\n",
       "      <td>4.330000</td>\n",
       "    </tr>\n",
       "    <tr>\n",
       "      <th>50%</th>\n",
       "      <td>4.720000</td>\n",
       "    </tr>\n",
       "    <tr>\n",
       "      <th>75%</th>\n",
       "      <td>5.000000</td>\n",
       "    </tr>\n",
       "    <tr>\n",
       "      <th>max</th>\n",
       "      <td>5.000000</td>\n",
       "    </tr>\n",
       "  </tbody>\n",
       "</table>\n",
       "</div>"
      ],
      "text/plain": [
       "       review_scores_rating\n",
       "count           1744.000000\n",
       "mean               4.474971\n",
       "std                0.844021\n",
       "min                0.000000\n",
       "25%                4.330000\n",
       "50%                4.720000\n",
       "75%                5.000000\n",
       "max                5.000000"
      ]
     },
     "execution_count": 151,
     "metadata": {},
     "output_type": "execute_result"
    }
   ],
   "source": [
    "reviewRating.describe()"
   ]
  },
  {
   "cell_type": "code",
   "execution_count": 152,
   "metadata": {},
   "outputs": [
    {
     "name": "stdout",
     "output_type": "stream",
     "text": [
      "Total Values: 3035, Null Values: 1291\n"
     ]
    },
    {
     "data": {
      "text/html": [
       "<div>\n",
       "<style scoped>\n",
       "    .dataframe tbody tr th:only-of-type {\n",
       "        vertical-align: middle;\n",
       "    }\n",
       "\n",
       "    .dataframe tbody tr th {\n",
       "        vertical-align: top;\n",
       "    }\n",
       "\n",
       "    .dataframe thead th {\n",
       "        text-align: right;\n",
       "    }\n",
       "</style>\n",
       "<table border=\"1\" class=\"dataframe\">\n",
       "  <thead>\n",
       "    <tr style=\"text-align: right;\">\n",
       "      <th></th>\n",
       "      <th>review_scores_rating</th>\n",
       "    </tr>\n",
       "  </thead>\n",
       "  <tbody>\n",
       "    <tr>\n",
       "      <th>0</th>\n",
       "      <td>4.44</td>\n",
       "    </tr>\n",
       "    <tr>\n",
       "      <th>1</th>\n",
       "      <td>4.16</td>\n",
       "    </tr>\n",
       "    <tr>\n",
       "      <th>2</th>\n",
       "      <td>4.41</td>\n",
       "    </tr>\n",
       "    <tr>\n",
       "      <th>3</th>\n",
       "      <td>4.40</td>\n",
       "    </tr>\n",
       "    <tr>\n",
       "      <th>4</th>\n",
       "      <td>4.50</td>\n",
       "    </tr>\n",
       "    <tr>\n",
       "      <th>...</th>\n",
       "      <td>...</td>\n",
       "    </tr>\n",
       "    <tr>\n",
       "      <th>2973</th>\n",
       "      <td>4.00</td>\n",
       "    </tr>\n",
       "    <tr>\n",
       "      <th>2974</th>\n",
       "      <td>5.00</td>\n",
       "    </tr>\n",
       "    <tr>\n",
       "      <th>2976</th>\n",
       "      <td>5.00</td>\n",
       "    </tr>\n",
       "    <tr>\n",
       "      <th>2977</th>\n",
       "      <td>5.00</td>\n",
       "    </tr>\n",
       "    <tr>\n",
       "      <th>2978</th>\n",
       "      <td>1.00</td>\n",
       "    </tr>\n",
       "  </tbody>\n",
       "</table>\n",
       "<p>1744 rows × 1 columns</p>\n",
       "</div>"
      ],
      "text/plain": [
       "      review_scores_rating\n",
       "0                     4.44\n",
       "1                     4.16\n",
       "2                     4.41\n",
       "3                     4.40\n",
       "4                     4.50\n",
       "...                    ...\n",
       "2973                  4.00\n",
       "2974                  5.00\n",
       "2976                  5.00\n",
       "2977                  5.00\n",
       "2978                  1.00\n",
       "\n",
       "[1744 rows x 1 columns]"
      ]
     },
     "execution_count": 152,
     "metadata": {},
     "output_type": "execute_result"
    }
   ],
   "source": [
    "#Find the number of null values as there seems to be alot.\n",
    "print(\"Total Values: {0}, Null Values: {1}\".format(len(reviewRating), reviewRating.isna().sum().sum()))\n",
    "\n",
    "reviewRating = reviewRating.dropna()\n",
    "reviewRating"
   ]
  },
  {
   "cell_type": "code",
   "execution_count": 153,
   "metadata": {},
   "outputs": [
    {
     "data": {
      "text/html": [
       "<div>\n",
       "<style scoped>\n",
       "    .dataframe tbody tr th:only-of-type {\n",
       "        vertical-align: middle;\n",
       "    }\n",
       "\n",
       "    .dataframe tbody tr th {\n",
       "        vertical-align: top;\n",
       "    }\n",
       "\n",
       "    .dataframe thead th {\n",
       "        text-align: right;\n",
       "    }\n",
       "</style>\n",
       "<table border=\"1\" class=\"dataframe\">\n",
       "  <thead>\n",
       "    <tr style=\"text-align: right;\">\n",
       "      <th></th>\n",
       "      <th>review_scores_rating</th>\n",
       "    </tr>\n",
       "  </thead>\n",
       "  <tbody>\n",
       "    <tr>\n",
       "      <th>count</th>\n",
       "      <td>1744.000000</td>\n",
       "    </tr>\n",
       "    <tr>\n",
       "      <th>mean</th>\n",
       "      <td>4.474971</td>\n",
       "    </tr>\n",
       "    <tr>\n",
       "      <th>std</th>\n",
       "      <td>0.844021</td>\n",
       "    </tr>\n",
       "    <tr>\n",
       "      <th>min</th>\n",
       "      <td>0.000000</td>\n",
       "    </tr>\n",
       "    <tr>\n",
       "      <th>25%</th>\n",
       "      <td>4.330000</td>\n",
       "    </tr>\n",
       "    <tr>\n",
       "      <th>50%</th>\n",
       "      <td>4.720000</td>\n",
       "    </tr>\n",
       "    <tr>\n",
       "      <th>75%</th>\n",
       "      <td>5.000000</td>\n",
       "    </tr>\n",
       "    <tr>\n",
       "      <th>max</th>\n",
       "      <td>5.000000</td>\n",
       "    </tr>\n",
       "  </tbody>\n",
       "</table>\n",
       "</div>"
      ],
      "text/plain": [
       "       review_scores_rating\n",
       "count           1744.000000\n",
       "mean               4.474971\n",
       "std                0.844021\n",
       "min                0.000000\n",
       "25%                4.330000\n",
       "50%                4.720000\n",
       "75%                5.000000\n",
       "max                5.000000"
      ]
     },
     "execution_count": 153,
     "metadata": {},
     "output_type": "execute_result"
    }
   ],
   "source": [
    "reviewRating.describe()"
   ]
  },
  {
   "cell_type": "code",
   "execution_count": 154,
   "metadata": {},
   "outputs": [
    {
     "data": {
      "image/png": "[encoded data removed]",
      "text/plain": [
       "<Figure size 1200x600 with 1 Axes>"
      ]
     },
     "metadata": {},
     "output_type": "display_data"
    }
   ],
   "source": [
    "f = plt.figure(figsize=(12,6))\n",
    "sb.boxplot(data = reviewRating, orient = 'h')\n",
    "plt.show()"
   ]
  },
  {
   "attachments": {},
   "cell_type": "markdown",
   "metadata": {},
   "source": [
    " INSIGHT : Generally we can see that most of the airbnb listings that had reviews have a high review scores rating, with a median of 4.72 rating."
   ]
  },
  {
   "cell_type": "markdown",
   "metadata": {},
   "source": [
    "---"
   ]
  },
  {
   "attachments": {},
   "cell_type": "markdown",
   "metadata": {},
   "source": [
    "## 2. EDA on review_scores_accuracy\n",
    "<b>Description</b>: the average score from 0 to 5 that rates how accurate the Airbnb listing online is to the actual place "
   ]
  },
  {
   "cell_type": "code",
   "execution_count": 155,
   "metadata": {},
   "outputs": [
    {
     "data": {
      "text/html": [
       "<div>\n",
       "<style scoped>\n",
       "    .dataframe tbody tr th:only-of-type {\n",
       "        vertical-align: middle;\n",
       "    }\n",
       "\n",
       "    .dataframe tbody tr th {\n",
       "        vertical-align: top;\n",
       "    }\n",
       "\n",
       "    .dataframe thead th {\n",
       "        text-align: right;\n",
       "    }\n",
       "</style>\n",
       "<table border=\"1\" class=\"dataframe\">\n",
       "  <thead>\n",
       "    <tr style=\"text-align: right;\">\n",
       "      <th></th>\n",
       "      <th>review_scores_accuracy</th>\n",
       "    </tr>\n",
       "  </thead>\n",
       "  <tbody>\n",
       "    <tr>\n",
       "      <th>0</th>\n",
       "      <td>4.37</td>\n",
       "    </tr>\n",
       "    <tr>\n",
       "      <th>1</th>\n",
       "      <td>4.22</td>\n",
       "    </tr>\n",
       "    <tr>\n",
       "      <th>2</th>\n",
       "      <td>4.39</td>\n",
       "    </tr>\n",
       "    <tr>\n",
       "      <th>3</th>\n",
       "      <td>4.16</td>\n",
       "    </tr>\n",
       "    <tr>\n",
       "      <th>4</th>\n",
       "      <td>4.69</td>\n",
       "    </tr>\n",
       "    <tr>\n",
       "      <th>...</th>\n",
       "      <td>...</td>\n",
       "    </tr>\n",
       "    <tr>\n",
       "      <th>3030</th>\n",
       "      <td>NaN</td>\n",
       "    </tr>\n",
       "    <tr>\n",
       "      <th>3031</th>\n",
       "      <td>NaN</td>\n",
       "    </tr>\n",
       "    <tr>\n",
       "      <th>3032</th>\n",
       "      <td>NaN</td>\n",
       "    </tr>\n",
       "    <tr>\n",
       "      <th>3033</th>\n",
       "      <td>NaN</td>\n",
       "    </tr>\n",
       "    <tr>\n",
       "      <th>3034</th>\n",
       "      <td>NaN</td>\n",
       "    </tr>\n",
       "  </tbody>\n",
       "</table>\n",
       "<p>3035 rows × 1 columns</p>\n",
       "</div>"
      ],
      "text/plain": [
       "      review_scores_accuracy\n",
       "0                       4.37\n",
       "1                       4.22\n",
       "2                       4.39\n",
       "3                       4.16\n",
       "4                       4.69\n",
       "...                      ...\n",
       "3030                     NaN\n",
       "3031                     NaN\n",
       "3032                     NaN\n",
       "3033                     NaN\n",
       "3034                     NaN\n",
       "\n",
       "[3035 rows x 1 columns]"
      ]
     },
     "execution_count": 155,
     "metadata": {},
     "output_type": "execute_result"
    }
   ],
   "source": [
    "accRating = pd.DataFrame(airDF[\"review_scores_accuracy\"])\n",
    "accRating"
   ]
  },
  {
   "cell_type": "code",
   "execution_count": 156,
   "metadata": {},
   "outputs": [
    {
     "data": {
      "text/plain": [
       "review_scores_accuracy\n",
       "5.00                      626\n",
       "4.00                      133\n",
       "4.50                       88\n",
       "4.67                       55\n",
       "3.00                       46\n",
       "                         ... \n",
       "4.34                        1\n",
       "4.41                        1\n",
       "4.46                        1\n",
       "4.49                        1\n",
       "0.00                        1\n",
       "Length: 110, dtype: int64"
      ]
     },
     "execution_count": 156,
     "metadata": {},
     "output_type": "execute_result"
    }
   ],
   "source": [
    "accRating.value_counts()"
   ]
  },
  {
   "cell_type": "code",
   "execution_count": 157,
   "metadata": {},
   "outputs": [
    {
     "data": {
      "text/html": [
       "<div>\n",
       "<style scoped>\n",
       "    .dataframe tbody tr th:only-of-type {\n",
       "        vertical-align: middle;\n",
       "    }\n",
       "\n",
       "    .dataframe tbody tr th {\n",
       "        vertical-align: top;\n",
       "    }\n",
       "\n",
       "    .dataframe thead th {\n",
       "        text-align: right;\n",
       "    }\n",
       "</style>\n",
       "<table border=\"1\" class=\"dataframe\">\n",
       "  <thead>\n",
       "    <tr style=\"text-align: right;\">\n",
       "      <th></th>\n",
       "      <th>review_scores_accuracy</th>\n",
       "    </tr>\n",
       "  </thead>\n",
       "  <tbody>\n",
       "    <tr>\n",
       "      <th>count</th>\n",
       "      <td>1711.000000</td>\n",
       "    </tr>\n",
       "    <tr>\n",
       "      <th>mean</th>\n",
       "      <td>4.591783</td>\n",
       "    </tr>\n",
       "    <tr>\n",
       "      <th>std</th>\n",
       "      <td>0.608629</td>\n",
       "    </tr>\n",
       "    <tr>\n",
       "      <th>min</th>\n",
       "      <td>0.000000</td>\n",
       "    </tr>\n",
       "    <tr>\n",
       "      <th>25%</th>\n",
       "      <td>4.480000</td>\n",
       "    </tr>\n",
       "    <tr>\n",
       "      <th>50%</th>\n",
       "      <td>4.800000</td>\n",
       "    </tr>\n",
       "    <tr>\n",
       "      <th>75%</th>\n",
       "      <td>5.000000</td>\n",
       "    </tr>\n",
       "    <tr>\n",
       "      <th>max</th>\n",
       "      <td>5.000000</td>\n",
       "    </tr>\n",
       "  </tbody>\n",
       "</table>\n",
       "</div>"
      ],
      "text/plain": [
       "       review_scores_accuracy\n",
       "count             1711.000000\n",
       "mean                 4.591783\n",
       "std                  0.608629\n",
       "min                  0.000000\n",
       "25%                  4.480000\n",
       "50%                  4.800000\n",
       "75%                  5.000000\n",
       "max                  5.000000"
      ]
     },
     "execution_count": 157,
     "metadata": {},
     "output_type": "execute_result"
    }
   ],
   "source": [
    "accRating.describe()"
   ]
  },
  {
   "cell_type": "code",
   "execution_count": 158,
   "metadata": {},
   "outputs": [
    {
     "name": "stdout",
     "output_type": "stream",
     "text": [
      "Total Values: 3035, Null Values: 1324\n"
     ]
    }
   ],
   "source": [
    "#Find the number of null values as there seems to be alot.\n",
    "print(\"Total Values: {0}, Null Values: {1}\".format(len(accRating), accRating.isna().sum().sum()))"
   ]
  },
  {
   "cell_type": "code",
   "execution_count": 159,
   "metadata": {},
   "outputs": [
    {
     "data": {
      "text/html": [
       "<div>\n",
       "<style scoped>\n",
       "    .dataframe tbody tr th:only-of-type {\n",
       "        vertical-align: middle;\n",
       "    }\n",
       "\n",
       "    .dataframe tbody tr th {\n",
       "        vertical-align: top;\n",
       "    }\n",
       "\n",
       "    .dataframe thead th {\n",
       "        text-align: right;\n",
       "    }\n",
       "</style>\n",
       "<table border=\"1\" class=\"dataframe\">\n",
       "  <thead>\n",
       "    <tr style=\"text-align: right;\">\n",
       "      <th></th>\n",
       "      <th>review_scores_accuracy</th>\n",
       "    </tr>\n",
       "  </thead>\n",
       "  <tbody>\n",
       "    <tr>\n",
       "      <th>0</th>\n",
       "      <td>4.37</td>\n",
       "    </tr>\n",
       "    <tr>\n",
       "      <th>1</th>\n",
       "      <td>4.22</td>\n",
       "    </tr>\n",
       "    <tr>\n",
       "      <th>2</th>\n",
       "      <td>4.39</td>\n",
       "    </tr>\n",
       "    <tr>\n",
       "      <th>3</th>\n",
       "      <td>4.16</td>\n",
       "    </tr>\n",
       "    <tr>\n",
       "      <th>4</th>\n",
       "      <td>4.69</td>\n",
       "    </tr>\n",
       "    <tr>\n",
       "      <th>...</th>\n",
       "      <td>...</td>\n",
       "    </tr>\n",
       "    <tr>\n",
       "      <th>2973</th>\n",
       "      <td>5.00</td>\n",
       "    </tr>\n",
       "    <tr>\n",
       "      <th>2974</th>\n",
       "      <td>5.00</td>\n",
       "    </tr>\n",
       "    <tr>\n",
       "      <th>2976</th>\n",
       "      <td>5.00</td>\n",
       "    </tr>\n",
       "    <tr>\n",
       "      <th>2977</th>\n",
       "      <td>5.00</td>\n",
       "    </tr>\n",
       "    <tr>\n",
       "      <th>2978</th>\n",
       "      <td>1.00</td>\n",
       "    </tr>\n",
       "  </tbody>\n",
       "</table>\n",
       "<p>1711 rows × 1 columns</p>\n",
       "</div>"
      ],
      "text/plain": [
       "      review_scores_accuracy\n",
       "0                       4.37\n",
       "1                       4.22\n",
       "2                       4.39\n",
       "3                       4.16\n",
       "4                       4.69\n",
       "...                      ...\n",
       "2973                    5.00\n",
       "2974                    5.00\n",
       "2976                    5.00\n",
       "2977                    5.00\n",
       "2978                    1.00\n",
       "\n",
       "[1711 rows x 1 columns]"
      ]
     },
     "execution_count": 159,
     "metadata": {},
     "output_type": "execute_result"
    }
   ],
   "source": [
    "#Drop null values\n",
    "accRating = accRating.dropna()\n",
    "accRating"
   ]
  },
  {
   "cell_type": "code",
   "execution_count": 160,
   "metadata": {},
   "outputs": [
    {
     "data": {
      "text/html": [
       "<div>\n",
       "<style scoped>\n",
       "    .dataframe tbody tr th:only-of-type {\n",
       "        vertical-align: middle;\n",
       "    }\n",
       "\n",
       "    .dataframe tbody tr th {\n",
       "        vertical-align: top;\n",
       "    }\n",
       "\n",
       "    .dataframe thead th {\n",
       "        text-align: right;\n",
       "    }\n",
       "</style>\n",
       "<table border=\"1\" class=\"dataframe\">\n",
       "  <thead>\n",
       "    <tr style=\"text-align: right;\">\n",
       "      <th></th>\n",
       "      <th>review_scores_accuracy</th>\n",
       "    </tr>\n",
       "  </thead>\n",
       "  <tbody>\n",
       "    <tr>\n",
       "      <th>count</th>\n",
       "      <td>1711.000000</td>\n",
       "    </tr>\n",
       "    <tr>\n",
       "      <th>mean</th>\n",
       "      <td>4.591783</td>\n",
       "    </tr>\n",
       "    <tr>\n",
       "      <th>std</th>\n",
       "      <td>0.608629</td>\n",
       "    </tr>\n",
       "    <tr>\n",
       "      <th>min</th>\n",
       "      <td>0.000000</td>\n",
       "    </tr>\n",
       "    <tr>\n",
       "      <th>25%</th>\n",
       "      <td>4.480000</td>\n",
       "    </tr>\n",
       "    <tr>\n",
       "      <th>50%</th>\n",
       "      <td>4.800000</td>\n",
       "    </tr>\n",
       "    <tr>\n",
       "      <th>75%</th>\n",
       "      <td>5.000000</td>\n",
       "    </tr>\n",
       "    <tr>\n",
       "      <th>max</th>\n",
       "      <td>5.000000</td>\n",
       "    </tr>\n",
       "  </tbody>\n",
       "</table>\n",
       "</div>"
      ],
      "text/plain": [
       "       review_scores_accuracy\n",
       "count             1711.000000\n",
       "mean                 4.591783\n",
       "std                  0.608629\n",
       "min                  0.000000\n",
       "25%                  4.480000\n",
       "50%                  4.800000\n",
       "75%                  5.000000\n",
       "max                  5.000000"
      ]
     },
     "execution_count": 160,
     "metadata": {},
     "output_type": "execute_result"
    }
   ],
   "source": [
    "accRating.describe()"
   ]
  },
  {
   "cell_type": "code",
   "execution_count": 161,
   "metadata": {},
   "outputs": [
    {
     "data": {
      "image/png": "[encoded data removed]",
      "text/plain": [
       "<Figure size 1200x600 with 1 Axes>"
      ]
     },
     "metadata": {},
     "output_type": "display_data"
    }
   ],
   "source": [
    "f = plt.figure(figsize=(12,6))\n",
    "sb.boxplot(data = accRating, orient = 'h')\n",
    "plt.show()"
   ]
  },
  {
   "attachments": {},
   "cell_type": "markdown",
   "metadata": {},
   "source": [
    "INSIGHT : We can see a high concentration of data points towards the upper end of the scale, with a median score of 4.80, indicating a right skewed distribution which means majority of listings that had reviews are accurate to the listings put on the Airbnb website."
   ]
  },
  {
   "cell_type": "markdown",
   "metadata": {},
   "source": [
    "---"
   ]
  },
  {
   "attachments": {},
   "cell_type": "markdown",
   "metadata": {},
   "source": [
    "## 3. EDA on review_scores_cleanliness\n",
    "<b>Description</b> : The average score from 0 to 5 that rates the Airbnb listing's overall cleanliness "
   ]
  },
  {
   "cell_type": "code",
   "execution_count": 162,
   "metadata": {},
   "outputs": [
    {
     "data": {
      "text/html": [
       "<div>\n",
       "<style scoped>\n",
       "    .dataframe tbody tr th:only-of-type {\n",
       "        vertical-align: middle;\n",
       "    }\n",
       "\n",
       "    .dataframe tbody tr th {\n",
       "        vertical-align: top;\n",
       "    }\n",
       "\n",
       "    .dataframe thead th {\n",
       "        text-align: right;\n",
       "    }\n",
       "</style>\n",
       "<table border=\"1\" class=\"dataframe\">\n",
       "  <thead>\n",
       "    <tr style=\"text-align: right;\">\n",
       "      <th></th>\n",
       "      <th>review_scores_cleanliness</th>\n",
       "    </tr>\n",
       "  </thead>\n",
       "  <tbody>\n",
       "    <tr>\n",
       "      <th>0</th>\n",
       "      <td>4.00</td>\n",
       "    </tr>\n",
       "    <tr>\n",
       "      <th>1</th>\n",
       "      <td>4.09</td>\n",
       "    </tr>\n",
       "    <tr>\n",
       "      <th>2</th>\n",
       "      <td>4.52</td>\n",
       "    </tr>\n",
       "    <tr>\n",
       "      <th>3</th>\n",
       "      <td>4.26</td>\n",
       "    </tr>\n",
       "    <tr>\n",
       "      <th>4</th>\n",
       "      <td>4.23</td>\n",
       "    </tr>\n",
       "    <tr>\n",
       "      <th>...</th>\n",
       "      <td>...</td>\n",
       "    </tr>\n",
       "    <tr>\n",
       "      <th>3030</th>\n",
       "      <td>NaN</td>\n",
       "    </tr>\n",
       "    <tr>\n",
       "      <th>3031</th>\n",
       "      <td>NaN</td>\n",
       "    </tr>\n",
       "    <tr>\n",
       "      <th>3032</th>\n",
       "      <td>NaN</td>\n",
       "    </tr>\n",
       "    <tr>\n",
       "      <th>3033</th>\n",
       "      <td>NaN</td>\n",
       "    </tr>\n",
       "    <tr>\n",
       "      <th>3034</th>\n",
       "      <td>NaN</td>\n",
       "    </tr>\n",
       "  </tbody>\n",
       "</table>\n",
       "<p>3035 rows × 1 columns</p>\n",
       "</div>"
      ],
      "text/plain": [
       "      review_scores_cleanliness\n",
       "0                          4.00\n",
       "1                          4.09\n",
       "2                          4.52\n",
       "3                          4.26\n",
       "4                          4.23\n",
       "...                         ...\n",
       "3030                        NaN\n",
       "3031                        NaN\n",
       "3032                        NaN\n",
       "3033                        NaN\n",
       "3034                        NaN\n",
       "\n",
       "[3035 rows x 1 columns]"
      ]
     },
     "execution_count": 162,
     "metadata": {},
     "output_type": "execute_result"
    }
   ],
   "source": [
    "cleanRating = pd.DataFrame(airDF[\"review_scores_cleanliness\"])\n",
    "cleanRating"
   ]
  },
  {
   "cell_type": "code",
   "execution_count": 163,
   "metadata": {},
   "outputs": [
    {
     "data": {
      "text/plain": [
       "review_scores_cleanliness\n",
       "5.00                         534\n",
       "4.00                         161\n",
       "4.50                         107\n",
       "3.00                          64\n",
       "4.67                          44\n",
       "                            ... \n",
       "4.12                           1\n",
       "4.30                           1\n",
       "4.31                           1\n",
       "4.37                           1\n",
       "4.34                           1\n",
       "Length: 131, dtype: int64"
      ]
     },
     "execution_count": 163,
     "metadata": {},
     "output_type": "execute_result"
    }
   ],
   "source": [
    "cleanRating.value_counts()"
   ]
  },
  {
   "cell_type": "code",
   "execution_count": 164,
   "metadata": {},
   "outputs": [
    {
     "data": {
      "text/html": [
       "<div>\n",
       "<style scoped>\n",
       "    .dataframe tbody tr th:only-of-type {\n",
       "        vertical-align: middle;\n",
       "    }\n",
       "\n",
       "    .dataframe tbody tr th {\n",
       "        vertical-align: top;\n",
       "    }\n",
       "\n",
       "    .dataframe thead th {\n",
       "        text-align: right;\n",
       "    }\n",
       "</style>\n",
       "<table border=\"1\" class=\"dataframe\">\n",
       "  <thead>\n",
       "    <tr style=\"text-align: right;\">\n",
       "      <th></th>\n",
       "      <th>review_scores_cleanliness</th>\n",
       "    </tr>\n",
       "  </thead>\n",
       "  <tbody>\n",
       "    <tr>\n",
       "      <th>count</th>\n",
       "      <td>1712.000000</td>\n",
       "    </tr>\n",
       "    <tr>\n",
       "      <th>mean</th>\n",
       "      <td>4.507512</td>\n",
       "    </tr>\n",
       "    <tr>\n",
       "      <th>std</th>\n",
       "      <td>0.617658</td>\n",
       "    </tr>\n",
       "    <tr>\n",
       "      <th>min</th>\n",
       "      <td>0.000000</td>\n",
       "    </tr>\n",
       "    <tr>\n",
       "      <th>25%</th>\n",
       "      <td>4.270000</td>\n",
       "    </tr>\n",
       "    <tr>\n",
       "      <th>50%</th>\n",
       "      <td>4.690000</td>\n",
       "    </tr>\n",
       "    <tr>\n",
       "      <th>75%</th>\n",
       "      <td>5.000000</td>\n",
       "    </tr>\n",
       "    <tr>\n",
       "      <th>max</th>\n",
       "      <td>5.000000</td>\n",
       "    </tr>\n",
       "  </tbody>\n",
       "</table>\n",
       "</div>"
      ],
      "text/plain": [
       "       review_scores_cleanliness\n",
       "count                1712.000000\n",
       "mean                    4.507512\n",
       "std                     0.617658\n",
       "min                     0.000000\n",
       "25%                     4.270000\n",
       "50%                     4.690000\n",
       "75%                     5.000000\n",
       "max                     5.000000"
      ]
     },
     "execution_count": 164,
     "metadata": {},
     "output_type": "execute_result"
    }
   ],
   "source": [
    "cleanRating.describe()"
   ]
  },
  {
   "cell_type": "code",
   "execution_count": 165,
   "metadata": {},
   "outputs": [
    {
     "name": "stdout",
     "output_type": "stream",
     "text": [
      "Total Values: 3035, Null Values: 1323\n"
     ]
    }
   ],
   "source": [
    "#Find the number of null values as there seems to be alot.\n",
    "print(\"Total Values: {0}, Null Values: {1}\".format(len(cleanRating), cleanRating.isna().sum().sum()))"
   ]
  },
  {
   "cell_type": "code",
   "execution_count": 166,
   "metadata": {},
   "outputs": [
    {
     "data": {
      "text/html": [
       "<div>\n",
       "<style scoped>\n",
       "    .dataframe tbody tr th:only-of-type {\n",
       "        vertical-align: middle;\n",
       "    }\n",
       "\n",
       "    .dataframe tbody tr th {\n",
       "        vertical-align: top;\n",
       "    }\n",
       "\n",
       "    .dataframe thead th {\n",
       "        text-align: right;\n",
       "    }\n",
       "</style>\n",
       "<table border=\"1\" class=\"dataframe\">\n",
       "  <thead>\n",
       "    <tr style=\"text-align: right;\">\n",
       "      <th></th>\n",
       "      <th>review_scores_cleanliness</th>\n",
       "    </tr>\n",
       "  </thead>\n",
       "  <tbody>\n",
       "    <tr>\n",
       "      <th>0</th>\n",
       "      <td>4.00</td>\n",
       "    </tr>\n",
       "    <tr>\n",
       "      <th>1</th>\n",
       "      <td>4.09</td>\n",
       "    </tr>\n",
       "    <tr>\n",
       "      <th>2</th>\n",
       "      <td>4.52</td>\n",
       "    </tr>\n",
       "    <tr>\n",
       "      <th>3</th>\n",
       "      <td>4.26</td>\n",
       "    </tr>\n",
       "    <tr>\n",
       "      <th>4</th>\n",
       "      <td>4.23</td>\n",
       "    </tr>\n",
       "    <tr>\n",
       "      <th>...</th>\n",
       "      <td>...</td>\n",
       "    </tr>\n",
       "    <tr>\n",
       "      <th>2973</th>\n",
       "      <td>5.00</td>\n",
       "    </tr>\n",
       "    <tr>\n",
       "      <th>2974</th>\n",
       "      <td>5.00</td>\n",
       "    </tr>\n",
       "    <tr>\n",
       "      <th>2976</th>\n",
       "      <td>5.00</td>\n",
       "    </tr>\n",
       "    <tr>\n",
       "      <th>2977</th>\n",
       "      <td>5.00</td>\n",
       "    </tr>\n",
       "    <tr>\n",
       "      <th>2978</th>\n",
       "      <td>1.00</td>\n",
       "    </tr>\n",
       "  </tbody>\n",
       "</table>\n",
       "<p>1712 rows × 1 columns</p>\n",
       "</div>"
      ],
      "text/plain": [
       "      review_scores_cleanliness\n",
       "0                          4.00\n",
       "1                          4.09\n",
       "2                          4.52\n",
       "3                          4.26\n",
       "4                          4.23\n",
       "...                         ...\n",
       "2973                       5.00\n",
       "2974                       5.00\n",
       "2976                       5.00\n",
       "2977                       5.00\n",
       "2978                       1.00\n",
       "\n",
       "[1712 rows x 1 columns]"
      ]
     },
     "execution_count": 166,
     "metadata": {},
     "output_type": "execute_result"
    }
   ],
   "source": [
    "#Drop null values\n",
    "cleanRating = cleanRating.dropna()\n",
    "cleanRating"
   ]
  },
  {
   "cell_type": "code",
   "execution_count": 167,
   "metadata": {},
   "outputs": [
    {
     "data": {
      "text/plain": [
       "<AxesSubplot:>"
      ]
     },
     "execution_count": 167,
     "metadata": {},
     "output_type": "execute_result"
    },
    {
     "data": {
      "image/png": "[encoded data removed]",
      "text/plain": [
       "<Figure size 1200x600 with 1 Axes>"
      ]
     },
     "metadata": {},
     "output_type": "display_data"
    }
   ],
   "source": [
    "f = plt.figure(figsize=(12,6))\n",
    "sb.boxplot(data = cleanRating, orient = 'h')"
   ]
  },
  {
   "attachments": {},
   "cell_type": "markdown",
   "metadata": {},
   "source": [
    "INSIGHT : Similar to review_scores_accuracy, we can see that both datasets share a similar characteristic where majority of the data points are concentrated towards the upper end, with a median of 4.50, which shows that majority of listings that had reviews are quite clean."
   ]
  },
  {
   "cell_type": "markdown",
   "metadata": {},
   "source": [
    "---"
   ]
  },
  {
   "cell_type": "markdown",
   "metadata": {},
   "source": [
    "## 4. EDA on review_scores_checkin\n",
    "<b>Description</b> : The average score from 0 to 5 that rates the Airbnb listing's ease of checking in    "
   ]
  },
  {
   "cell_type": "code",
   "execution_count": 168,
   "metadata": {},
   "outputs": [
    {
     "data": {
      "text/html": [
       "<div>\n",
       "<style scoped>\n",
       "    .dataframe tbody tr th:only-of-type {\n",
       "        vertical-align: middle;\n",
       "    }\n",
       "\n",
       "    .dataframe tbody tr th {\n",
       "        vertical-align: top;\n",
       "    }\n",
       "\n",
       "    .dataframe thead th {\n",
       "        text-align: right;\n",
       "    }\n",
       "</style>\n",
       "<table border=\"1\" class=\"dataframe\">\n",
       "  <thead>\n",
       "    <tr style=\"text-align: right;\">\n",
       "      <th></th>\n",
       "      <th>review_scores_checkin</th>\n",
       "    </tr>\n",
       "  </thead>\n",
       "  <tbody>\n",
       "    <tr>\n",
       "      <th>0</th>\n",
       "      <td>4.63</td>\n",
       "    </tr>\n",
       "    <tr>\n",
       "      <th>1</th>\n",
       "      <td>4.43</td>\n",
       "    </tr>\n",
       "    <tr>\n",
       "      <th>2</th>\n",
       "      <td>4.63</td>\n",
       "    </tr>\n",
       "    <tr>\n",
       "      <th>3</th>\n",
       "      <td>4.47</td>\n",
       "    </tr>\n",
       "    <tr>\n",
       "      <th>4</th>\n",
       "      <td>4.62</td>\n",
       "    </tr>\n",
       "    <tr>\n",
       "      <th>...</th>\n",
       "      <td>...</td>\n",
       "    </tr>\n",
       "    <tr>\n",
       "      <th>3030</th>\n",
       "      <td>NaN</td>\n",
       "    </tr>\n",
       "    <tr>\n",
       "      <th>3031</th>\n",
       "      <td>NaN</td>\n",
       "    </tr>\n",
       "    <tr>\n",
       "      <th>3032</th>\n",
       "      <td>NaN</td>\n",
       "    </tr>\n",
       "    <tr>\n",
       "      <th>3033</th>\n",
       "      <td>NaN</td>\n",
       "    </tr>\n",
       "    <tr>\n",
       "      <th>3034</th>\n",
       "      <td>NaN</td>\n",
       "    </tr>\n",
       "  </tbody>\n",
       "</table>\n",
       "<p>3035 rows × 1 columns</p>\n",
       "</div>"
      ],
      "text/plain": [
       "      review_scores_checkin\n",
       "0                      4.63\n",
       "1                      4.43\n",
       "2                      4.63\n",
       "3                      4.47\n",
       "4                      4.62\n",
       "...                     ...\n",
       "3030                    NaN\n",
       "3031                    NaN\n",
       "3032                    NaN\n",
       "3033                    NaN\n",
       "3034                    NaN\n",
       "\n",
       "[3035 rows x 1 columns]"
      ]
     },
     "execution_count": 168,
     "metadata": {},
     "output_type": "execute_result"
    }
   ],
   "source": [
    "checkinRating = pd.DataFrame(airDF[\"review_scores_checkin\"])\n",
    "checkinRating\n"
   ]
  },
  {
   "cell_type": "code",
   "execution_count": 169,
   "metadata": {},
   "outputs": [
    {
     "data": {
      "text/plain": [
       "review_scores_checkin\n",
       "5.00                     791\n",
       "4.50                      79\n",
       "4.00                      79\n",
       "4.67                      43\n",
       "4.75                      41\n",
       "                        ... \n",
       "4.48                       1\n",
       "4.49                       1\n",
       "4.51                       1\n",
       "4.52                       1\n",
       "0.00                       1\n",
       "Length: 92, dtype: int64"
      ]
     },
     "execution_count": 169,
     "metadata": {},
     "output_type": "execute_result"
    }
   ],
   "source": [
    "checkinRating.value_counts()"
   ]
  },
  {
   "cell_type": "code",
   "execution_count": 170,
   "metadata": {},
   "outputs": [
    {
     "data": {
      "text/html": [
       "<div>\n",
       "<style scoped>\n",
       "    .dataframe tbody tr th:only-of-type {\n",
       "        vertical-align: middle;\n",
       "    }\n",
       "\n",
       "    .dataframe tbody tr th {\n",
       "        vertical-align: top;\n",
       "    }\n",
       "\n",
       "    .dataframe thead th {\n",
       "        text-align: right;\n",
       "    }\n",
       "</style>\n",
       "<table border=\"1\" class=\"dataframe\">\n",
       "  <thead>\n",
       "    <tr style=\"text-align: right;\">\n",
       "      <th></th>\n",
       "      <th>review_scores_checkin</th>\n",
       "    </tr>\n",
       "  </thead>\n",
       "  <tbody>\n",
       "    <tr>\n",
       "      <th>count</th>\n",
       "      <td>1712.000000</td>\n",
       "    </tr>\n",
       "    <tr>\n",
       "      <th>mean</th>\n",
       "      <td>4.718814</td>\n",
       "    </tr>\n",
       "    <tr>\n",
       "      <th>std</th>\n",
       "      <td>0.543987</td>\n",
       "    </tr>\n",
       "    <tr>\n",
       "      <th>min</th>\n",
       "      <td>0.000000</td>\n",
       "    </tr>\n",
       "    <tr>\n",
       "      <th>25%</th>\n",
       "      <td>4.670000</td>\n",
       "    </tr>\n",
       "    <tr>\n",
       "      <th>50%</th>\n",
       "      <td>4.930000</td>\n",
       "    </tr>\n",
       "    <tr>\n",
       "      <th>75%</th>\n",
       "      <td>5.000000</td>\n",
       "    </tr>\n",
       "    <tr>\n",
       "      <th>max</th>\n",
       "      <td>5.000000</td>\n",
       "    </tr>\n",
       "  </tbody>\n",
       "</table>\n",
       "</div>"
      ],
      "text/plain": [
       "       review_scores_checkin\n",
       "count            1712.000000\n",
       "mean                4.718814\n",
       "std                 0.543987\n",
       "min                 0.000000\n",
       "25%                 4.670000\n",
       "50%                 4.930000\n",
       "75%                 5.000000\n",
       "max                 5.000000"
      ]
     },
     "execution_count": 170,
     "metadata": {},
     "output_type": "execute_result"
    }
   ],
   "source": [
    "checkinRating.describe()"
   ]
  },
  {
   "cell_type": "code",
   "execution_count": 171,
   "metadata": {},
   "outputs": [
    {
     "name": "stdout",
     "output_type": "stream",
     "text": [
      "Total Values: 3035, Null Values: 1323\n"
     ]
    }
   ],
   "source": [
    "#Find the number of null values as there seems to be alot.\n",
    "print(\"Total Values: {0}, Null Values: {1}\".format(len(checkinRating), checkinRating.isna().sum().sum()))"
   ]
  },
  {
   "cell_type": "code",
   "execution_count": 172,
   "metadata": {},
   "outputs": [
    {
     "data": {
      "text/html": [
       "<div>\n",
       "<style scoped>\n",
       "    .dataframe tbody tr th:only-of-type {\n",
       "        vertical-align: middle;\n",
       "    }\n",
       "\n",
       "    .dataframe tbody tr th {\n",
       "        vertical-align: top;\n",
       "    }\n",
       "\n",
       "    .dataframe thead th {\n",
       "        text-align: right;\n",
       "    }\n",
       "</style>\n",
       "<table border=\"1\" class=\"dataframe\">\n",
       "  <thead>\n",
       "    <tr style=\"text-align: right;\">\n",
       "      <th></th>\n",
       "      <th>review_scores_checkin</th>\n",
       "    </tr>\n",
       "  </thead>\n",
       "  <tbody>\n",
       "    <tr>\n",
       "      <th>0</th>\n",
       "      <td>4.63</td>\n",
       "    </tr>\n",
       "    <tr>\n",
       "      <th>1</th>\n",
       "      <td>4.43</td>\n",
       "    </tr>\n",
       "    <tr>\n",
       "      <th>2</th>\n",
       "      <td>4.63</td>\n",
       "    </tr>\n",
       "    <tr>\n",
       "      <th>3</th>\n",
       "      <td>4.47</td>\n",
       "    </tr>\n",
       "    <tr>\n",
       "      <th>4</th>\n",
       "      <td>4.62</td>\n",
       "    </tr>\n",
       "    <tr>\n",
       "      <th>...</th>\n",
       "      <td>...</td>\n",
       "    </tr>\n",
       "    <tr>\n",
       "      <th>2973</th>\n",
       "      <td>5.00</td>\n",
       "    </tr>\n",
       "    <tr>\n",
       "      <th>2974</th>\n",
       "      <td>5.00</td>\n",
       "    </tr>\n",
       "    <tr>\n",
       "      <th>2976</th>\n",
       "      <td>5.00</td>\n",
       "    </tr>\n",
       "    <tr>\n",
       "      <th>2977</th>\n",
       "      <td>5.00</td>\n",
       "    </tr>\n",
       "    <tr>\n",
       "      <th>2978</th>\n",
       "      <td>3.00</td>\n",
       "    </tr>\n",
       "  </tbody>\n",
       "</table>\n",
       "<p>1712 rows × 1 columns</p>\n",
       "</div>"
      ],
      "text/plain": [
       "      review_scores_checkin\n",
       "0                      4.63\n",
       "1                      4.43\n",
       "2                      4.63\n",
       "3                      4.47\n",
       "4                      4.62\n",
       "...                     ...\n",
       "2973                   5.00\n",
       "2974                   5.00\n",
       "2976                   5.00\n",
       "2977                   5.00\n",
       "2978                   3.00\n",
       "\n",
       "[1712 rows x 1 columns]"
      ]
     },
     "execution_count": 172,
     "metadata": {},
     "output_type": "execute_result"
    }
   ],
   "source": [
    "checkinRating = checkinRating.dropna()\n",
    "checkinRating"
   ]
  },
  {
   "cell_type": "code",
   "execution_count": 173,
   "metadata": {},
   "outputs": [
    {
     "data": {
      "image/png": "[encoded data removed]",
      "text/plain": [
       "<Figure size 1200x600 with 1 Axes>"
      ]
     },
     "metadata": {},
     "output_type": "display_data"
    }
   ],
   "source": [
    "f = plt.figure(figsize=(12,6))\n",
    "sb.boxplot(data = checkinRating, orient = 'h')\n",
    "plt.show()"
   ]
  },
  {
   "attachments": {},
   "cell_type": "markdown",
   "metadata": {},
   "source": [
    "INSIGHT : From the box plot it seems that most of the guests are able to check in easily as the scores are mostly above 4.5 and a 5.00 rating, with a mean of 4.718 amd median of 4.93. This shows that the check in process for most of the listings that had a review was generally good."
   ]
  },
  {
   "cell_type": "markdown",
   "metadata": {},
   "source": [
    "---"
   ]
  },
  {
   "cell_type": "markdown",
   "metadata": {},
   "source": [
    "## 5. EDA on review_scores_communication\n",
    "<b>Description</b> : The average score from 0 to 5 that rates the Airbnb listing's host's availability to the guest during the guest's stay    "
   ]
  },
  {
   "cell_type": "code",
   "execution_count": 174,
   "metadata": {},
   "outputs": [
    {
     "data": {
      "text/html": [
       "<div>\n",
       "<style scoped>\n",
       "    .dataframe tbody tr th:only-of-type {\n",
       "        vertical-align: middle;\n",
       "    }\n",
       "\n",
       "    .dataframe tbody tr th {\n",
       "        vertical-align: top;\n",
       "    }\n",
       "\n",
       "    .dataframe thead th {\n",
       "        text-align: right;\n",
       "    }\n",
       "</style>\n",
       "<table border=\"1\" class=\"dataframe\">\n",
       "  <thead>\n",
       "    <tr style=\"text-align: right;\">\n",
       "      <th></th>\n",
       "      <th>review_scores_communication</th>\n",
       "    </tr>\n",
       "  </thead>\n",
       "  <tbody>\n",
       "    <tr>\n",
       "      <th>0</th>\n",
       "      <td>4.78</td>\n",
       "    </tr>\n",
       "    <tr>\n",
       "      <th>1</th>\n",
       "      <td>4.43</td>\n",
       "    </tr>\n",
       "    <tr>\n",
       "      <th>2</th>\n",
       "      <td>4.64</td>\n",
       "    </tr>\n",
       "    <tr>\n",
       "      <th>3</th>\n",
       "      <td>4.42</td>\n",
       "    </tr>\n",
       "    <tr>\n",
       "      <th>4</th>\n",
       "      <td>4.54</td>\n",
       "    </tr>\n",
       "    <tr>\n",
       "      <th>...</th>\n",
       "      <td>...</td>\n",
       "    </tr>\n",
       "    <tr>\n",
       "      <th>3030</th>\n",
       "      <td>NaN</td>\n",
       "    </tr>\n",
       "    <tr>\n",
       "      <th>3031</th>\n",
       "      <td>NaN</td>\n",
       "    </tr>\n",
       "    <tr>\n",
       "      <th>3032</th>\n",
       "      <td>NaN</td>\n",
       "    </tr>\n",
       "    <tr>\n",
       "      <th>3033</th>\n",
       "      <td>NaN</td>\n",
       "    </tr>\n",
       "    <tr>\n",
       "      <th>3034</th>\n",
       "      <td>NaN</td>\n",
       "    </tr>\n",
       "  </tbody>\n",
       "</table>\n",
       "<p>3035 rows × 1 columns</p>\n",
       "</div>"
      ],
      "text/plain": [
       "      review_scores_communication\n",
       "0                            4.78\n",
       "1                            4.43\n",
       "2                            4.64\n",
       "3                            4.42\n",
       "4                            4.54\n",
       "...                           ...\n",
       "3030                          NaN\n",
       "3031                          NaN\n",
       "3032                          NaN\n",
       "3033                          NaN\n",
       "3034                          NaN\n",
       "\n",
       "[3035 rows x 1 columns]"
      ]
     },
     "execution_count": 174,
     "metadata": {},
     "output_type": "execute_result"
    }
   ],
   "source": [
    "commRating = pd.DataFrame(airDF[\"review_scores_communication\"])\n",
    "commRating"
   ]
  },
  {
   "cell_type": "code",
   "execution_count": 175,
   "metadata": {},
   "outputs": [
    {
     "data": {
      "text/plain": [
       "review_scores_communication\n",
       "5.00                           807\n",
       "4.00                            72\n",
       "4.50                            72\n",
       "4.75                            45\n",
       "4.67                            41\n",
       "                              ... \n",
       "4.10                             1\n",
       "4.24                             1\n",
       "4.29                             1\n",
       "4.42                             1\n",
       "3.95                             1\n",
       "Length: 92, dtype: int64"
      ]
     },
     "execution_count": 175,
     "metadata": {},
     "output_type": "execute_result"
    }
   ],
   "source": [
    "commRating.value_counts()"
   ]
  },
  {
   "cell_type": "code",
   "execution_count": 176,
   "metadata": {},
   "outputs": [
    {
     "data": {
      "text/html": [
       "<div>\n",
       "<style scoped>\n",
       "    .dataframe tbody tr th:only-of-type {\n",
       "        vertical-align: middle;\n",
       "    }\n",
       "\n",
       "    .dataframe tbody tr th {\n",
       "        vertical-align: top;\n",
       "    }\n",
       "\n",
       "    .dataframe thead th {\n",
       "        text-align: right;\n",
       "    }\n",
       "</style>\n",
       "<table border=\"1\" class=\"dataframe\">\n",
       "  <thead>\n",
       "    <tr style=\"text-align: right;\">\n",
       "      <th></th>\n",
       "      <th>review_scores_communication</th>\n",
       "    </tr>\n",
       "  </thead>\n",
       "  <tbody>\n",
       "    <tr>\n",
       "      <th>count</th>\n",
       "      <td>1713.000000</td>\n",
       "    </tr>\n",
       "    <tr>\n",
       "      <th>mean</th>\n",
       "      <td>4.716071</td>\n",
       "    </tr>\n",
       "    <tr>\n",
       "      <th>std</th>\n",
       "      <td>0.566867</td>\n",
       "    </tr>\n",
       "    <tr>\n",
       "      <th>min</th>\n",
       "      <td>0.000000</td>\n",
       "    </tr>\n",
       "    <tr>\n",
       "      <th>25%</th>\n",
       "      <td>4.670000</td>\n",
       "    </tr>\n",
       "    <tr>\n",
       "      <th>50%</th>\n",
       "      <td>4.950000</td>\n",
       "    </tr>\n",
       "    <tr>\n",
       "      <th>75%</th>\n",
       "      <td>5.000000</td>\n",
       "    </tr>\n",
       "    <tr>\n",
       "      <th>max</th>\n",
       "      <td>5.000000</td>\n",
       "    </tr>\n",
       "  </tbody>\n",
       "</table>\n",
       "</div>"
      ],
      "text/plain": [
       "       review_scores_communication\n",
       "count                  1713.000000\n",
       "mean                      4.716071\n",
       "std                       0.566867\n",
       "min                       0.000000\n",
       "25%                       4.670000\n",
       "50%                       4.950000\n",
       "75%                       5.000000\n",
       "max                       5.000000"
      ]
     },
     "execution_count": 176,
     "metadata": {},
     "output_type": "execute_result"
    }
   ],
   "source": [
    "commRating.describe()"
   ]
  },
  {
   "cell_type": "code",
   "execution_count": 177,
   "metadata": {},
   "outputs": [
    {
     "name": "stdout",
     "output_type": "stream",
     "text": [
      "Total Values: 3035, Null Values: 1322\n"
     ]
    }
   ],
   "source": [
    "#Find the number of null values as there seems to be alot.\n",
    "print(\"Total Values: {0}, Null Values: {1}\".format(len(commRating), commRating.isna().sum().sum()))"
   ]
  },
  {
   "cell_type": "code",
   "execution_count": 178,
   "metadata": {},
   "outputs": [
    {
     "data": {
      "text/html": [
       "<div>\n",
       "<style scoped>\n",
       "    .dataframe tbody tr th:only-of-type {\n",
       "        vertical-align: middle;\n",
       "    }\n",
       "\n",
       "    .dataframe tbody tr th {\n",
       "        vertical-align: top;\n",
       "    }\n",
       "\n",
       "    .dataframe thead th {\n",
       "        text-align: right;\n",
       "    }\n",
       "</style>\n",
       "<table border=\"1\" class=\"dataframe\">\n",
       "  <thead>\n",
       "    <tr style=\"text-align: right;\">\n",
       "      <th></th>\n",
       "      <th>review_scores_communication</th>\n",
       "    </tr>\n",
       "  </thead>\n",
       "  <tbody>\n",
       "    <tr>\n",
       "      <th>count</th>\n",
       "      <td>1713.000000</td>\n",
       "    </tr>\n",
       "    <tr>\n",
       "      <th>mean</th>\n",
       "      <td>4.716071</td>\n",
       "    </tr>\n",
       "    <tr>\n",
       "      <th>std</th>\n",
       "      <td>0.566867</td>\n",
       "    </tr>\n",
       "    <tr>\n",
       "      <th>min</th>\n",
       "      <td>0.000000</td>\n",
       "    </tr>\n",
       "    <tr>\n",
       "      <th>25%</th>\n",
       "      <td>4.670000</td>\n",
       "    </tr>\n",
       "    <tr>\n",
       "      <th>50%</th>\n",
       "      <td>4.950000</td>\n",
       "    </tr>\n",
       "    <tr>\n",
       "      <th>75%</th>\n",
       "      <td>5.000000</td>\n",
       "    </tr>\n",
       "    <tr>\n",
       "      <th>max</th>\n",
       "      <td>5.000000</td>\n",
       "    </tr>\n",
       "  </tbody>\n",
       "</table>\n",
       "</div>"
      ],
      "text/plain": [
       "       review_scores_communication\n",
       "count                  1713.000000\n",
       "mean                      4.716071\n",
       "std                       0.566867\n",
       "min                       0.000000\n",
       "25%                       4.670000\n",
       "50%                       4.950000\n",
       "75%                       5.000000\n",
       "max                       5.000000"
      ]
     },
     "execution_count": 178,
     "metadata": {},
     "output_type": "execute_result"
    }
   ],
   "source": [
    "commRating = commRating.dropna()\n",
    "commRating.describe()"
   ]
  },
  {
   "cell_type": "code",
   "execution_count": 179,
   "metadata": {},
   "outputs": [
    {
     "data": {
      "image/png": "[encoded data removed]",
      "text/plain": [
       "<Figure size 1200x600 with 1 Axes>"
      ]
     },
     "metadata": {},
     "output_type": "display_data"
    }
   ],
   "source": [
    "f = plt.figure(figsize=(12,6))\n",
    "sb.boxplot(data = commRating, orient = 'h')\n",
    "plt.show()"
   ]
  },
  {
   "attachments": {},
   "cell_type": "markdown",
   "metadata": {},
   "source": [
    "INSIGHT : From the boxplot, it seems that the majority of guest gave similar ratings, with a mean of 4.71 and a median of 4.95, suggesting that the distribution of the data is skewed towards the upper range with a significant number of outliers right below the lower whisker(25% quartile). This also means that for most of the listings that had reviews, the host had good communication with the visitor."
   ]
  },
  {
   "cell_type": "markdown",
   "metadata": {},
   "source": [
    "---"
   ]
  },
  {
   "cell_type": "markdown",
   "metadata": {},
   "source": [
    "# 6. EDA on review_scores_location\n",
    "<b>Description</b> : The average score from 0 to 5 that rates how ideal an Airbnb listing's location is to the guest"
   ]
  },
  {
   "cell_type": "code",
   "execution_count": 180,
   "metadata": {},
   "outputs": [
    {
     "data": {
      "text/html": [
       "<div>\n",
       "<style scoped>\n",
       "    .dataframe tbody tr th:only-of-type {\n",
       "        vertical-align: middle;\n",
       "    }\n",
       "\n",
       "    .dataframe tbody tr th {\n",
       "        vertical-align: top;\n",
       "    }\n",
       "\n",
       "    .dataframe thead th {\n",
       "        text-align: right;\n",
       "    }\n",
       "</style>\n",
       "<table border=\"1\" class=\"dataframe\">\n",
       "  <thead>\n",
       "    <tr style=\"text-align: right;\">\n",
       "      <th></th>\n",
       "      <th>review_scores_location</th>\n",
       "    </tr>\n",
       "  </thead>\n",
       "  <tbody>\n",
       "    <tr>\n",
       "      <th>0</th>\n",
       "      <td>4.26</td>\n",
       "    </tr>\n",
       "    <tr>\n",
       "      <th>1</th>\n",
       "      <td>4.17</td>\n",
       "    </tr>\n",
       "    <tr>\n",
       "      <th>2</th>\n",
       "      <td>4.50</td>\n",
       "    </tr>\n",
       "    <tr>\n",
       "      <th>3</th>\n",
       "      <td>4.53</td>\n",
       "    </tr>\n",
       "    <tr>\n",
       "      <th>4</th>\n",
       "      <td>4.62</td>\n",
       "    </tr>\n",
       "    <tr>\n",
       "      <th>...</th>\n",
       "      <td>...</td>\n",
       "    </tr>\n",
       "    <tr>\n",
       "      <th>3030</th>\n",
       "      <td>NaN</td>\n",
       "    </tr>\n",
       "    <tr>\n",
       "      <th>3031</th>\n",
       "      <td>NaN</td>\n",
       "    </tr>\n",
       "    <tr>\n",
       "      <th>3032</th>\n",
       "      <td>NaN</td>\n",
       "    </tr>\n",
       "    <tr>\n",
       "      <th>3033</th>\n",
       "      <td>NaN</td>\n",
       "    </tr>\n",
       "    <tr>\n",
       "      <th>3034</th>\n",
       "      <td>NaN</td>\n",
       "    </tr>\n",
       "  </tbody>\n",
       "</table>\n",
       "<p>3035 rows × 1 columns</p>\n",
       "</div>"
      ],
      "text/plain": [
       "      review_scores_location\n",
       "0                       4.26\n",
       "1                       4.17\n",
       "2                       4.50\n",
       "3                       4.53\n",
       "4                       4.62\n",
       "...                      ...\n",
       "3030                     NaN\n",
       "3031                     NaN\n",
       "3032                     NaN\n",
       "3033                     NaN\n",
       "3034                     NaN\n",
       "\n",
       "[3035 rows x 1 columns]"
      ]
     },
     "execution_count": 180,
     "metadata": {},
     "output_type": "execute_result"
    }
   ],
   "source": [
    "locationRating = pd.DataFrame(airDF[\"review_scores_location\"])\n",
    "locationRating"
   ]
  },
  {
   "cell_type": "code",
   "execution_count": 181,
   "metadata": {},
   "outputs": [
    {
     "data": {
      "text/html": [
       "<div>\n",
       "<style scoped>\n",
       "    .dataframe tbody tr th:only-of-type {\n",
       "        vertical-align: middle;\n",
       "    }\n",
       "\n",
       "    .dataframe tbody tr th {\n",
       "        vertical-align: top;\n",
       "    }\n",
       "\n",
       "    .dataframe thead th {\n",
       "        text-align: right;\n",
       "    }\n",
       "</style>\n",
       "<table border=\"1\" class=\"dataframe\">\n",
       "  <thead>\n",
       "    <tr style=\"text-align: right;\">\n",
       "      <th></th>\n",
       "      <th>review_scores_location</th>\n",
       "    </tr>\n",
       "  </thead>\n",
       "  <tbody>\n",
       "    <tr>\n",
       "      <th>count</th>\n",
       "      <td>1711.000000</td>\n",
       "    </tr>\n",
       "    <tr>\n",
       "      <th>mean</th>\n",
       "      <td>4.703343</td>\n",
       "    </tr>\n",
       "    <tr>\n",
       "      <th>std</th>\n",
       "      <td>0.468869</td>\n",
       "    </tr>\n",
       "    <tr>\n",
       "      <th>min</th>\n",
       "      <td>0.000000</td>\n",
       "    </tr>\n",
       "    <tr>\n",
       "      <th>25%</th>\n",
       "      <td>4.585000</td>\n",
       "    </tr>\n",
       "    <tr>\n",
       "      <th>50%</th>\n",
       "      <td>4.880000</td>\n",
       "    </tr>\n",
       "    <tr>\n",
       "      <th>75%</th>\n",
       "      <td>5.000000</td>\n",
       "    </tr>\n",
       "    <tr>\n",
       "      <th>max</th>\n",
       "      <td>5.000000</td>\n",
       "    </tr>\n",
       "  </tbody>\n",
       "</table>\n",
       "</div>"
      ],
      "text/plain": [
       "       review_scores_location\n",
       "count             1711.000000\n",
       "mean                 4.703343\n",
       "std                  0.468869\n",
       "min                  0.000000\n",
       "25%                  4.585000\n",
       "50%                  4.880000\n",
       "75%                  5.000000\n",
       "max                  5.000000"
      ]
     },
     "execution_count": 181,
     "metadata": {},
     "output_type": "execute_result"
    }
   ],
   "source": [
    "locationRating.describe()"
   ]
  },
  {
   "cell_type": "code",
   "execution_count": 182,
   "metadata": {},
   "outputs": [
    {
     "data": {
      "text/plain": [
       "review_scores_location\n",
       "5.00                      745\n",
       "4.00                      109\n",
       "4.50                       71\n",
       "4.67                       56\n",
       "4.75                       46\n",
       "                         ... \n",
       "4.18                        1\n",
       "4.19                        1\n",
       "4.22                        1\n",
       "4.23                        1\n",
       "4.48                        1\n",
       "Length: 104, dtype: int64"
      ]
     },
     "execution_count": 182,
     "metadata": {},
     "output_type": "execute_result"
    }
   ],
   "source": [
    "locationRating.value_counts()"
   ]
  },
  {
   "cell_type": "code",
   "execution_count": 183,
   "metadata": {},
   "outputs": [
    {
     "name": "stdout",
     "output_type": "stream",
     "text": [
      "Total Values: 3035, Null Values: 1324\n"
     ]
    }
   ],
   "source": [
    "#Find the number of null values as there seems to be alot.\n",
    "print(\"Total Values: {0}, Null Values: {1}\".format(len(locationRating), locationRating.isna().sum().sum()))"
   ]
  },
  {
   "cell_type": "code",
   "execution_count": 184,
   "metadata": {},
   "outputs": [
    {
     "data": {
      "text/html": [
       "<div>\n",
       "<style scoped>\n",
       "    .dataframe tbody tr th:only-of-type {\n",
       "        vertical-align: middle;\n",
       "    }\n",
       "\n",
       "    .dataframe tbody tr th {\n",
       "        vertical-align: top;\n",
       "    }\n",
       "\n",
       "    .dataframe thead th {\n",
       "        text-align: right;\n",
       "    }\n",
       "</style>\n",
       "<table border=\"1\" class=\"dataframe\">\n",
       "  <thead>\n",
       "    <tr style=\"text-align: right;\">\n",
       "      <th></th>\n",
       "      <th>review_scores_location</th>\n",
       "    </tr>\n",
       "  </thead>\n",
       "  <tbody>\n",
       "    <tr>\n",
       "      <th>count</th>\n",
       "      <td>1711.000000</td>\n",
       "    </tr>\n",
       "    <tr>\n",
       "      <th>mean</th>\n",
       "      <td>4.703343</td>\n",
       "    </tr>\n",
       "    <tr>\n",
       "      <th>std</th>\n",
       "      <td>0.468869</td>\n",
       "    </tr>\n",
       "    <tr>\n",
       "      <th>min</th>\n",
       "      <td>0.000000</td>\n",
       "    </tr>\n",
       "    <tr>\n",
       "      <th>25%</th>\n",
       "      <td>4.585000</td>\n",
       "    </tr>\n",
       "    <tr>\n",
       "      <th>50%</th>\n",
       "      <td>4.880000</td>\n",
       "    </tr>\n",
       "    <tr>\n",
       "      <th>75%</th>\n",
       "      <td>5.000000</td>\n",
       "    </tr>\n",
       "    <tr>\n",
       "      <th>max</th>\n",
       "      <td>5.000000</td>\n",
       "    </tr>\n",
       "  </tbody>\n",
       "</table>\n",
       "</div>"
      ],
      "text/plain": [
       "       review_scores_location\n",
       "count             1711.000000\n",
       "mean                 4.703343\n",
       "std                  0.468869\n",
       "min                  0.000000\n",
       "25%                  4.585000\n",
       "50%                  4.880000\n",
       "75%                  5.000000\n",
       "max                  5.000000"
      ]
     },
     "execution_count": 184,
     "metadata": {},
     "output_type": "execute_result"
    }
   ],
   "source": [
    "locationRating = locationRating.dropna()\n",
    "locationRating.describe()"
   ]
  },
  {
   "cell_type": "code",
   "execution_count": 185,
   "metadata": {},
   "outputs": [
    {
     "data": {
      "image/png": "[encoded data removed]",
      "text/plain": [
       "<Figure size 1200x600 with 1 Axes>"
      ]
     },
     "metadata": {},
     "output_type": "display_data"
    }
   ],
   "source": [
    "f = plt.figure(figsize=(12,6))\n",
    "sb.boxplot(data = locationRating, orient = 'h')\n",
    "plt.show()"
   ]
  },
  {
   "attachments": {},
   "cell_type": "markdown",
   "metadata": {},
   "source": [
    "INSIGHT : The boxplot suggest that the majority of the data points are tightly clustered in the upper region, with a mean of 4.70 and median of 5, which shows that for most of the listings that had reviews, their location was good for visitors."
   ]
  },
  {
   "cell_type": "markdown",
   "metadata": {},
   "source": [
    "---"
   ]
  },
  {
   "cell_type": "markdown",
   "metadata": {},
   "source": [
    "# 7. EDA on review_scores_value\n",
    "<b>Description</b> : The average score from 0 to 5 that rates whether an Airbnb listing's quality matches the price of the listing "
   ]
  },
  {
   "cell_type": "code",
   "execution_count": 186,
   "metadata": {},
   "outputs": [
    {
     "data": {
      "text/html": [
       "<div>\n",
       "<style scoped>\n",
       "    .dataframe tbody tr th:only-of-type {\n",
       "        vertical-align: middle;\n",
       "    }\n",
       "\n",
       "    .dataframe tbody tr th {\n",
       "        vertical-align: top;\n",
       "    }\n",
       "\n",
       "    .dataframe thead th {\n",
       "        text-align: right;\n",
       "    }\n",
       "</style>\n",
       "<table border=\"1\" class=\"dataframe\">\n",
       "  <thead>\n",
       "    <tr style=\"text-align: right;\">\n",
       "      <th></th>\n",
       "      <th>review_scores_value</th>\n",
       "    </tr>\n",
       "  </thead>\n",
       "  <tbody>\n",
       "    <tr>\n",
       "      <th>0</th>\n",
       "      <td>4.32</td>\n",
       "    </tr>\n",
       "    <tr>\n",
       "      <th>1</th>\n",
       "      <td>4.04</td>\n",
       "    </tr>\n",
       "    <tr>\n",
       "      <th>2</th>\n",
       "      <td>4.36</td>\n",
       "    </tr>\n",
       "    <tr>\n",
       "      <th>3</th>\n",
       "      <td>4.63</td>\n",
       "    </tr>\n",
       "    <tr>\n",
       "      <th>4</th>\n",
       "      <td>4.46</td>\n",
       "    </tr>\n",
       "    <tr>\n",
       "      <th>...</th>\n",
       "      <td>...</td>\n",
       "    </tr>\n",
       "    <tr>\n",
       "      <th>3030</th>\n",
       "      <td>NaN</td>\n",
       "    </tr>\n",
       "    <tr>\n",
       "      <th>3031</th>\n",
       "      <td>NaN</td>\n",
       "    </tr>\n",
       "    <tr>\n",
       "      <th>3032</th>\n",
       "      <td>NaN</td>\n",
       "    </tr>\n",
       "    <tr>\n",
       "      <th>3033</th>\n",
       "      <td>NaN</td>\n",
       "    </tr>\n",
       "    <tr>\n",
       "      <th>3034</th>\n",
       "      <td>NaN</td>\n",
       "    </tr>\n",
       "  </tbody>\n",
       "</table>\n",
       "<p>3035 rows × 1 columns</p>\n",
       "</div>"
      ],
      "text/plain": [
       "      review_scores_value\n",
       "0                    4.32\n",
       "1                    4.04\n",
       "2                    4.36\n",
       "3                    4.63\n",
       "4                    4.46\n",
       "...                   ...\n",
       "3030                  NaN\n",
       "3031                  NaN\n",
       "3032                  NaN\n",
       "3033                  NaN\n",
       "3034                  NaN\n",
       "\n",
       "[3035 rows x 1 columns]"
      ]
     },
     "execution_count": 186,
     "metadata": {},
     "output_type": "execute_result"
    }
   ],
   "source": [
    "valueRating = pd.DataFrame(airDF[\"review_scores_value\"])\n",
    "valueRating"
   ]
  },
  {
   "cell_type": "code",
   "execution_count": 187,
   "metadata": {},
   "outputs": [
    {
     "data": {
      "text/plain": [
       "review_scores_value\n",
       "5.00                   461\n",
       "4.00                   211\n",
       "4.50                   124\n",
       "3.00                    56\n",
       "4.67                    53\n",
       "                      ... \n",
       "4.04                     1\n",
       "4.18                     1\n",
       "4.05                     1\n",
       "4.09                     1\n",
       "0.00                     1\n",
       "Length: 117, dtype: int64"
      ]
     },
     "execution_count": 187,
     "metadata": {},
     "output_type": "execute_result"
    }
   ],
   "source": [
    "valueRating.value_counts()"
   ]
  },
  {
   "cell_type": "code",
   "execution_count": 188,
   "metadata": {},
   "outputs": [
    {
     "data": {
      "text/html": [
       "<div>\n",
       "<style scoped>\n",
       "    .dataframe tbody tr th:only-of-type {\n",
       "        vertical-align: middle;\n",
       "    }\n",
       "\n",
       "    .dataframe tbody tr th {\n",
       "        vertical-align: top;\n",
       "    }\n",
       "\n",
       "    .dataframe thead th {\n",
       "        text-align: right;\n",
       "    }\n",
       "</style>\n",
       "<table border=\"1\" class=\"dataframe\">\n",
       "  <thead>\n",
       "    <tr style=\"text-align: right;\">\n",
       "      <th></th>\n",
       "      <th>review_scores_value</th>\n",
       "    </tr>\n",
       "  </thead>\n",
       "  <tbody>\n",
       "    <tr>\n",
       "      <th>count</th>\n",
       "      <td>1711.000000</td>\n",
       "    </tr>\n",
       "    <tr>\n",
       "      <th>mean</th>\n",
       "      <td>4.471011</td>\n",
       "    </tr>\n",
       "    <tr>\n",
       "      <th>std</th>\n",
       "      <td>0.607347</td>\n",
       "    </tr>\n",
       "    <tr>\n",
       "      <th>min</th>\n",
       "      <td>0.000000</td>\n",
       "    </tr>\n",
       "    <tr>\n",
       "      <th>25%</th>\n",
       "      <td>4.250000</td>\n",
       "    </tr>\n",
       "    <tr>\n",
       "      <th>50%</th>\n",
       "      <td>4.600000</td>\n",
       "    </tr>\n",
       "    <tr>\n",
       "      <th>75%</th>\n",
       "      <td>5.000000</td>\n",
       "    </tr>\n",
       "    <tr>\n",
       "      <th>max</th>\n",
       "      <td>5.000000</td>\n",
       "    </tr>\n",
       "  </tbody>\n",
       "</table>\n",
       "</div>"
      ],
      "text/plain": [
       "       review_scores_value\n",
       "count          1711.000000\n",
       "mean              4.471011\n",
       "std               0.607347\n",
       "min               0.000000\n",
       "25%               4.250000\n",
       "50%               4.600000\n",
       "75%               5.000000\n",
       "max               5.000000"
      ]
     },
     "execution_count": 188,
     "metadata": {},
     "output_type": "execute_result"
    }
   ],
   "source": [
    "valueRating.describe()"
   ]
  },
  {
   "cell_type": "code",
   "execution_count": 189,
   "metadata": {},
   "outputs": [
    {
     "name": "stdout",
     "output_type": "stream",
     "text": [
      "Total Values: 3035, Null Values: 1324\n"
     ]
    }
   ],
   "source": [
    "#Find the number of null values as there seems to be alot.\n",
    "print(\"Total Values: {0}, Null Values: {1}\".format(len(valueRating), valueRating.isna().sum().sum()))"
   ]
  },
  {
   "cell_type": "code",
   "execution_count": 190,
   "metadata": {},
   "outputs": [
    {
     "data": {
      "text/html": [
       "<div>\n",
       "<style scoped>\n",
       "    .dataframe tbody tr th:only-of-type {\n",
       "        vertical-align: middle;\n",
       "    }\n",
       "\n",
       "    .dataframe tbody tr th {\n",
       "        vertical-align: top;\n",
       "    }\n",
       "\n",
       "    .dataframe thead th {\n",
       "        text-align: right;\n",
       "    }\n",
       "</style>\n",
       "<table border=\"1\" class=\"dataframe\">\n",
       "  <thead>\n",
       "    <tr style=\"text-align: right;\">\n",
       "      <th></th>\n",
       "      <th>review_scores_value</th>\n",
       "    </tr>\n",
       "  </thead>\n",
       "  <tbody>\n",
       "    <tr>\n",
       "      <th>count</th>\n",
       "      <td>1711.000000</td>\n",
       "    </tr>\n",
       "    <tr>\n",
       "      <th>mean</th>\n",
       "      <td>4.471011</td>\n",
       "    </tr>\n",
       "    <tr>\n",
       "      <th>std</th>\n",
       "      <td>0.607347</td>\n",
       "    </tr>\n",
       "    <tr>\n",
       "      <th>min</th>\n",
       "      <td>0.000000</td>\n",
       "    </tr>\n",
       "    <tr>\n",
       "      <th>25%</th>\n",
       "      <td>4.250000</td>\n",
       "    </tr>\n",
       "    <tr>\n",
       "      <th>50%</th>\n",
       "      <td>4.600000</td>\n",
       "    </tr>\n",
       "    <tr>\n",
       "      <th>75%</th>\n",
       "      <td>5.000000</td>\n",
       "    </tr>\n",
       "    <tr>\n",
       "      <th>max</th>\n",
       "      <td>5.000000</td>\n",
       "    </tr>\n",
       "  </tbody>\n",
       "</table>\n",
       "</div>"
      ],
      "text/plain": [
       "       review_scores_value\n",
       "count          1711.000000\n",
       "mean              4.471011\n",
       "std               0.607347\n",
       "min               0.000000\n",
       "25%               4.250000\n",
       "50%               4.600000\n",
       "75%               5.000000\n",
       "max               5.000000"
      ]
     },
     "execution_count": 190,
     "metadata": {},
     "output_type": "execute_result"
    }
   ],
   "source": [
    "valueRating = valueRating.dropna()\n",
    "valueRating.describe()"
   ]
  },
  {
   "cell_type": "code",
   "execution_count": 191,
   "metadata": {},
   "outputs": [
    {
     "data": {
      "image/png": "[encoded data removed]",
      "text/plain": [
       "<Figure size 1200x600 with 1 Axes>"
      ]
     },
     "metadata": {},
     "output_type": "display_data"
    }
   ],
   "source": [
    "f = plt.figure(figsize=(12,6))\n",
    "sb.boxplot(data = valueRating , orient = 'h')\n",
    "plt.show()"
   ]
  },
  {
   "cell_type": "markdown",
   "metadata": {},
   "source": [
    "INSIGHT :  Looking at the box plot, we can see that data points concentrated at the upper region, with a mean of 4.47, suggesting that the data is skewed towards the upper value. However, if we were to compare it to the other review_scores EDA, a mean of 4.47 is considered to be at the lower end."
   ]
  },
  {
   "cell_type": "markdown",
   "metadata": {},
   "source": [
    "---\n"
   ]
  },
  {
   "cell_type": "markdown",
   "metadata": {},
   "source": [
    "# 8. EDA on license\n",
    "<b>Description</b> : Indicates if the host is an authorised host        "
   ]
  },
  {
   "cell_type": "code",
   "execution_count": 192,
   "metadata": {},
   "outputs": [
    {
     "data": {
      "text/html": [
       "<div>\n",
       "<style scoped>\n",
       "    .dataframe tbody tr th:only-of-type {\n",
       "        vertical-align: middle;\n",
       "    }\n",
       "\n",
       "    .dataframe tbody tr th {\n",
       "        vertical-align: top;\n",
       "    }\n",
       "\n",
       "    .dataframe thead th {\n",
       "        text-align: right;\n",
       "    }\n",
       "</style>\n",
       "<table border=\"1\" class=\"dataframe\">\n",
       "  <thead>\n",
       "    <tr style=\"text-align: right;\">\n",
       "      <th></th>\n",
       "      <th>license</th>\n",
       "    </tr>\n",
       "  </thead>\n",
       "  <tbody>\n",
       "    <tr>\n",
       "      <th>0</th>\n",
       "      <td>NaN</td>\n",
       "    </tr>\n",
       "    <tr>\n",
       "      <th>1</th>\n",
       "      <td>NaN</td>\n",
       "    </tr>\n",
       "    <tr>\n",
       "      <th>2</th>\n",
       "      <td>NaN</td>\n",
       "    </tr>\n",
       "    <tr>\n",
       "      <th>3</th>\n",
       "      <td>S0399</td>\n",
       "    </tr>\n",
       "    <tr>\n",
       "      <th>4</th>\n",
       "      <td>S0399</td>\n",
       "    </tr>\n",
       "    <tr>\n",
       "      <th>...</th>\n",
       "      <td>...</td>\n",
       "    </tr>\n",
       "    <tr>\n",
       "      <th>3030</th>\n",
       "      <td>S7292</td>\n",
       "    </tr>\n",
       "    <tr>\n",
       "      <th>3031</th>\n",
       "      <td>S7292</td>\n",
       "    </tr>\n",
       "    <tr>\n",
       "      <th>3032</th>\n",
       "      <td>Authorised Serviced Apartment</td>\n",
       "    </tr>\n",
       "    <tr>\n",
       "      <th>3033</th>\n",
       "      <td>M3555</td>\n",
       "    </tr>\n",
       "    <tr>\n",
       "      <th>3034</th>\n",
       "      <td>Authorised Serviced Apartment</td>\n",
       "    </tr>\n",
       "  </tbody>\n",
       "</table>\n",
       "<p>3035 rows × 1 columns</p>\n",
       "</div>"
      ],
      "text/plain": [
       "                            license\n",
       "0                               NaN\n",
       "1                               NaN\n",
       "2                               NaN\n",
       "3                             S0399\n",
       "4                             S0399\n",
       "...                             ...\n",
       "3030                          S7292\n",
       "3031                          S7292\n",
       "3032  Authorised Serviced Apartment\n",
       "3033                          M3555\n",
       "3034  Authorised Serviced Apartment\n",
       "\n",
       "[3035 rows x 1 columns]"
      ]
     },
     "execution_count": 192,
     "metadata": {},
     "output_type": "execute_result"
    }
   ],
   "source": [
    "licenseDF = pd.DataFrame(airDF['license'])\n",
    "licenseDF"
   ]
  },
  {
   "cell_type": "code",
   "execution_count": 193,
   "metadata": {},
   "outputs": [
    {
     "name": "stdout",
     "output_type": "stream",
     "text": [
      "<class 'pandas.core.frame.DataFrame'>\n",
      "RangeIndex: 3035 entries, 0 to 3034\n",
      "Data columns (total 1 columns):\n",
      " #   Column   Non-Null Count  Dtype \n",
      "---  ------   --------------  ----- \n",
      " 0   license  969 non-null    object\n",
      "dtypes: object(1)\n",
      "memory usage: 23.8+ KB\n"
     ]
    }
   ],
   "source": [
    "licenseDF.info()"
   ]
  },
  {
   "cell_type": "code",
   "execution_count": 194,
   "metadata": {},
   "outputs": [
    {
     "data": {
      "text/html": [
       "<div>\n",
       "<style scoped>\n",
       "    .dataframe tbody tr th:only-of-type {\n",
       "        vertical-align: middle;\n",
       "    }\n",
       "\n",
       "    .dataframe tbody tr th {\n",
       "        vertical-align: top;\n",
       "    }\n",
       "\n",
       "    .dataframe thead th {\n",
       "        text-align: right;\n",
       "    }\n",
       "</style>\n",
       "<table border=\"1\" class=\"dataframe\">\n",
       "  <thead>\n",
       "    <tr style=\"text-align: right;\">\n",
       "      <th></th>\n",
       "      <th>license</th>\n",
       "    </tr>\n",
       "  </thead>\n",
       "  <tbody>\n",
       "    <tr>\n",
       "      <th>count</th>\n",
       "      <td>969</td>\n",
       "    </tr>\n",
       "    <tr>\n",
       "      <th>unique</th>\n",
       "      <td>109</td>\n",
       "    </tr>\n",
       "    <tr>\n",
       "      <th>top</th>\n",
       "      <td>Authorised Serviced Apartment</td>\n",
       "    </tr>\n",
       "    <tr>\n",
       "      <th>freq</th>\n",
       "      <td>506</td>\n",
       "    </tr>\n",
       "  </tbody>\n",
       "</table>\n",
       "</div>"
      ],
      "text/plain": [
       "                              license\n",
       "count                             969\n",
       "unique                            109\n",
       "top     Authorised Serviced Apartment\n",
       "freq                              506"
      ]
     },
     "execution_count": 194,
     "metadata": {},
     "output_type": "execute_result"
    }
   ],
   "source": [
    "licenseDF.describe()"
   ]
  },
  {
   "cell_type": "code",
   "execution_count": 195,
   "metadata": {},
   "outputs": [
    {
     "data": {
      "text/plain": [
       "license                      \n",
       "Authorised Serviced Apartment    506\n",
       "S0399                             61\n",
       "S0451                             16\n",
       "S0452                             16\n",
       "S7292                             15\n",
       "                                ... \n",
       "S2011                              1\n",
       "S0279                              1\n",
       "M6723                              1\n",
       "M7777                              1\n",
       "S0002                              1\n",
       "Length: 109, dtype: int64"
      ]
     },
     "execution_count": 195,
     "metadata": {},
     "output_type": "execute_result"
    }
   ],
   "source": [
    "licenseDF.value_counts()"
   ]
  },
  {
   "cell_type": "code",
   "execution_count": 196,
   "metadata": {},
   "outputs": [],
   "source": [
    "#create Boolean DataFrame of Nan values\n",
    "known_cols = licenseDF[licenseDF.notna().all(axis = 1)]\n",
    "nan_cols = licenseDF[licenseDF.isna().all(axis = 1)]"
   ]
  },
  {
   "cell_type": "code",
   "execution_count": 197,
   "metadata": {},
   "outputs": [
    {
     "data": {
      "image/png": "[encoded data removed]",
      "text/plain": [
       "<Figure size 2000x1000 with 1 Axes>"
      ]
     },
     "metadata": {},
     "output_type": "display_data"
    }
   ],
   "source": [
    "#create a boolean DataFrame of nan values\n",
    "groupedLicenseDF = licenseDF.isna()\n",
    "\n",
    "f= plt.figure(figsize = (20, 10))\n",
    "groupedLicenseDF.value_counts().plot(kind='bar')\n",
    "\n",
    "plt.xticks(rotation =0, ha = \"center\")\n",
    "plt.ylabel(\"count\")\n",
    "plt.show()"
   ]
  },
  {
   "cell_type": "code",
   "execution_count": 198,
   "metadata": {},
   "outputs": [
    {
     "name": "stdout",
     "output_type": "stream",
     "text": [
      "Total number of listings\t: 3035\n",
      "Hosts with a License\t\t: 969\n",
      "Hosts without a License\t\t: 2066\n",
      " \n",
      "31.93% of the hosts have a license\n",
      "68.07% of the hosts do not have a license\n"
     ]
    }
   ],
   "source": [
    "\n",
    "print(\"Total number of listings\\t:\",len(airDF))\n",
    "print(\"Hosts with a License\\t\\t:\", len(known_cols))\n",
    "print(\"Hosts without a License\\t\\t:\", len(nan_cols))\n",
    "print(\" \")\n",
    "print(\"{:.2%} of the hosts have a license\".format(len(known_cols)/len(airDF)))\n",
    "print(\"{:.2%} of the hosts do not have a license\".format(len(nan_cols)/len(airDF)))"
   ]
  },
  {
   "cell_type": "markdown",
   "metadata": {},
   "source": [
    "INSIGHT : Looking at the frequency plot, we can see that 31.93% of the hosts have a license and 68.07% do not have license, however note that hosts who are renting out their own properties do not need a license as long as it hits the minimum stay of 3months for private properties and 6 months for public housing. Hence, it is not surprising to see that majority of the hosts operate without a license."
   ]
  },
  {
   "cell_type": "markdown",
   "metadata": {},
   "source": [
    "---"
   ]
  },
  {
   "cell_type": "markdown",
   "metadata": {},
   "source": [
    "# 9. EDA on instant_bookable\n",
    "<b>Description</b> : A binary variable indicating if the listing is instantly bookable   "
   ]
  },
  {
   "cell_type": "code",
   "execution_count": 199,
   "metadata": {},
   "outputs": [
    {
     "data": {
      "text/html": [
       "<div>\n",
       "<style scoped>\n",
       "    .dataframe tbody tr th:only-of-type {\n",
       "        vertical-align: middle;\n",
       "    }\n",
       "\n",
       "    .dataframe tbody tr th {\n",
       "        vertical-align: top;\n",
       "    }\n",
       "\n",
       "    .dataframe thead th {\n",
       "        text-align: right;\n",
       "    }\n",
       "</style>\n",
       "<table border=\"1\" class=\"dataframe\">\n",
       "  <thead>\n",
       "    <tr style=\"text-align: right;\">\n",
       "      <th></th>\n",
       "      <th>instant_bookable</th>\n",
       "    </tr>\n",
       "  </thead>\n",
       "  <tbody>\n",
       "    <tr>\n",
       "      <th>0</th>\n",
       "      <td>f</td>\n",
       "    </tr>\n",
       "    <tr>\n",
       "      <th>1</th>\n",
       "      <td>t</td>\n",
       "    </tr>\n",
       "    <tr>\n",
       "      <th>2</th>\n",
       "      <td>f</td>\n",
       "    </tr>\n",
       "    <tr>\n",
       "      <th>3</th>\n",
       "      <td>f</td>\n",
       "    </tr>\n",
       "    <tr>\n",
       "      <th>4</th>\n",
       "      <td>f</td>\n",
       "    </tr>\n",
       "    <tr>\n",
       "      <th>...</th>\n",
       "      <td>...</td>\n",
       "    </tr>\n",
       "    <tr>\n",
       "      <th>3030</th>\n",
       "      <td>f</td>\n",
       "    </tr>\n",
       "    <tr>\n",
       "      <th>3031</th>\n",
       "      <td>f</td>\n",
       "    </tr>\n",
       "    <tr>\n",
       "      <th>3032</th>\n",
       "      <td>t</td>\n",
       "    </tr>\n",
       "    <tr>\n",
       "      <th>3033</th>\n",
       "      <td>f</td>\n",
       "    </tr>\n",
       "    <tr>\n",
       "      <th>3034</th>\n",
       "      <td>f</td>\n",
       "    </tr>\n",
       "  </tbody>\n",
       "</table>\n",
       "<p>3035 rows × 1 columns</p>\n",
       "</div>"
      ],
      "text/plain": [
       "     instant_bookable\n",
       "0                   f\n",
       "1                   t\n",
       "2                   f\n",
       "3                   f\n",
       "4                   f\n",
       "...               ...\n",
       "3030                f\n",
       "3031                f\n",
       "3032                t\n",
       "3033                f\n",
       "3034                f\n",
       "\n",
       "[3035 rows x 1 columns]"
      ]
     },
     "execution_count": 199,
     "metadata": {},
     "output_type": "execute_result"
    }
   ],
   "source": [
    "instantbookDF = pd.DataFrame(airDF['instant_bookable'])\n",
    "instantbookDF"
   ]
  },
  {
   "cell_type": "code",
   "execution_count": 200,
   "metadata": {},
   "outputs": [
    {
     "name": "stdout",
     "output_type": "stream",
     "text": [
      "<class 'pandas.core.frame.DataFrame'>\n",
      "RangeIndex: 3035 entries, 0 to 3034\n",
      "Data columns (total 1 columns):\n",
      " #   Column            Non-Null Count  Dtype \n",
      "---  ------            --------------  ----- \n",
      " 0   instant_bookable  3035 non-null   object\n",
      "dtypes: object(1)\n",
      "memory usage: 23.8+ KB\n"
     ]
    }
   ],
   "source": [
    "instantbookDF.info()"
   ]
  },
  {
   "cell_type": "code",
   "execution_count": 201,
   "metadata": {},
   "outputs": [
    {
     "data": {
      "text/plain": [
       "instant_bookable\n",
       "f                   1908\n",
       "t                   1127\n",
       "dtype: int64"
      ]
     },
     "execution_count": 201,
     "metadata": {},
     "output_type": "execute_result"
    }
   ],
   "source": [
    "instantbookDF.value_counts()"
   ]
  },
  {
   "cell_type": "code",
   "execution_count": 202,
   "metadata": {},
   "outputs": [
    {
     "data": {
      "text/plain": [
       "<AxesSubplot:xlabel='instant_bookable', ylabel='Count'>"
      ]
     },
     "execution_count": 202,
     "metadata": {},
     "output_type": "execute_result"
    },
    {
     "data": {
      "image/png": "[encoded data removed]",
      "text/plain": [
       "<Figure size 1500x500 with 1 Axes>"
      ]
     },
     "metadata": {},
     "output_type": "display_data"
    }
   ],
   "source": [
    "f= plt.figure(figsize = (15, 5))\n",
    "sb.histplot(data = instantbookDF[\"instant_bookable\"])"
   ]
  },
  {
   "cell_type": "markdown",
   "metadata": {},
   "source": [
    "INSIGHT : The frequency plot suggests that majority of hosts did not enable the instant bookable feature on airbnb - with a count of 1908 that chose not to enable this feature and 1127 of them chose to enable it."
   ]
  },
  {
   "attachments": {},
   "cell_type": "markdown",
   "metadata": {},
   "source": [
    "# 10. EDA on number_of_reviews\n",
    "<b>Description</b> : total number of reviews for each Airbnb listing    "
   ]
  },
  {
   "cell_type": "code",
   "execution_count": 203,
   "metadata": {},
   "outputs": [
    {
     "data": {
      "text/html": [
       "<div>\n",
       "<style scoped>\n",
       "    .dataframe tbody tr th:only-of-type {\n",
       "        vertical-align: middle;\n",
       "    }\n",
       "\n",
       "    .dataframe tbody tr th {\n",
       "        vertical-align: top;\n",
       "    }\n",
       "\n",
       "    .dataframe thead th {\n",
       "        text-align: right;\n",
       "    }\n",
       "</style>\n",
       "<table border=\"1\" class=\"dataframe\">\n",
       "  <thead>\n",
       "    <tr style=\"text-align: right;\">\n",
       "      <th></th>\n",
       "      <th>number_of_reviews</th>\n",
       "    </tr>\n",
       "  </thead>\n",
       "  <tbody>\n",
       "    <tr>\n",
       "      <th>0</th>\n",
       "      <td>20</td>\n",
       "    </tr>\n",
       "    <tr>\n",
       "      <th>1</th>\n",
       "      <td>24</td>\n",
       "    </tr>\n",
       "    <tr>\n",
       "      <th>2</th>\n",
       "      <td>47</td>\n",
       "    </tr>\n",
       "    <tr>\n",
       "      <th>3</th>\n",
       "      <td>22</td>\n",
       "    </tr>\n",
       "    <tr>\n",
       "      <th>4</th>\n",
       "      <td>14</td>\n",
       "    </tr>\n",
       "    <tr>\n",
       "      <th>...</th>\n",
       "      <td>...</td>\n",
       "    </tr>\n",
       "    <tr>\n",
       "      <th>3030</th>\n",
       "      <td>0</td>\n",
       "    </tr>\n",
       "    <tr>\n",
       "      <th>3031</th>\n",
       "      <td>0</td>\n",
       "    </tr>\n",
       "    <tr>\n",
       "      <th>3032</th>\n",
       "      <td>0</td>\n",
       "    </tr>\n",
       "    <tr>\n",
       "      <th>3033</th>\n",
       "      <td>0</td>\n",
       "    </tr>\n",
       "    <tr>\n",
       "      <th>3034</th>\n",
       "      <td>0</td>\n",
       "    </tr>\n",
       "  </tbody>\n",
       "</table>\n",
       "<p>3035 rows × 1 columns</p>\n",
       "</div>"
      ],
      "text/plain": [
       "      number_of_reviews\n",
       "0                    20\n",
       "1                    24\n",
       "2                    47\n",
       "3                    22\n",
       "4                    14\n",
       "...                 ...\n",
       "3030                  0\n",
       "3031                  0\n",
       "3032                  0\n",
       "3033                  0\n",
       "3034                  0\n",
       "\n",
       "[3035 rows x 1 columns]"
      ]
     },
     "execution_count": 203,
     "metadata": {},
     "output_type": "execute_result"
    }
   ],
   "source": [
    "numberOfReviewsDF = pd.DataFrame(airDF[\"number_of_reviews\"])\n",
    "numberOfReviewsDF"
   ]
  },
  {
   "cell_type": "code",
   "execution_count": 204,
   "metadata": {},
   "outputs": [
    {
     "name": "stdout",
     "output_type": "stream",
     "text": [
      "<class 'pandas.core.frame.DataFrame'>\n",
      "RangeIndex: 3035 entries, 0 to 3034\n",
      "Data columns (total 1 columns):\n",
      " #   Column             Non-Null Count  Dtype\n",
      "---  ------             --------------  -----\n",
      " 0   number_of_reviews  3035 non-null   int64\n",
      "dtypes: int64(1)\n",
      "memory usage: 23.8 KB\n"
     ]
    }
   ],
   "source": [
    "numberOfReviewsDF.info()"
   ]
  },
  {
   "cell_type": "code",
   "execution_count": 205,
   "metadata": {},
   "outputs": [
    {
     "data": {
      "text/html": [
       "<div>\n",
       "<style scoped>\n",
       "    .dataframe tbody tr th:only-of-type {\n",
       "        vertical-align: middle;\n",
       "    }\n",
       "\n",
       "    .dataframe tbody tr th {\n",
       "        vertical-align: top;\n",
       "    }\n",
       "\n",
       "    .dataframe thead th {\n",
       "        text-align: right;\n",
       "    }\n",
       "</style>\n",
       "<table border=\"1\" class=\"dataframe\">\n",
       "  <thead>\n",
       "    <tr style=\"text-align: right;\">\n",
       "      <th></th>\n",
       "      <th>number_of_reviews</th>\n",
       "    </tr>\n",
       "  </thead>\n",
       "  <tbody>\n",
       "    <tr>\n",
       "      <th>count</th>\n",
       "      <td>3035.000000</td>\n",
       "    </tr>\n",
       "    <tr>\n",
       "      <th>mean</th>\n",
       "      <td>10.148600</td>\n",
       "    </tr>\n",
       "    <tr>\n",
       "      <th>std</th>\n",
       "      <td>29.575841</td>\n",
       "    </tr>\n",
       "    <tr>\n",
       "      <th>min</th>\n",
       "      <td>0.000000</td>\n",
       "    </tr>\n",
       "    <tr>\n",
       "      <th>25%</th>\n",
       "      <td>0.000000</td>\n",
       "    </tr>\n",
       "    <tr>\n",
       "      <th>50%</th>\n",
       "      <td>1.000000</td>\n",
       "    </tr>\n",
       "    <tr>\n",
       "      <th>75%</th>\n",
       "      <td>5.000000</td>\n",
       "    </tr>\n",
       "    <tr>\n",
       "      <th>max</th>\n",
       "      <td>369.000000</td>\n",
       "    </tr>\n",
       "  </tbody>\n",
       "</table>\n",
       "</div>"
      ],
      "text/plain": [
       "       number_of_reviews\n",
       "count        3035.000000\n",
       "mean           10.148600\n",
       "std            29.575841\n",
       "min             0.000000\n",
       "25%             0.000000\n",
       "50%             1.000000\n",
       "75%             5.000000\n",
       "max           369.000000"
      ]
     },
     "execution_count": 205,
     "metadata": {},
     "output_type": "execute_result"
    }
   ],
   "source": [
    "numberOfReviewsDF.describe()"
   ]
  },
  {
   "cell_type": "code",
   "execution_count": 206,
   "metadata": {},
   "outputs": [
    {
     "data": {
      "text/plain": [
       "<AxesSubplot:>"
      ]
     },
     "execution_count": 206,
     "metadata": {},
     "output_type": "execute_result"
    },
    {
     "data": {
      "image/png": "[encoded data removed]",
      "text/plain": [
       "<Figure size 1200x600 with 1 Axes>"
      ]
     },
     "metadata": {},
     "output_type": "display_data"
    }
   ],
   "source": [
    "f = plt.figure(figsize=(12,6))\n",
    "sb.boxplot(data = numberOfReviewsDF , orient = 'h')"
   ]
  },
  {
   "cell_type": "code",
   "execution_count": 218,
   "metadata": {},
   "outputs": [
    {
     "data": {
      "image/png": "[encoded data removed]",
      "text/plain": [
       "<Figure size 1500x500 with 1 Axes>"
      ]
     },
     "metadata": {},
     "output_type": "display_data"
    }
   ],
   "source": [
    "f= plt.figure(figsize = (15, 5))\n",
    "plt.xticks(np.arange(0, len(numberOfReviewsDF[\"number_of_reviews\"].unique()), step=1))  # Set label locations.\n",
    "sb.histplot(data = numberOfReviewsDF).set(xlabel = \"Number of Reviews\")\n",
    "None"
   ]
  },
  {
   "attachments": {},
   "cell_type": "markdown",
   "metadata": {},
   "source": [
    "### There are quite a few outliers, let us take a look without the outliers to find the trend"
   ]
  },
  {
   "cell_type": "code",
   "execution_count": 208,
   "metadata": {},
   "outputs": [
    {
     "data": {
      "text/html": [
       "<div>\n",
       "<style scoped>\n",
       "    .dataframe tbody tr th:only-of-type {\n",
       "        vertical-align: middle;\n",
       "    }\n",
       "\n",
       "    .dataframe tbody tr th {\n",
       "        vertical-align: top;\n",
       "    }\n",
       "\n",
       "    .dataframe thead th {\n",
       "        text-align: right;\n",
       "    }\n",
       "</style>\n",
       "<table border=\"1\" class=\"dataframe\">\n",
       "  <thead>\n",
       "    <tr style=\"text-align: right;\">\n",
       "      <th></th>\n",
       "      <th>number_of_reviews</th>\n",
       "    </tr>\n",
       "  </thead>\n",
       "  <tbody>\n",
       "    <tr>\n",
       "      <th>5</th>\n",
       "      <td>12</td>\n",
       "    </tr>\n",
       "    <tr>\n",
       "      <th>8</th>\n",
       "      <td>12</td>\n",
       "    </tr>\n",
       "    <tr>\n",
       "      <th>9</th>\n",
       "      <td>4</td>\n",
       "    </tr>\n",
       "    <tr>\n",
       "      <th>14</th>\n",
       "      <td>0</td>\n",
       "    </tr>\n",
       "    <tr>\n",
       "      <th>16</th>\n",
       "      <td>0</td>\n",
       "    </tr>\n",
       "    <tr>\n",
       "      <th>...</th>\n",
       "      <td>...</td>\n",
       "    </tr>\n",
       "    <tr>\n",
       "      <th>3030</th>\n",
       "      <td>0</td>\n",
       "    </tr>\n",
       "    <tr>\n",
       "      <th>3031</th>\n",
       "      <td>0</td>\n",
       "    </tr>\n",
       "    <tr>\n",
       "      <th>3032</th>\n",
       "      <td>0</td>\n",
       "    </tr>\n",
       "    <tr>\n",
       "      <th>3033</th>\n",
       "      <td>0</td>\n",
       "    </tr>\n",
       "    <tr>\n",
       "      <th>3034</th>\n",
       "      <td>0</td>\n",
       "    </tr>\n",
       "  </tbody>\n",
       "</table>\n",
       "<p>2568 rows × 1 columns</p>\n",
       "</div>"
      ],
      "text/plain": [
       "      number_of_reviews\n",
       "5                    12\n",
       "8                    12\n",
       "9                     4\n",
       "14                    0\n",
       "16                    0\n",
       "...                 ...\n",
       "3030                  0\n",
       "3031                  0\n",
       "3032                  0\n",
       "3033                  0\n",
       "3034                  0\n",
       "\n",
       "[2568 rows x 1 columns]"
      ]
     },
     "execution_count": 208,
     "metadata": {},
     "output_type": "execute_result"
    }
   ],
   "source": [
    "numberOfReviewsDF = remove_outliers(numberOfReviewsDF, [\"number_of_reviews\"])\n",
    "numberOfReviewsDF"
   ]
  },
  {
   "cell_type": "code",
   "execution_count": 209,
   "metadata": {},
   "outputs": [
    {
     "data": {
      "text/plain": [
       "number_of_reviews\n",
       "0                    1291\n",
       "1                     455\n",
       "2                     244\n",
       "3                     134\n",
       "4                      93\n",
       "5                      76\n",
       "6                      66\n",
       "8                      45\n",
       "7                      44\n",
       "9                      37\n",
       "10                     33\n",
       "12                     28\n",
       "11                     22\n",
       "dtype: int64"
      ]
     },
     "execution_count": 209,
     "metadata": {},
     "output_type": "execute_result"
    }
   ],
   "source": [
    "numberOfReviewsDF.value_counts()"
   ]
  },
  {
   "cell_type": "code",
   "execution_count": 210,
   "metadata": {},
   "outputs": [
    {
     "data": {
      "text/plain": [
       "<AxesSubplot:>"
      ]
     },
     "execution_count": 210,
     "metadata": {},
     "output_type": "execute_result"
    },
    {
     "data": {
      "image/png": "[encoded data removed]",
      "text/plain": [
       "<Figure size 1200x600 with 1 Axes>"
      ]
     },
     "metadata": {},
     "output_type": "display_data"
    }
   ],
   "source": [
    "f = plt.figure(figsize=(12,6))\n",
    "sb.boxplot(data = numberOfReviewsDF , orient = 'h')"
   ]
  },
  {
   "cell_type": "code",
   "execution_count": 217,
   "metadata": {},
   "outputs": [
    {
     "data": {
      "image/png": "[encoded data removed]",
      "text/plain": [
       "<Figure size 1500x500 with 1 Axes>"
      ]
     },
     "metadata": {},
     "output_type": "display_data"
    }
   ],
   "source": [
    "f= plt.figure(figsize = (15, 5))\n",
    "plt.xticks(np.arange(0, len(numberOfReviewsDF[\"number_of_reviews\"].unique()), step=1))  # Set label locations.\n",
    "sb.histplot(data = numberOfReviewsDF, kde = True).set(xlabel = \"Number of Reviews\")\n",
    "None"
   ]
  },
  {
   "attachments": {},
   "cell_type": "markdown",
   "metadata": {},
   "source": [
    "Insight: We can see that majority of listings had 0 reviews, which means that possibly we should only consider houses that have high number of reviews for our prediction."
   ]
  },
  {
   "attachments": {},
   "cell_type": "markdown",
   "metadata": {},
   "source": [
    "---\n",
    "## INSIGHT CONCLUSION: \n",
    "\n",
    "Majority of the variables in the dataset are skewed to the right suggests that there many be some significant differences between the upper and lower values. Most of the data points are concentrated on the upper end of the range, with a few outliers that extend to the lower tail of the distribution. In conclusion, we can assume that with a higher reviews rating or score can potentially help us to attract more guests and ultimately maximizing our profit as an Airbnb Host. However, it is important to note that it is not the only factor / key factor that influences booking rates and profitability."
   ]
  }
 ],
 "metadata": {
  "kernelspec": {
   "display_name": "Python 3 (ipykernel)",
   "language": "python",
   "name": "python3"
  },
  "language_info": {
   "codemirror_mode": {
    "name": "ipython",
    "version": 3
   },
   "file_extension": ".py",
   "mimetype": "text/x-python",
   "name": "python",
   "nbconvert_exporter": "python",
   "pygments_lexer": "ipython3",
   "version": "3.9.13"
  },
  "vscode": {
   "interpreter": {
    "hash": "940f12be6d1e3c772de5e10a7b94e682f51674366be4bae6e0d292c730fd019e"
   }
  }
 },
 "nbformat": 4,
 "nbformat_minor": 2
}
